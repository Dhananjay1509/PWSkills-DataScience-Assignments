{
 "cells": [
  {
   "cell_type": "raw",
   "id": "303bc92f-16e2-4096-b55a-9b588c01f171",
   "metadata": {},
   "source": [
    "Q1. What is Abstraction in OOps? Explain with an example.\n",
    "\n",
    "Abstraction in Object-Oriented Programming (OOPs) is the process of hiding unnecessary details and displaying only the necessary information. It is a fundamental concept in OOPs that simplifies complex systems by focusing on essential attributes and behaviors. Abstraction helps in reducing programming complexity and efforts by hiding internal implementation details from the user.\n",
    "\n",
    "Example of Abstraction\n",
    "\n",
    "In this example, the BankAccount class is an abstract class that defines the deposit and withdraw methods. The SavingsAccount class inherits from BankAccount and provides the implementation for these methods. This is an example of abstraction, where the internal details of the SavingsAccount class are hidden, and only the necessary methods are exposed to the user."
   ]
  },
  {
   "cell_type": "code",
   "execution_count": 1,
   "id": "6f660359-c97d-4d94-8e4e-0c84e63f0071",
   "metadata": {},
   "outputs": [
    {
     "name": "stdout",
     "output_type": "stream",
     "text": [
      "1500\n",
      "1300\n"
     ]
    }
   ],
   "source": [
    "from abc import ABC, abstractmethod\n",
    "\n",
    "class BankAccount(ABC):\n",
    "    @abstractmethod\n",
    "    def deposit(self, amount):\n",
    "        pass\n",
    "\n",
    "    @abstractmethod\n",
    "    def withdraw(self, amount):\n",
    "        pass\n",
    "\n",
    "class SavingsAccount(BankAccount):\n",
    "    def __init__(self, account_number, balance):\n",
    "        self.account_number = account_number\n",
    "        self.balance = balance\n",
    "\n",
    "    def deposit(self, amount):\n",
    "        self.balance += amount\n",
    "\n",
    "    def withdraw(self, amount):\n",
    "        if amount > self.balance:\n",
    "            print(\"Insufficient balance\")\n",
    "        else:\n",
    "            self.balance -= amount\n",
    "\n",
    "# Usage\n",
    "savings_account = SavingsAccount(\"1234567890\", 1000)\n",
    "savings_account.deposit(500)\n",
    "print(savings_account.balance)  # Output: 1500\n",
    "savings_account.withdraw(200)\n",
    "print(savings_account.balance)  # Output: 1300"
   ]
  },
  {
   "cell_type": "raw",
   "id": "76bc53f2-db97-4948-aeae-58f45c0f01b6",
   "metadata": {},
   "source": [
    "Q2. Differentiate between Abstraction and Encapsulation. Explain with an example.\n",
    "\n",
    "Abstraction:\n",
    "Focus: Emphasizes what an object does.\n",
    "Purpose: Hides complex implementation details.\n",
    "Example: A 'Shape' class with methods like 'calculate_area()' and 'calculate_perimeter()' that are defined as abstract. Subclasses like 'Circle' and 'Rectangle' provide specific implementations.\n",
    "\n",
    "Encapsulation:\n",
    "Focus: Bundles data (attributes) and methods (functions) into a single unit (class).\n",
    "Purpose: Restricts direct access to some object components, promoting data hiding.\n",
    "Example: A Car class with private attributes ('make', 'model') accessed through public methods ('start()', 'stop()')."
   ]
  },
  {
   "cell_type": "raw",
   "id": "fa966e7c-4cf0-4f07-9e72-9f5ae5ccac59",
   "metadata": {},
   "source": [
    "Q3. What is abc module in python? Why is it used?\n",
    "\n",
    "The abc module in Python stands for \"Abstract Base Classes\". It provides tools for defining abstract base classes in Python. Abstract base classes are classes that are meant to be inherited by other classes, but not instantiated themselves. They define a blueprint for other classes to follow.\n",
    "\n",
    "Purpose:\n",
    "1.Define Interfaces: It allows you to define a common interface for a group of related classes.\n",
    "2.Enforce Structure: It enforces that derived classes implement particular methods from the base class.\n",
    "3.Documentation: It serves as documentation for other developers, showing them what methods are expected in derived classes.\n"
   ]
  },
  {
   "cell_type": "raw",
   "id": "9d093d12-78c0-4046-a02f-94842c04b8ce",
   "metadata": {},
   "source": [
    "Q4. How can we achieve data abstraction?\n",
    "\n",
    "Data abstraction in OOP can be achieved through the following mechanisms:\n",
    "\n",
    "Abstract Classes and Interfaces: Abstract classes in languages like Python (using the abc module) and interfaces in languages like Java provide a way to define abstract types that can't be instantiated directly but can be inherited by other classes.\n",
    "\n",
    "Access Modifiers: Using access modifiers like private (private or _ in Python), protected (protected in some languages), and public (default access) helps in encapsulating data and exposing it only through controlled methods.\n",
    "\n",
    "Method Overriding and Polymorphism: By defining methods in a superclass that can be overridden in subclasses, you allow for different implementations while abstracting away the details in the superclass."
   ]
  },
  {
   "cell_type": "raw",
   "id": "ad7967ac-a8bf-4ce9-8d54-ada87fe6f367",
   "metadata": {},
   "source": [
    "Q5. Can we create an instance of an abstract class? Explain your answer.\n",
    "\n",
    "No, you cannot create an instance of an abstract class in Python. Abstract classes are designed to be used as base classes for other classes, and they cannot be instantiated directly. This is because abstract classes typically contain abstract methods that must be implemented by their subclasses.\n",
    "Example of Abstract Class Instantiation\n",
    "Here is an example of how you cannot create an instance of an abstract class:\n"
   ]
  },
  {
   "cell_type": "code",
   "execution_count": 2,
   "id": "4b4826e7-946b-42e1-835e-d2f681cc1824",
   "metadata": {},
   "outputs": [
    {
     "name": "stdout",
     "output_type": "stream",
     "text": [
      "Can't instantiate abstract class Animal with abstract method sound\n",
      "Woof!\n",
      "Meow!\n"
     ]
    }
   ],
   "source": [
    "from abc import ABC, abstractmethod\n",
    "\n",
    "class Animal(ABC):\n",
    "    @abstractmethod\n",
    "    def sound(self):\n",
    "        pass\n",
    "\n",
    "class Dog(Animal):\n",
    "    def sound(self):\n",
    "        print(\"Woof!\")\n",
    "\n",
    "class Cat(Animal):\n",
    "    def sound(self):\n",
    "        print(\"Meow!\")\n",
    "\n",
    "# Attempting to create an instance of the abstract class Animal\n",
    "try:\n",
    "    animal = Animal()\n",
    "    animal.sound()\n",
    "except TypeError as err:\n",
    "    print(err)\n",
    "\n",
    "# Output:\n",
    "# TypeError: Can't instantiate abstract class Animal with abstract methods sound\n",
    "\n",
    "# Creating instances of the subclasses\n",
    "dog = Dog()\n",
    "cat = Cat()\n",
    "\n",
    "dog.sound()  # Output: Woof!\n",
    "cat.sound()  # Output: Meow!"
   ]
  },
  {
   "cell_type": "code",
   "execution_count": null,
   "id": "0aa3bc03-8309-4596-9e52-901cf539781c",
   "metadata": {},
   "outputs": [],
   "source": []
  }
 ],
 "metadata": {
  "kernelspec": {
   "display_name": "Python 3 (ipykernel)",
   "language": "python",
   "name": "python3"
  },
  "language_info": {
   "codemirror_mode": {
    "name": "ipython",
    "version": 3
   },
   "file_extension": ".py",
   "mimetype": "text/x-python",
   "name": "python",
   "nbconvert_exporter": "python",
   "pygments_lexer": "ipython3",
   "version": "3.11.8"
  }
 },
 "nbformat": 4,
 "nbformat_minor": 5
}
