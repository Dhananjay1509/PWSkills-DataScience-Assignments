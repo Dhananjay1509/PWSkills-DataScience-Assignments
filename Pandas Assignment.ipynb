{
 "cells": [
  {
   "cell_type": "markdown",
   "id": "6200313d-ec73-4c90-8036-01726f719cb7",
   "metadata": {},
   "source": [
    "Q1. List any five functions of the pandas library with execution.\n",
    "\n",
    "five functions of the pandas library with execution:"
   ]
  },
  {
   "cell_type": "code",
   "execution_count": 1,
   "id": "4f54ecf6-6612-42c7-9d12-a5ea13acd50e",
   "metadata": {},
   "outputs": [
    {
     "name": "stdout",
     "output_type": "stream",
     "text": [
      "   Index      Customer Id First Name Last Name  \\\n",
      "0      1  DD37Cf93aecA6Dc     Sheryl    Baxter   \n",
      "1      2  1Ef7b82A4CAAD10    Preston    Lozano   \n",
      "2      3  6F94879bDAfE5a6        Roy     Berry   \n",
      "3      4  5Cef8BFA16c5e3c      Linda     Olsen   \n",
      "4      5  053d585Ab6b3159     Joanna    Bender   \n",
      "\n",
      "                           Company               City  \\\n",
      "0                  Rasmussen Group       East Leonard   \n",
      "1                      Vega-Gentry  East Jimmychester   \n",
      "2                    Murillo-Perry      Isabelborough   \n",
      "3  Dominguez, Mcmillan and Donovan         Bensonview   \n",
      "4         Martin, Lang and Andrade     West Priscilla   \n",
      "\n",
      "                      Country                 Phone 1                Phone 2  \\\n",
      "0                       Chile            229.077.5154       397.884.0519x718   \n",
      "1                    Djibouti              5153435776       686-620-1820x944   \n",
      "2         Antigua and Barbuda         +1-539-402-0259    (496)978-3969x58947   \n",
      "3          Dominican Republic  001-808-617-6467x12895        +1-813-324-8756   \n",
      "4  Slovakia (Slovak Republic)  001-234-203-0635x76146  001-199-446-3860x3486   \n",
      "\n",
      "                         Email Subscription Date                      Website  \n",
      "0     zunigavanessa@smith.info        2020-08-24   http://www.stephenson.com/  \n",
      "1              vmata@colon.com        2021-04-23        http://www.hobbs.com/  \n",
      "2          beckycarr@hogan.com        2020-03-25     http://www.lawrence.com/  \n",
      "3  stanleyblackwell@benson.org        2020-06-02   http://www.good-lyons.com/  \n",
      "4      colinalvarado@miles.net        2021-04-17  https://goodwin-ingram.com/  \n",
      "   A\n",
      "0  1\n",
      "1  2\n",
      "2  3\n",
      "A\n",
      "1     30\n",
      "2     70\n",
      "3    110\n",
      "Name: B, dtype: int64\n",
      "   A   B    C\n",
      "0  1  10  100\n",
      "1  2  20  200\n",
      "2  3  30  300\n",
      "B     10     20     30     40     50     60\n",
      "A                                          \n",
      "1  100.0  200.0    NaN    NaN    NaN    NaN\n",
      "2    NaN    NaN  300.0  400.0    NaN    NaN\n",
      "3    NaN    NaN    NaN    NaN  500.0  600.0\n"
     ]
    }
   ],
   "source": [
    "# 1) read_csv(): Read a comma-separated values (csv) file into a DataFrame.\n",
    "\n",
    "import pandas as pd\n",
    "df = pd.read_csv('data.csv')\n",
    "print(df.head()) \n",
    "\n",
    "# 2) head(): Return the first n rows of the DataFrame.\n",
    "import pandas as pd\n",
    "df = pd.DataFrame({'A': [1, 2, 3, 4, 5]})\n",
    "print(df.head(3)) \n",
    "\n",
    "# 3) groupby(): Group the DataFrame by one or more columns and perform aggregation operations.\n",
    "import pandas as pd\n",
    "df = pd.DataFrame({'A': [1, 1, 2, 2, 3, 3], 'B': [10, 20, 30, 40, 50, 60]})\n",
    "print(df.groupby('A')['B'].sum()) \n",
    "\n",
    "# 4) merge(): Merge two DataFrames based on a common column.\n",
    "import pandas as pd\n",
    "df1 = pd.DataFrame({'A': [1, 2, 3], 'B': [10, 20, 30]})\n",
    "df2 = pd.DataFrame({'A': [1, 2, 3], 'C': [100, 200, 300]})\n",
    "print(pd.merge(df1, df2, on='A'))  \n",
    "\n",
    "# 5) pivot_table(): Create a pivot table from a DataFrame.\n",
    "import pandas as pd\n",
    "df = pd.DataFrame({'A': [1, 1, 2, 2, 3, 3], 'B': [10, 20, 30, 40, 50, 60], 'C': [100, 200, 300, 400, 500, 600]})\n",
    "print(pd.pivot_table(df, values='C', index='A', columns='B')) "
   ]
  },
  {
   "cell_type": "markdown",
   "id": "887ad7ac-a69d-4db7-ac18-5713d76cb0f4",
   "metadata": {},
   "source": [
    "Q2. Given a Pandas DataFrame df with columns 'A', 'B', and 'C', write a Python function to re-index the\n",
    "DataFrame with a new index that starts from 1 and increments by 2 for each row.\n"
   ]
  },
  {
   "cell_type": "markdown",
   "id": "494b15eb-6cff-4fd9-a30c-e48d0d9f711e",
   "metadata": {},
   "source": [
    "Q3. You have a Pandas DataFrame df with a column named 'Values'. Write a Python function that\n",
    "iterates over the DataFrame and calculates the sum of the first three values in the 'Values' column. The\n",
    "function should print the sum to the console.\n",
    "For example, if the 'Values' column of df contains the values [10, 20, 30, 40, 50], your function should\n",
    "calculate and print the sum of the first three values, which is 60.\n",
    "\n"
   ]
  },
  {
   "cell_type": "code",
   "execution_count": 2,
   "id": "9bc8ca5b-6ebb-4ffa-a2ef-bf960cb423b5",
   "metadata": {},
   "outputs": [
    {
     "name": "stdout",
     "output_type": "stream",
     "text": [
      "The sum of the first three values is: 60\n"
     ]
    }
   ],
   "source": [
    "import pandas as pd\n",
    "\n",
    "def sum_first_three_values(df):\n",
    "    \"\"\"\n",
    "    Calculates and prints the sum of the first three values in the 'Values' column of the DataFrame df.\n",
    "    \n",
    "    Parameters:\n",
    "    df (pd.DataFrame): DataFrame containing a 'Values' column.\n",
    "    \"\"\"\n",
    "    # Check if 'Values' column exists and has at least three entries\n",
    "    if 'Values' in df.columns and len(df['Values']) >= 3:\n",
    "        # Calculate the sum of the first three values\n",
    "        total_sum = df['Values'].iloc[:3].sum()\n",
    "        print(f\"The sum of the first three values is: {total_sum}\")\n",
    "    else:\n",
    "        print(\"The 'Values' column does not exist or does not have enough entries.\")\n",
    "\n",
    "# Example usage:\n",
    "# Creating a sample DataFrame\n",
    "df = pd.DataFrame({\n",
    "    'Values': [10, 20, 30, 40, 50]\n",
    "})\n",
    "\n",
    "# Calling the function\n",
    "sum_first_three_values(df)"
   ]
  },
  {
   "cell_type": "code",
   "execution_count": 3,
   "id": "4a31ca3b-17d0-47d5-b884-a44882528cfe",
   "metadata": {},
   "outputs": [
    {
     "name": "stdout",
     "output_type": "stream",
     "text": [
      "60\n"
     ]
    }
   ],
   "source": [
    "import pandas as pd\n",
    "\n",
    "def sum_first_three(df):\n",
    "    return df['Values'].head(3).sum()\n",
    "\n",
    "df = pd.DataFrame({'Values': [10, 20, 30, 40, 50]})\n",
    "print(sum_first_three(df))  # output: 60"
   ]
  },
  {
   "cell_type": "markdown",
   "id": "be54867d-66e8-43c7-bbe2-56268a92b281",
   "metadata": {},
   "source": [
    "Q4. Given a Pandas DataFrame df with a column 'Text', write a Python function to create a new column\n",
    "'Word_Count' that contains the number of words in each row of the 'Text' column.\n"
   ]
  },
  {
   "cell_type": "code",
   "execution_count": 4,
   "id": "a3483803-86a7-42cc-8b0c-2f8567ea3c2f",
   "metadata": {},
   "outputs": [
    {
     "name": "stdout",
     "output_type": "stream",
     "text": [
      "             Text  Word_Count\n",
      "0     hello world           2\n",
      "1  this is a test           4\n",
      "2     hello again           2\n"
     ]
    }
   ],
   "source": [
    "import pandas as pd\n",
    "def word_count(df):\n",
    "    df['Word_Count'] = df['Text'].apply(lambda x: len(x.split()))\n",
    "    return df\n",
    "\n",
    "df = pd.DataFrame({'Text': ['hello world', 'this is a test', 'hello again']})\n",
    "print(word_count(df))"
   ]
  },
  {
   "cell_type": "markdown",
   "id": "bd2813d1-2dab-413e-a07d-ecc4cfd2a2d0",
   "metadata": {},
   "source": [
    "Q5. How are DataFrame.size() and DataFrame.shape() different?\n",
    "\n",
    "DataFrame.size() returns the total number of elements in the DataFrame, which is the product of the number of rows and columns.\n",
    "DataFrame.shape() returns a tuple containing the number of rows and columns in the DataFrame.\n",
    "\n",
    "For example, if a DataFrame has 3 rows and 4 columns, DataFrame.size() would return 12 (3 x 4), and DataFrame.shape() would return (3, 4)."
   ]
  },
  {
   "cell_type": "markdown",
   "id": "939b4b37-6244-49e9-ad4f-86cacf5c0090",
   "metadata": {},
   "source": [
    "Q6. Which function of pandas do we use to read an excel file?\n",
    "\n",
    "We use the read_excel() function to read an Excel file."
   ]
  },
  {
   "cell_type": "markdown",
   "id": "12e9bbc3-c402-41b6-a399-ab4cfe2c1ff1",
   "metadata": {},
   "source": [
    "Q7. You have a Pandas DataFrame df that contains a column named 'Email' that contains email addresses in the format 'username@domain.com'. Write a Python function that creates a new column 'Username' in df that contains only the username part of each email address.\n",
    "The username is the part of the email address that appears before the '@' symbol. For example, if the email address is 'john.doe@example.com', the 'Username' column should contain 'john.doe'. Your function should extract the username from each email address and store it in the new 'Username' column."
   ]
  },
  {
   "cell_type": "code",
   "execution_count": 5,
   "id": "b2a8a8fb-4026-4c3a-bae5-254b7ce8129f",
   "metadata": {},
   "outputs": [
    {
     "name": "stdout",
     "output_type": "stream",
     "text": [
      "                    Email    Username\n",
      "0    john.doe@example.com    john.doe\n",
      "1  jane.smith@example.com  jane.smith\n",
      "2   bob.jones@example.com   bob.jones\n"
     ]
    }
   ],
   "source": [
    "import pandas as pd\n",
    "\n",
    "def extract_username(df):\n",
    "    df['Username'] = df['Email'].apply(lambda x: x.split('@')[0])\n",
    "    return df\n",
    "\n",
    "df = pd.DataFrame({'Email': ['john.doe@example.com', 'jane.smith@example.com', 'bob.jones@example.com']})\n",
    "print(extract_username(df))"
   ]
  },
  {
   "cell_type": "markdown",
   "id": "654e316c-ba40-4ff5-94a2-dc7dbebd63f4",
   "metadata": {},
   "source": [
    "Q8. You have a Pandas DataFrame df with columns 'A', 'B', and 'C'. Write a Python function that selects all rows where the value in column 'A' is greater than 5 and the value in column 'B' is less than 10. The function should return a new DataFrame that contains only the selected rows.\n",
    "For example, if df contains the following values:\n",
    "\n",
    "  A B C\n",
    "0 3 5 1\n",
    "1 8 2 7\n",
    "2 6 9 4\n",
    "3 2 3 5\n",
    "4 9 1 2\n",
    "\n",
    "Your function should select the following rows: A B C\n",
    "1 8 2 7\n",
    "4 9 1 2\n",
    "\n",
    "The function should return a new DataFrame that contains only the selected rows\n"
   ]
  },
  {
   "cell_type": "code",
   "execution_count": 6,
   "id": "20c0dfdb-60fe-4562-80e2-8e15bd7ed54f",
   "metadata": {},
   "outputs": [
    {
     "name": "stdout",
     "output_type": "stream",
     "text": [
      "   A  B  C\n",
      "1  8  2  7\n",
      "2  6  9  4\n",
      "4  9  1  2\n"
     ]
    }
   ],
   "source": [
    "import pandas as pd\n",
    "\n",
    "def select_rows(df):\n",
    "    return df[(df['A'] > 5) & (df['B'] < 10)]\n",
    "\n",
    "# Example usage\n",
    "df = pd.DataFrame({'A': [3, 8, 6, 2, 9], 'B': [5, 2, 9, 3, 1], 'C': [1, 7, 4, 5, 2]})\n",
    "result = select_rows(df)\n",
    "print(result)"
   ]
  },
  {
   "cell_type": "markdown",
   "id": "ad8e3595-f479-4437-8da7-78c9ca283401",
   "metadata": {},
   "source": [
    "Q9. Given a Pandas DataFrame df with a column 'Values', write a Python function to calculate the mean,\n",
    "median, and standard deviation of the values in the 'Values' column.\n"
   ]
  },
  {
   "cell_type": "code",
   "execution_count": 7,
   "id": "a3ea360e-c019-4010-b4b0-b23a3f7d7674",
   "metadata": {},
   "outputs": [
    {
     "name": "stdout",
     "output_type": "stream",
     "text": [
      "{'mean': 3.0, 'median': 3.0, 'std_dev': 1.5811388300841898}\n"
     ]
    }
   ],
   "source": [
    "import pandas as pd\n",
    "\n",
    "def calculate_stats(df):\n",
    "    \"\"\"\n",
    "    Calculate the mean, median, and standard deviation of the values in the 'Values' column.\n",
    "\n",
    "    Parameters:\n",
    "        df (Pandas DataFrame): DataFrame with a column named 'Values'\n",
    "\n",
    "    Returns:\n",
    "        A dictionary with the mean, median, and standard deviation as values\n",
    "    \"\"\"\n",
    "    values = df['Values']\n",
    "    mean = values.mean()\n",
    "    median = values.median()\n",
    "    std_dev = values.std()\n",
    "    return {'mean': mean, 'median': median, 'std_dev': std_dev}\n",
    "\n",
    "df = pd.DataFrame({'Values': [1, 2, 3, 4, 5]})\n",
    "stats = calculate_stats(df)\n",
    "print(stats)  # Output: {'mean': 3.0, 'median': 3.0, 'std_dev': 1.58113883046}"
   ]
  },
  {
   "cell_type": "markdown",
   "id": "1a03f5d5-72ea-4234-983f-b5d5b540af45",
   "metadata": {},
   "source": [
    "Q10. Given a Pandas DataFrame df with a column 'Sales' and a column 'Date', write a Python function to create a new column 'MovingAverage' that contains the moving average of the sales for the past 7 days for each row in the DataFrame. The moving average should be calculated using a window of size 7 and should include the current day.\n"
   ]
  },
  {
   "cell_type": "code",
   "execution_count": 8,
   "id": "f6d305bd-636c-448f-a61c-bbd5961601ba",
   "metadata": {},
   "outputs": [
    {
     "name": "stdout",
     "output_type": "stream",
     "text": [
      "        Date  Sales  MovingAverage\n",
      "0 2024-08-25    100     100.000000\n",
      "1 2024-08-26    200     150.000000\n",
      "2 2024-08-27    150     150.000000\n",
      "3 2024-08-28    300     187.500000\n",
      "4 2024-08-29    250     200.000000\n",
      "5 2024-08-30    400     233.333333\n",
      "6 2024-08-31    350     250.000000\n",
      "7 2024-09-01    500     307.142857\n"
     ]
    }
   ],
   "source": [
    "import pandas as pd\n",
    "\n",
    "def add_moving_average(df):\n",
    "    \"\"\"\n",
    "    Adds a 'MovingAverage' column to the DataFrame df that contains the 7-day moving average of the 'Sales' column.\n",
    "    \n",
    "    Parameters:\n",
    "    df (pd.DataFrame): DataFrame containing 'Sales' and 'Date' columns.\n",
    "    \n",
    "    Returns:\n",
    "    pd.DataFrame: DataFrame with the new 'MovingAverage' column.\n",
    "    \"\"\"\n",
    "    # Ensure the 'Date' column is in datetime format\n",
    "    df['Date'] = pd.to_datetime(df['Date'])\n",
    "    \n",
    "    # Sort the DataFrame by 'Date' to ensure correct order\n",
    "    df = df.sort_values('Date')\n",
    "    \n",
    "    # Calculate the 7-day moving average of the 'Sales' column\n",
    "    df['MovingAverage'] = df['Sales'].rolling(window=7, min_periods=1).mean()\n",
    "    \n",
    "    return df\n",
    "\n",
    "# Example usage:\n",
    "# Assuming df is your DataFrame with 'Sales' and 'Date' columns\n",
    "df = pd.DataFrame({\n",
    "    'Date': ['2024-08-25', '2024-08-26', '2024-08-27', '2024-08-28', '2024-08-29', \n",
    "             '2024-08-30', '2024-08-31', '2024-09-01'],\n",
    "    'Sales': [100, 200, 150, 300, 250, 400, 350, 500]\n",
    "})\n",
    "\n",
    "df = add_moving_average(df)\n",
    "print(df)"
   ]
  },
  {
   "cell_type": "markdown",
   "id": "209ba273-120d-447a-a26e-e2ac763a6520",
   "metadata": {},
   "source": [
    "Q11. You have a Pandas DataFrame df with a column 'Date'. Write a Python function that creates a new column 'Weekday' in the DataFrame. The 'Weekday' column should contain the weekday name (e.g. Monday, Tuesday) corresponding to each date in the 'Date' column.\n",
    "\n",
    "For example, if df contains the following values:\n",
    "Date\n",
    "0 2023-01-01\n",
    "1 2023-01-02\n",
    "2 2023-01-03\n",
    "3 2023-01-04\n",
    "4 2023-01-05\n",
    "Your function should create the following DataFrame:\n",
    "\n",
    "Date Weekday\n",
    "0 2023-01-01 Sunday\n",
    "1 2023-01-02 Monday\n",
    "2 2023-01-03 Tuesday\n",
    "3 2023-01-04 Wednesday\n",
    "4 2023-01-05 Thursday\n",
    "The function should return the modified DataFrame."
   ]
  },
  {
   "cell_type": "code",
   "execution_count": 9,
   "id": "e2c711d0-1ac2-4223-9c0a-82c96b4574e7",
   "metadata": {},
   "outputs": [
    {
     "name": "stdout",
     "output_type": "stream",
     "text": [
      "        Date    Weekday\n",
      "0 2023-01-01     Sunday\n",
      "1 2023-01-02     Monday\n",
      "2 2023-01-03    Tuesday\n",
      "3 2023-01-04  Wednesday\n",
      "4 2023-01-05   Thursday\n"
     ]
    }
   ],
   "source": [
    "import pandas as pd\n",
    "\n",
    "def add_weekday(df):\n",
    "    \"\"\"\n",
    "    Adds a 'Weekday' column to the DataFrame df that contains the weekday name for each date in the 'Date' column.\n",
    "    \n",
    "    Parameters:\n",
    "    df (pd.DataFrame): DataFrame containing a 'Date' column.\n",
    "    \n",
    "    Returns:\n",
    "    pd.DataFrame: DataFrame with the new 'Weekday' column.\n",
    "    \"\"\"\n",
    "    # Ensure the 'Date' column is in datetime format\n",
    "    df['Date'] = pd.to_datetime(df['Date'])\n",
    "    \n",
    "    # Create a new column 'Weekday' with the weekday name\n",
    "    df['Weekday'] = df['Date'].dt.day_name()\n",
    "    \n",
    "    return df\n",
    "\n",
    "# Example usage:\n",
    "# Assuming df is your DataFrame with a 'Date' column\n",
    "df = pd.DataFrame({\n",
    "    'Date': ['2023-01-01', '2023-01-02', '2023-01-03', '2023-01-04', '2023-01-05']\n",
    "})\n",
    "\n",
    "df = add_weekday(df)\n",
    "print(df)"
   ]
  },
  {
   "cell_type": "markdown",
   "id": "f0622e92-166a-4cf5-a33f-4f0f1999af69",
   "metadata": {},
   "source": [
    "Q12. Given a Pandas DataFrame df with a column 'Date' that contains timestamps, write a Python\n",
    "function to select all rows where the date is between '2023-01-01' and '2023-01-31'."
   ]
  },
  {
   "cell_type": "code",
   "execution_count": 10,
   "id": "7572e8fa-7bdd-4c14-8dff-dcbbdacce1c3",
   "metadata": {},
   "outputs": [
    {
     "name": "stdout",
     "output_type": "stream",
     "text": [
      "                 Date  Sales\n",
      "0 2023-01-01 10:00:00    100\n",
      "1 2023-01-15 12:30:00    200\n"
     ]
    }
   ],
   "source": [
    "import pandas as pd\n",
    "\n",
    "def filter_dates(df):\n",
    "    \"\"\"\n",
    "    Selects all rows from the DataFrame df where the 'Date' column is between '2023-01-01' and '2023-01-31'.\n",
    "    \n",
    "    Parameters:\n",
    "    df (pd.DataFrame): DataFrame containing a 'Date' column with timestamps.\n",
    "    \n",
    "    Returns:\n",
    "    pd.DataFrame: Filtered DataFrame with rows within the specified date range.\n",
    "    \"\"\"\n",
    "    # Ensure the 'Date' column is in datetime format\n",
    "    df['Date'] = pd.to_datetime(df['Date'])\n",
    "    \n",
    "    # Define the date range\n",
    "    start_date = '2023-01-01'\n",
    "    end_date = '2023-01-31'\n",
    "    \n",
    "    # Filter the DataFrame for dates within the specified range\n",
    "    filtered_df = df[(df['Date'] >= start_date) & (df['Date'] <= end_date)]\n",
    "    \n",
    "    return filtered_df\n",
    "\n",
    "# Example usage:\n",
    "# Assuming df is your DataFrame with a 'Date' column\n",
    "df = pd.DataFrame({\n",
    "    'Date': ['2023-01-01 10:00:00', '2023-01-15 12:30:00', '2023-02-01 09:00:00', '2023-01-31 15:45:00', '2023-02-05 10:00:00'],\n",
    "    'Sales': [100, 200, 300, 400, 500]\n",
    "})\n",
    "\n",
    "filtered_df = filter_dates(df)\n",
    "print(filtered_df)"
   ]
  },
  {
   "cell_type": "markdown",
   "id": "59f8d7f8-da1d-4357-ae94-d1e58349c2a7",
   "metadata": {},
   "source": [
    "Q13. To use the basic functions of pandas, what is the first and foremost necessary library that needs to\n",
    "be imported?"
   ]
  },
  {
   "cell_type": "code",
   "execution_count": 11,
   "id": "a7734046-3b00-40f1-a0f5-8b3888b2bb3d",
   "metadata": {},
   "outputs": [
    {
     "name": "stdout",
     "output_type": "stream",
     "text": [
      "      Name  Age\n",
      "0    Alice   25\n",
      "1      Bob   30\n",
      "2  Charlie   35\n"
     ]
    }
   ],
   "source": [
    "import pandas as pd\n",
    "\n",
    "# Creating a simple DataFrame\n",
    "data = {\n",
    "    'Name': ['Alice', 'Bob', 'Charlie'],\n",
    "    'Age': [25, 30, 35]\n",
    "}\n",
    "\n",
    "df = pd.DataFrame(data)\n",
    "\n",
    "# Display the DataFrame\n",
    "print(df)"
   ]
  },
  {
   "cell_type": "code",
   "execution_count": null,
   "id": "ab6d89dd-816e-4d03-90cf-c376148192b6",
   "metadata": {},
   "outputs": [],
   "source": []
  }
 ],
 "metadata": {
  "kernelspec": {
   "display_name": "Python 3 (ipykernel)",
   "language": "python",
   "name": "python3"
  },
  "language_info": {
   "codemirror_mode": {
    "name": "ipython",
    "version": 3
   },
   "file_extension": ".py",
   "mimetype": "text/x-python",
   "name": "python",
   "nbconvert_exporter": "python",
   "pygments_lexer": "ipython3",
   "version": "3.11.8"
  }
 },
 "nbformat": 4,
 "nbformat_minor": 5
}
