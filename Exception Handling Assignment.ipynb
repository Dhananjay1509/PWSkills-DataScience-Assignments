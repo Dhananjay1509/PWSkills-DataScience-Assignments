{
 "cells": [
  {
   "cell_type": "raw",
   "id": "1e16c29e-0950-4efb-8e12-7ae08a08597f",
   "metadata": {},
   "source": [
    "Q1. What is an exception in Python? Write the difference between exceptions and syntax errors.\n",
    "\n",
    "--> Difference between Exceptions and Syntax Errors:\n",
    "\n",
    "Exceptions: These are errors detected during execution. Examples include ZeroDivisionError, FileNotFoundError, and ValueError.\n",
    "Syntax Errors: These are errors detected by the parser when the program's syntax is incorrect. The program won't run at all if there's a syntax error. Examples include missing colons, incorrect indentation, and misspelled keywords.\n"
   ]
  },
  {
   "cell_type": "raw",
   "id": "0d82fd98-4152-4e93-80b3-0dcccc70d3ac",
   "metadata": {},
   "source": [
    "Q2. What happens when an exception is not handled? Explain with an example.\n",
    "\n",
    "--> When an exception is not handled, the program terminates abruptly, and an error message is displayed. This is known as an \"unhandled exception.\""
   ]
  },
  {
   "cell_type": "code",
   "execution_count": 1,
   "id": "e35f671c-3492-45b9-bec3-aa5110dff7b8",
   "metadata": {},
   "outputs": [
    {
     "ename": "ZeroDivisionError",
     "evalue": "division by zero",
     "output_type": "error",
     "traceback": [
      "\u001b[1;31m---------------------------------------------------------------------------\u001b[0m",
      "\u001b[1;31mZeroDivisionError\u001b[0m                         Traceback (most recent call last)",
      "Cell \u001b[1;32mIn[1], line 4\u001b[0m\n\u001b[0;32m      1\u001b[0m \u001b[38;5;28;01mdef\u001b[39;00m \u001b[38;5;21mdivide\u001b[39m(a, b):\n\u001b[0;32m      2\u001b[0m     \u001b[38;5;28;01mreturn\u001b[39;00m a \u001b[38;5;241m/\u001b[39m b\n\u001b[1;32m----> 4\u001b[0m result \u001b[38;5;241m=\u001b[39m \u001b[43mdivide\u001b[49m\u001b[43m(\u001b[49m\u001b[38;5;241;43m10\u001b[39;49m\u001b[43m,\u001b[49m\u001b[43m \u001b[49m\u001b[38;5;241;43m0\u001b[39;49m\u001b[43m)\u001b[49m\n\u001b[0;32m      5\u001b[0m \u001b[38;5;28mprint\u001b[39m(result)\n",
      "Cell \u001b[1;32mIn[1], line 2\u001b[0m, in \u001b[0;36mdivide\u001b[1;34m(a, b)\u001b[0m\n\u001b[0;32m      1\u001b[0m \u001b[38;5;28;01mdef\u001b[39;00m \u001b[38;5;21mdivide\u001b[39m(a, b):\n\u001b[1;32m----> 2\u001b[0m     \u001b[38;5;28;01mreturn\u001b[39;00m \u001b[43ma\u001b[49m\u001b[43m \u001b[49m\u001b[38;5;241;43m/\u001b[39;49m\u001b[43m \u001b[49m\u001b[43mb\u001b[49m\n",
      "\u001b[1;31mZeroDivisionError\u001b[0m: division by zero"
     ]
    }
   ],
   "source": [
    "def divide(a, b):\n",
    "    return a / b\n",
    "\n",
    "result = divide(10, 0)\n",
    "print(result)\n"
   ]
  },
  {
   "cell_type": "raw",
   "id": "c84e76d5-1843-4e35-aa93-9634675ac690",
   "metadata": {},
   "source": [
    "Q3. Which Python statements are used to catch and handle exceptions? Explain with an example.\n",
    "\n",
    "--> In Python, the try and except statements are used to catch and handle exceptions. The try block contains the code that might raise an exception, while the except block specifies how to handle the exception if it occurs."
   ]
  },
  {
   "cell_type": "code",
   "execution_count": 3,
   "id": "2696d374-fd2a-452b-8e1d-2553b626920e",
   "metadata": {},
   "outputs": [
    {
     "name": "stdin",
     "output_type": "stream",
     "text": [
      "Enter the first number:  4\n",
      "Enter the second number:  0\n"
     ]
    },
    {
     "name": "stdout",
     "output_type": "stream",
     "text": [
      "Error: Division by zero.\n"
     ]
    }
   ],
   "source": [
    "try:\n",
    "    num1 = int(input(\"Enter the first number: \"))\n",
    "    num2 = int(input(\"Enter the second number: \"))\n",
    "    result = num1 / num2\n",
    "    print(\"The result is:\", result)\n",
    "except ValueError:\n",
    "    print(\"Invalid input. Please enter a number.\")\n",
    "except ZeroDivisionError:\n",
    "    print(\"Error: Division by zero.\")"
   ]
  },
  {
   "cell_type": "raw",
   "id": "cf151109-0b70-4d6d-8edf-d0172e602eec",
   "metadata": {},
   "source": [
    "In this example:\n",
    "The try block attempts to convert user input to integers using int() and perform division.\n",
    "If the user enters non-numeric input, a ValueError exception is raised, and the except ValueError block is executed, printing an error message.\n",
    "If the user enters zero as the second number, a ZeroDivisionError exception is raised, and the except ZeroDivisionError block is executed, printing a different error message.\n",
    "The except statement can handle specific exceptions by mentioning the exception type after except. If no exception type is specified, the except block will catch any type of exception."
   ]
  },
  {
   "cell_type": "raw",
   "id": "9d939a86-b973-422f-8e90-0f124d791e52",
   "metadata": {},
   "source": [
    "Q4. Explain with an example:\n",
    "try and else\n",
    "finally\n",
    "raise\n",
    "    "
   ]
  },
  {
   "cell_type": "raw",
   "id": "926550dd-2211-422a-b138-b489dd60d169",
   "metadata": {},
   "source": [
    "--> try and else\n",
    "The try and else statements are used together to handle exceptions in Python. The try block contains the code that might raise an exception, and the else block is executed if no exception occurs in the try block."
   ]
  },
  {
   "cell_type": "code",
   "execution_count": 6,
   "id": "565b8d33-5224-4848-abc4-6591166716cf",
   "metadata": {},
   "outputs": [
    {
     "name": "stdin",
     "output_type": "stream",
     "text": [
      "Enter the first number:  6\n",
      "Enter the second number:  0\n"
     ]
    },
    {
     "name": "stdout",
     "output_type": "stream",
     "text": [
      "Error: Division by zero.\n"
     ]
    }
   ],
   "source": [
    "try:\n",
    "    num1 = int(input(\"Enter the first number: \"))\n",
    "    num2 = int(input(\"Enter the second number: \"))\n",
    "    result = num1 / num2\n",
    "except ValueError:\n",
    "    print(\"Invalid input. Please enter a number.\")\n",
    "except ZeroDivisionError:\n",
    "    print(\"Error: Division by zero.\")\n",
    "else:\n",
    "    print(\"The result is:\", result)"
   ]
  },
  {
   "cell_type": "raw",
   "id": "a6fcdec5-e8b1-413e-bfa1-420ed609493d",
   "metadata": {},
   "source": [
    "In this example:\n",
    "The try block attempts to convert user input to integers and perform division.\n",
    "If a ValueError or ZeroDivisionError occurs, the corresponding except block is executed, and the else block is skipped.\n",
    "If no exception occurs in the try block, the else block is executed, printing the result.\n",
    "The else block is useful when you want to execute some code only if the try block completes successfully without any exceptions."
   ]
  },
  {
   "cell_type": "markdown",
   "id": "d128abc0-e80b-407e-b2cd-52982dd5772a",
   "metadata": {},
   "source": [
    "finally\n",
    "The finally clause is used to specify a block of code that will be executed regardless of whether an exception occurred or not. This is useful for cleaning up resources, such as closing files or database connections, that need to be executed regardless of the outcome of the try block."
   ]
  },
  {
   "cell_type": "code",
   "execution_count": 7,
   "id": "81e78660-2508-4b3a-8167-b97b9bbe9214",
   "metadata": {},
   "outputs": [
    {
     "name": "stdout",
     "output_type": "stream",
     "text": [
      "Error: File not found.\n"
     ]
    },
    {
     "ename": "NameError",
     "evalue": "name 'file' is not defined",
     "output_type": "error",
     "traceback": [
      "\u001b[1;31m---------------------------------------------------------------------------\u001b[0m",
      "\u001b[1;31mNameError\u001b[0m                                 Traceback (most recent call last)",
      "Cell \u001b[1;32mIn[7], line 8\u001b[0m\n\u001b[0;32m      6\u001b[0m     \u001b[38;5;28mprint\u001b[39m(\u001b[38;5;124m\"\u001b[39m\u001b[38;5;124mError: File not found.\u001b[39m\u001b[38;5;124m\"\u001b[39m)\n\u001b[0;32m      7\u001b[0m \u001b[38;5;28;01mfinally\u001b[39;00m:\n\u001b[1;32m----> 8\u001b[0m     \u001b[43mfile\u001b[49m\u001b[38;5;241m.\u001b[39mclose()\n\u001b[0;32m      9\u001b[0m     \u001b[38;5;28mprint\u001b[39m(\u001b[38;5;124m\"\u001b[39m\u001b[38;5;124mFile closed.\u001b[39m\u001b[38;5;124m\"\u001b[39m)\n",
      "\u001b[1;31mNameError\u001b[0m: name 'file' is not defined"
     ]
    }
   ],
   "source": [
    "try:\n",
    "    file = open(\"file.txt\", \"r\")\n",
    "    content = file.read()\n",
    "    print(content)\n",
    "except FileNotFoundError:\n",
    "    print(\"Error: File not found.\")\n",
    "finally:\n",
    "    file.close()\n",
    "    print(\"File closed.\")"
   ]
  },
  {
   "cell_type": "raw",
   "id": "08f2f7a3-2934-4fce-ace5-f27199d4ec8e",
   "metadata": {},
   "source": [
    "In this example:\n",
    "The try block attempts to open a file, read its content, and print it.\n",
    "If a FileNotFoundError occurs, the except block is executed, and an error message is printed.\n",
    "Regardless of whether an exception occurred or not, the finally block is executed, closing the file and printing a message.\n",
    "The finally block is useful for ensuring that certain cleanup actions are always performed, even if an exception is raised."
   ]
  },
  {
   "cell_type": "raw",
   "id": "dccea1b7-6040-4e98-a635-712bfb746da0",
   "metadata": {},
   "source": [
    "raise\n",
    "The raise statement is used to manually raise an exception in your code. This is useful when you want to signal that a certain condition has occurred and needs to be handled."
   ]
  },
  {
   "cell_type": "code",
   "execution_count": 8,
   "id": "a6cbb3f1-a445-43af-9c6e-95fae9376409",
   "metadata": {},
   "outputs": [
    {
     "name": "stdout",
     "output_type": "stream",
     "text": [
      "Error: Division by zero.\n"
     ]
    }
   ],
   "source": [
    "def divide(a, b):\n",
    "    if b == 0:\n",
    "        raise ZeroDivisionError(\"Error: Division by zero.\")\n",
    "    return a / b\n",
    "\n",
    "try:\n",
    "    result = divide(10, 0)\n",
    "    print(\"The result is:\", result)\n",
    "except ZeroDivisionError as e:\n",
    "    print(e)"
   ]
  },
  {
   "cell_type": "raw",
   "id": "e90740fa-9a12-44a3-a800-9722b498a56c",
   "metadata": {},
   "source": [
    "In this example:\n",
    "The divide function checks if the second argument is zero. If it is, the function raises a ZeroDivisionError with a custom error message.\n",
    "In the try block, the divide function is called with b set to 0, which raises the ZeroDivisionError.\n",
    "The except block catches the ZeroDivisionError and prints the custom error message.\n",
    "By using the raise statement, you can create and raise your own exceptions, which can help in making your code more expressive and easier to understand."
   ]
  },
  {
   "cell_type": "raw",
   "id": "e16a5b9e-32b6-4c48-8138-03455373111a",
   "metadata": {},
   "source": [
    "Q5. What are custom exceptions in Python? Why do we need custom exceptions? Explain with an example.\n",
    "\n",
    "--> Custom Exceptions in Python\n",
    "In Python, you can define your own custom exceptions by creating a new class that inherits from the built-in Exception class. Custom exceptions allow you to create specialized error types that are tailored to your application's specific needs\n",
    "\n",
    "Custom exceptions are useful for several reasons:\n",
    "Improved code readability: By using descriptive names for your custom exceptions, you can make your code more expressive and easier to understand.\n",
    "Targeted error handling: Custom exceptions enable you to catch and handle specific types of errors in your code, allowing for more granular error handling.\n",
    "Consistent error reporting: When you raise a custom exception, you can provide detailed error messages that are specific to the context in which the exception occurred.\n",
    "\n",
    "\n",
    "Example: Custom Exception for Division by Zero\n",
    "Let's say you have a function that performs division, and you want to raise a custom exception when the user tries to divide by zero. Here's how you can define and use a custom exception for this purpose:"
   ]
  },
  {
   "cell_type": "code",
   "execution_count": 9,
   "id": "a7736d6e-9660-4752-ac20-fc382798c2db",
   "metadata": {},
   "outputs": [
    {
     "name": "stdout",
     "output_type": "stream",
     "text": [
      "Error: Division by zero is not allowed.\n"
     ]
    }
   ],
   "source": [
    "class DivisionByZeroError(Exception):\n",
    "    def __init__(self, message):\n",
    "        self.message = message\n",
    "\n",
    "def divide(a, b):\n",
    "    if b == 0:\n",
    "        raise DivisionByZeroError(\"Error: Division by zero is not allowed.\")\n",
    "    return a / b\n",
    "\n",
    "try:\n",
    "    result = divide(10, 0)\n",
    "    print(\"The result is:\", result)\n",
    "except DivisionByZeroError as e:\n",
    "    print(e)"
   ]
  },
  {
   "cell_type": "raw",
   "id": "31c5634d-e58f-491b-95f2-fbfe367eaa12",
   "metadata": {},
   "source": [
    "In this example:\n",
    "We define a custom exception called DivisionByZeroError that inherits from the Exception class. The __init__ method allows us to provide a custom error message when the exception is raised.\n",
    "The divide function checks if the second argument is zero. If it is, the function raises a DivisionByZeroError with a custom error message.\n",
    "In the try block, we call the divide function with b set to 0, which raises the DivisionByZeroError.\n",
    "The except block catches the DivisionByZeroError and prints the custom error message."
   ]
  },
  {
   "cell_type": "raw",
   "id": "9a02bbe6-07af-48b1-8b50-1b78f8181c25",
   "metadata": {},
   "source": [
    "Q6. Create a custom exception class. Use this class to handle an exception.\n",
    "\n"
   ]
  },
  {
   "cell_type": "code",
   "execution_count": null,
   "id": "12eb71c9-b76e-426b-b1f4-74b032f04a66",
   "metadata": {},
   "outputs": [],
   "source": []
  }
 ],
 "metadata": {
  "kernelspec": {
   "display_name": "Python 3 (ipykernel)",
   "language": "python",
   "name": "python3"
  },
  "language_info": {
   "codemirror_mode": {
    "name": "ipython",
    "version": 3
   },
   "file_extension": ".py",
   "mimetype": "text/x-python",
   "name": "python",
   "nbconvert_exporter": "python",
   "pygments_lexer": "ipython3",
   "version": "3.11.8"
  }
 },
 "nbformat": 4,
 "nbformat_minor": 5
}
