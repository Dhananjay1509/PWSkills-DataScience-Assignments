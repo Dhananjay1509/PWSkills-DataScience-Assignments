{
 "cells": [
  {
   "cell_type": "markdown",
   "id": "758072a8-9443-4ca3-ba64-a08faad413e0",
   "metadata": {},
   "source": [
    "Q1. Create a Pandas Series that contains the following data: 4, 8, 15, 16, 23, and 42. Then, print the series.\n"
   ]
  },
  {
   "cell_type": "code",
   "execution_count": 1,
   "id": "884ed045-1147-43be-b782-73d5d2fcec84",
   "metadata": {},
   "outputs": [
    {
     "name": "stdout",
     "output_type": "stream",
     "text": [
      "0     4\n",
      "1     8\n",
      "2    15\n",
      "3    16\n",
      "4    23\n",
      "5    42\n",
      "dtype: int64\n"
     ]
    }
   ],
   "source": [
    "import pandas as pd\n",
    "\n",
    "s = pd.Series([4, 8, 15, 16, 23, 42])\n",
    "print(s)"
   ]
  },
  {
   "cell_type": "markdown",
   "id": "d8e67ed4-3a74-4fdd-b04d-d555492c2a57",
   "metadata": {},
   "source": [
    "Q2. Create a variable of list type containing 10 elements in it, and apply pandas.Series function on the\n",
    "variable print it."
   ]
  },
  {
   "cell_type": "code",
   "execution_count": 2,
   "id": "97b7ad35-fb51-44a3-9454-b86a3147b109",
   "metadata": {},
   "outputs": [
    {
     "name": "stdout",
     "output_type": "stream",
     "text": [
      "0     1\n",
      "1     2\n",
      "2     3\n",
      "3     4\n",
      "4     5\n",
      "5     6\n",
      "6     7\n",
      "7     8\n",
      "8     9\n",
      "9    10\n",
      "dtype: int64\n"
     ]
    }
   ],
   "source": [
    "import pandas as pd\n",
    "\n",
    "my_list = [1, 2, 3, 4, 5, 6, 7, 8, 9, 10]\n",
    "s = pd.Series(my_list)\n",
    "print(s)"
   ]
  },
  {
   "cell_type": "markdown",
   "id": "1a384a32-eb9e-4d23-93c1-6306640f4089",
   "metadata": {},
   "source": [
    "Q3. Create a Pandas DataFrame that contains the following data:"
   ]
  },
  {
   "cell_type": "code",
   "execution_count": 3,
   "id": "f827f6a2-b267-4ff9-ab2f-1bffccc128ac",
   "metadata": {},
   "outputs": [
    {
     "name": "stdout",
     "output_type": "stream",
     "text": [
      "     Name  Age  Gender\n",
      "0   Alice   25  Female\n",
      "1     Bob   30    Male\n",
      "2  Claire   27  Female\n"
     ]
    }
   ],
   "source": [
    "import pandas as pd\n",
    "\n",
    "data = {\n",
    "    'Name': ['Alice', 'Bob', 'Claire'],\n",
    "    'Age': [25, 30, 27],\n",
    "    'Gender': ['Female', 'Male', 'Female']\n",
    "}\n",
    "\n",
    "df = pd.DataFrame(data)\n",
    "print(df)"
   ]
  },
  {
   "cell_type": "markdown",
   "id": "3bf95fe1-a15c-4e0e-a1b9-eb0cd1a1af91",
   "metadata": {},
   "source": [
    "Q4. What is ‘DataFrame’ in pandas and how is it different from pandas.series? Explain with an example."
   ]
  },
  {
   "cell_type": "code",
   "execution_count": 4,
   "id": "11fbaacb-1d46-47ce-9d8d-8b6759c6c091",
   "metadata": {},
   "outputs": [
    {
     "name": "stdout",
     "output_type": "stream",
     "text": [
      "a    1\n",
      "b    2\n",
      "c    3\n",
      "d    4\n",
      "e    5\n",
      "dtype: int64\n",
      "   A   B\n",
      "0  1   6\n",
      "1  2   7\n",
      "2  3   8\n",
      "3  4   9\n",
      "4  5  10\n"
     ]
    }
   ],
   "source": [
    "import pandas as pd\n",
    "\n",
    "s = pd.Series([1, 2, 3, 4, 5], index=['a', 'b', 'c', 'd', 'e'])\n",
    "print(s)\n",
    "\n",
    "df = pd.DataFrame({'A': [1, 2, 3, 4, 5], 'B': [6, 7, 8, 9, 10]})\n",
    "print(df)"
   ]
  },
  {
   "cell_type": "markdown",
   "id": "75494221-ffea-4e7e-bf6a-de3912582587",
   "metadata": {},
   "source": [
    "Q5. What are some common functions you can use to manipulate data in a Pandas DataFrame? Can you give an example of when you might use one of these functions?\n",
    "\n",
    "Some common functions to manipulate data in a Pandas DataFrame include:\n",
    "\n",
    "1) drop(): Drops specified labels from rows or columns.\n",
    "2) dropna(): Drops rows or columns with missing values.\n",
    "3) fillna(): Fills missing values with a specified value.\n",
    "4) sort_values(): Sorts the DataFrame by values.\n",
    "5) groupby(): Groups the DataFrame by one or more columns and performs aggregation operations."
   ]
  },
  {
   "cell_type": "code",
   "execution_count": 5,
   "id": "7df6473c-d8fe-4625-b927-c482d5a67cc2",
   "metadata": {},
   "outputs": [
    {
     "name": "stdout",
     "output_type": "stream",
     "text": [
      "     A   B\n",
      "0  1.0   6\n",
      "1  2.0   7\n",
      "2  NaN   8\n",
      "3  4.0   9\n",
      "4  5.0  10\n",
      "     A   B\n",
      "0  1.0   6\n",
      "1  2.0   7\n",
      "3  4.0   9\n",
      "4  5.0  10\n"
     ]
    }
   ],
   "source": [
    "import pandas as pd\n",
    "\n",
    "df = pd.DataFrame({'A': [1, 2, None, 4, 5], 'B': [6, 7, 8, 9, 10]})\n",
    "print(df)\n",
    "\n",
    "df = df.dropna()\n",
    "print(df)"
   ]
  },
  {
   "cell_type": "markdown",
   "id": "4ec97520-0e59-438e-93b3-3bd6da719b31",
   "metadata": {},
   "source": [
    "Q6. Which of the following is mutable in nature \n",
    "Series, DataFrame, Panel?\n",
    "\n",
    "All three - Series, DataFrame, and Panel - are mutable in nature. They can be modified after they are created."
   ]
  },
  {
   "cell_type": "markdown",
   "id": "2cd7d1b6-9fb6-4781-8cab-8dec40287c9d",
   "metadata": {},
   "source": [
    "Q7. Create a DataFrame using multiple Series. Explain with an example.\n",
    "\n",
    "You can create a DataFrame using multiple Series by passing them as keyword arguments to the DataFrame() constructor."
   ]
  },
  {
   "cell_type": "code",
   "execution_count": 7,
   "id": "277b89a6-4c72-4e08-bd1b-baecd4a67c46",
   "metadata": {},
   "outputs": [
    {
     "name": "stdout",
     "output_type": "stream",
     "text": [
      "   A   B\n",
      "a  1   6\n",
      "b  2   7\n",
      "c  3   8\n",
      "d  4   9\n",
      "e  5  10\n"
     ]
    }
   ],
   "source": [
    "import pandas as pd\n",
    "\n",
    "s1 = pd.Series([1, 2, 3, 4, 5], index=['a', 'b', 'c', 'd', 'e'])\n",
    "s2 = pd.Series([6, 7, 8, 9, 10], index=['a', 'b', 'c', 'd', 'e'])\n",
    "\n",
    "df = pd.DataFrame({'A': s1, 'B': s2})\n",
    "print(df)"
   ]
  },
  {
   "cell_type": "code",
   "execution_count": null,
   "id": "ff6a8161-989b-40c2-b1cc-e3497b7e8f27",
   "metadata": {},
   "outputs": [],
   "source": []
  }
 ],
 "metadata": {
  "kernelspec": {
   "display_name": "Python 3 (ipykernel)",
   "language": "python",
   "name": "python3"
  },
  "language_info": {
   "codemirror_mode": {
    "name": "ipython",
    "version": 3
   },
   "file_extension": ".py",
   "mimetype": "text/x-python",
   "name": "python",
   "nbconvert_exporter": "python",
   "pygments_lexer": "ipython3",
   "version": "3.11.8"
  }
 },
 "nbformat": 4,
 "nbformat_minor": 5
}
