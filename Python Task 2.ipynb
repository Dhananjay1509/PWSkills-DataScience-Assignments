{
 "cells": [
  {
   "cell_type": "code",
   "execution_count": 1,
   "id": "b63154a3-7c08-4db3-94b6-72b7a3b15e63",
   "metadata": {},
   "outputs": [
    {
     "data": {
      "text/plain": [
       "'Q1. You are writing code for a company. The requirement of the company is that you create a python\\nfunction that will check whether the password entered by the user is correct or not. The function should\\ntake the password as input and return the string “Valid Password” if the entered password follows the\\nbelow-given password guidelines else it should return “Invalid Password”.\\n\\nNote: 1. The Password should contain at least two uppercase letters and at least two lowercase letters.\\n      2. The Password should contain at least a number and three special characters.\\n      3. The length of the password should be 10 characters long.\\n'"
      ]
     },
     "execution_count": 1,
     "metadata": {},
     "output_type": "execute_result"
    }
   ],
   "source": [
    "'''Q1. You are writing code for a company. The requirement of the company is that you create a python\n",
    "function that will check whether the password entered by the user is correct or not. The function should\n",
    "take the password as input and return the string “Valid Password” if the entered password follows the\n",
    "below-given password guidelines else it should return “Invalid Password”.\n",
    "\n",
    "Note: 1. The Password should contain at least two uppercase letters and at least two lowercase letters.\n",
    "      2. The Password should contain at least a number and three special characters.\n",
    "      3. The length of the password should be 10 characters long.\n",
    "'''\n",
    "\n"
   ]
  },
  {
   "cell_type": "code",
   "execution_count": 2,
   "id": "138f3ffa-317b-4b7c-8aee-528f2d5586fd",
   "metadata": {},
   "outputs": [
    {
     "name": "stdin",
     "output_type": "stream",
     "text": [
      "Enter a password (must be 10 characters long, contain at least 2 uppercase and 2 lowercase letters, at least 1 digit, and at least 3 special characters):  8$j8*Ya#Q!\n"
     ]
    },
    {
     "name": "stdout",
     "output_type": "stream",
     "text": [
      "Valid password entered: 8$j8*Ya#Q!\n"
     ]
    }
   ],
   "source": [
    "import string\n",
    "\n",
    "def validate_password(password):\n",
    "    if len(password) != 10:\n",
    "        return False\n",
    "\n",
    "    upper_count = sum(1 for char in password if char.isupper())\n",
    "    lower_count = sum(1 for char in password if char.islower())\n",
    "    digit_count = sum(1 for char in password if char.isdigit())\n",
    "    special_count = sum(1 for char in password if char in string.punctuation)\n",
    "\n",
    "    if (upper_count >= 2 and lower_count >= 2 and digit_count >= 1 and special_count >= 3):\n",
    "        return True\n",
    "    else:\n",
    "        return False\n",
    "\n",
    "def get_desirable_password():\n",
    "    while True:\n",
    "        password = input(\"Enter a password (must be 10 characters long, \"\n",
    "                         \"contain at least 2 uppercase and 2 lowercase letters, \"\n",
    "                         \"at least 1 digit, and at least 3 special characters): \")\n",
    "        \n",
    "        if validate_password(password):\n",
    "            return password\n",
    "        else:\n",
    "            print(\"Invalid password! Please try again.\")\n",
    "\n",
    "if __name__ == \"__main__\":\n",
    "    desirable_password = get_desirable_password()\n",
    "    print(f\"Valid password entered: {desirable_password}\")\n"
   ]
  },
  {
   "cell_type": "code",
   "execution_count": 3,
   "id": "cf0e6dcb-8de3-4307-b20a-1b46103e459b",
   "metadata": {},
   "outputs": [
    {
     "data": {
      "text/plain": [
       "'\\nQ2. Solve the below-given questions using at least one of the following:\\n1. Lambda function\\n2. Filter functio\\n3. Map function\\n4. List Comprehension\\n\\n Check if the string starts with a particular letter.\\n Check if the string is numeric.\\n Sort a list of tuples having fruit names and their quantity. [(\"mango\",99),(\"orange\",80), (\"grapes\", 1000)].\\n Find the squares of numbers from 1 to 10.\\n Find the cube root of numbers from 1 to 10.\\n Check if a given number is even.\\n Filter odd numbers from the given list. [1,2,3,4,5,6,7,8,9,10].\\n Sort a list of integers into positive and negative integers lists. [1,2,3,4,5,6,-1,-2,-3,-4,-5,0].\\n \\n '"
      ]
     },
     "execution_count": 3,
     "metadata": {},
     "output_type": "execute_result"
    }
   ],
   "source": [
    "'''\n",
    "Q2. Solve the below-given questions using at least one of the following:\n",
    "1. Lambda function\n",
    "2. Filter functio\n",
    "3. Map function\n",
    "4. List Comprehension\n",
    "\n",
    " Check if the string starts with a particular letter.\n",
    " Check if the string is numeric.\n",
    " Sort a list of tuples having fruit names and their quantity. [(\"mango\",99),(\"orange\",80), (\"grapes\", 1000)].\n",
    " Find the squares of numbers from 1 to 10.\n",
    " Find the cube root of numbers from 1 to 10.\n",
    " Check if a given number is even.\n",
    " Filter odd numbers from the given list. [1,2,3,4,5,6,7,8,9,10].\n",
    " Sort a list of integers into positive and negative integers lists. [1,2,3,4,5,6,-1,-2,-3,-4,-5,0].\n",
    " \n",
    " '''"
   ]
  },
  {
   "cell_type": "code",
   "execution_count": 4,
   "id": "311c5639-ee03-4124-8547-e4b11665184d",
   "metadata": {},
   "outputs": [
    {
     "name": "stdout",
     "output_type": "stream",
     "text": [
      "True\n",
      "False\n",
      "True\n",
      "False\n",
      "False\n",
      "[('orange', 80), ('mango', 99), ('grapes', 1000)]\n",
      "[1, 4, 9, 16, 25, 36, 49, 64, 81, 100]\n",
      "[1.0, 1.4142135623730951, 1.7320508075688772, 2.0, 2.23606797749979, 2.449489742783178, 2.6457513110645907, 2.8284271247461903, 3.0, 3.1622776601683795]\n",
      "True\n",
      "False\n",
      "[1, 3, 5, 7, 9]\n",
      "Positive numbers: [1, 2, 3, 4, 5, 6]\n",
      "Negative numbers: [-1, -2, -3, -4, -5]\n"
     ]
    }
   ],
   "source": [
    "# 1. Check if the string starts with a particular letter:\n",
    "# Using lambda function:\n",
    "\n",
    "starts_with_letter = lambda s, letter: s.startswith(letter)\n",
    "print(starts_with_letter(\"Python\", \"P\"))  # True\n",
    "print(starts_with_letter(\"Java\", \"P\"))    # False\n",
    "\n",
    "# 2. Check if the string is numeric:\n",
    "# Using lambda function:\n",
    "\n",
    "is_numeric = lambda s: s.isdigit()\n",
    "print(is_numeric(\"123\"))   # True\n",
    "print(is_numeric(\"abc\"))   # False\n",
    "print(is_numeric(\"12.3\"))  # False (decimal point)\n",
    "\n",
    "# 3. Sort a list of tuples having fruit names and their quantity:\n",
    "# Using lambda function with sorted():\n",
    "\n",
    "fruits = [(\"mango\", 99), (\"orange\", 80), (\"grapes\", 1000)]\n",
    "sorted_fruits = sorted(fruits, key=lambda x: x[1])\n",
    "print(sorted_fruits)\n",
    "\n",
    "# 4. Find the squares of numbers from 1 to 10:\n",
    "# Using list comprehension:\n",
    "\n",
    "squares = [x**2 for x in range(1, 11)]\n",
    "print(squares)\n",
    "\n",
    "# 5. Find the cube root of numbers from 1 to 10:\n",
    "# Using map function and lambda:\n",
    "\n",
    "import math\n",
    "cube_roots = list(map(lambda x: math.sqrt(x), range(1, 11)))\n",
    "print(cube_roots)\n",
    "\n",
    "# 6. Check if a given number is even:\n",
    "# Using lambda function:\n",
    "\n",
    "is_even = lambda x: x % 2 == 0\n",
    "print(is_even(10))   # True\n",
    "print(is_even(7))    # False\n",
    "\n",
    "# 7. Filter odd numbers from the given list:\n",
    "# Using filter function with lambda:\n",
    "\n",
    "numbers = [1, 2, 3, 4, 5, 6, 7, 8, 9, 10]\n",
    "odd_numbers = list(filter(lambda x: x % 2 != 0, numbers))\n",
    "print(odd_numbers)\n",
    "\n",
    "# 8. Sort a list of integers into positive and negative integers lists:\n",
    "# Using list comprehension:\n",
    "\n",
    "numbers = [1, 2, 3, 4, 5, 6, -1, -2, -3, -4, -5, 0]\n",
    "positive_numbers = [x for x in numbers if x > 0]\n",
    "negative_numbers = [x for x in numbers if x < 0]\n",
    "print(\"Positive numbers:\", positive_numbers)\n",
    "print(\"Negative numbers:\", negative_numbers)"
   ]
  }
 ],
 "metadata": {
  "kernelspec": {
   "display_name": "Python 3 (ipykernel)",
   "language": "python",
   "name": "python3"
  },
  "language_info": {
   "codemirror_mode": {
    "name": "ipython",
    "version": 3
   },
   "file_extension": ".py",
   "mimetype": "text/x-python",
   "name": "python",
   "nbconvert_exporter": "python",
   "pygments_lexer": "ipython3",
   "version": "3.11.8"
  }
 },
 "nbformat": 4,
 "nbformat_minor": 5
}
