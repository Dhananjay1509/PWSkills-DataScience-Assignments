{
 "cells": [
  {
   "cell_type": "raw",
   "id": "4d24a3df-79d9-4690-9017-44e6134495a5",
   "metadata": {},
   "source": [
    "Q1. What is multithreading in python? Why is it used? Name the module used to handle threads in python.\n",
    "\n",
    "--> Multithreading is a programming technique where multiple threads are spawned by a process to execute tasks concurrently within the same program. Threads are lighter than processes and share the same memory space, which allows for efficient communication and data sharing between them. \n",
    "\n",
    "Why is Multithreading Used?\n",
    "i) Concurrency: Allows multiple operations to run simultaneously, making better use of system resources.\n",
    "ii) Responsiveness: Increases the responsiveness of applications by handling tasks such as user input, network requests, and file operations concurrently.\n",
    "iii) Performance: Improves performance of I/O-bound applications as threads can execute while others are waiting for I/O operations to complete.\n",
    "iv) Resource Sharing: Threads share the same memory space, which facilitates data sharing and communication."
   ]
  },
  {
   "cell_type": "raw",
   "id": "ab1d74d6-46f3-4443-8f19-0c3004e5e98c",
   "metadata": {},
   "source": [
    "Q2. Why threading module used? Write the use of the following functions:\n",
    "\n",
    "1. activeCount()\n",
    "\n",
    "2. currentThread()\n",
    "\n",
    "3. enumerate()\n",
    "\n",
    "--> The threading module is used to handle threads in Python. It provides a higher-level, object-oriented interface to work with threads.\n",
    "\n",
    "Example Usage of threading Module\n",
    "Here’s a simple example to demonstrate multithreading using the threading module:\n",
    "\n",
    "In this example, two threads are created: one to print numbers and another to print letters. They run concurrently, demonstrating basic multithreading in Python"
   ]
  },
  {
   "cell_type": "code",
   "execution_count": 1,
   "id": "8a61ebbe-4876-4871-bf1e-c7a252a45789",
   "metadata": {},
   "outputs": [
    {
     "name": "stdout",
     "output_type": "stream",
     "text": [
      "0\n",
      "a\n",
      "b\n",
      "1\n",
      "c\n",
      "2\n",
      "3d\n",
      "\n",
      "e\n",
      "4\n",
      "f\n",
      "5\n",
      "g\n",
      "6\n",
      "h\n",
      "7\n",
      "i\n",
      "8\n",
      "j\n",
      "9\n",
      "Done\n"
     ]
    }
   ],
   "source": [
    "import threading\n",
    "import time\n",
    "\n",
    "def print_numbers():\n",
    "    for i in range(10):\n",
    "        print(i)\n",
    "        time.sleep(1)\n",
    "\n",
    "def print_letters():\n",
    "    for letter in 'abcdefghij':\n",
    "        print(letter)\n",
    "        time.sleep(1)\n",
    "\n",
    "# Create threads\n",
    "t1 = threading.Thread(target=print_numbers)\n",
    "t2 = threading.Thread(target=print_letters)\n",
    "\n",
    "# Start threads\n",
    "t1.start()\n",
    "t2.start()\n",
    "\n",
    "# Wait for both threads to complete\n",
    "t1.join()\n",
    "t2.join()\n",
    "\n",
    "print(\"Done\")\n"
   ]
  },
  {
   "cell_type": "raw",
   "id": "c18fc6a5-359a-458d-8064-db689da50e26",
   "metadata": {},
   "source": [
    "Q3. Explain the following functions:\n",
    "\n",
    "1. run()\n",
    "\n",
    "2. start()\n",
    "\n",
    "3. join()\n",
    "\n",
    "4. is Alive()"
   ]
  },
  {
   "cell_type": "raw",
   "id": "82581660-c63e-4b39-8f11-06cd055e61bf",
   "metadata": {},
   "source": [
    "1. run()\n",
    "The run() method is the entry point for a thread. When a thread starts, the run() method is called by the start() method. You typically override this method when creating a subclass of Thread to define the behavior of the thread."
   ]
  },
  {
   "cell_type": "code",
   "execution_count": 2,
   "id": "bc675c8d-78e3-4286-be4b-2416d0b4c26c",
   "metadata": {},
   "outputs": [
    {
     "name": "stdout",
     "output_type": "stream",
     "text": [
      "Thread is running\n"
     ]
    }
   ],
   "source": [
    "import threading\n",
    "\n",
    "class MyThread(threading.Thread):\n",
    "    def run(self):\n",
    "        print(\"Thread is running\")\n",
    "\n",
    "t = MyThread()\n",
    "t.run()  # Direct call to run; not starting a new thread\n"
   ]
  },
  {
   "cell_type": "raw",
   "id": "d6a15cae-886a-4dcb-9432-a7221471da51",
   "metadata": {},
   "source": [
    "2. start()\n",
    "The start() method initiates a thread's activity. It must be called at most once per thread object. It arranges for the thread’s run() method to be invoked in a separate thread of control."
   ]
  },
  {
   "cell_type": "code",
   "execution_count": 3,
   "id": "c0a2eb4e-b384-49c9-8a89-123773d0cb5c",
   "metadata": {},
   "outputs": [
    {
     "name": "stdout",
     "output_type": "stream",
     "text": [
      "Thread is running\n"
     ]
    }
   ],
   "source": [
    "import threading\n",
    "\n",
    "class MyThread(threading.Thread):\n",
    "    def run(self):\n",
    "        print(\"Thread is running\")\n",
    "\n",
    "t = MyThread()\n",
    "t.start()  # Starts the thread and calls the run() method\n"
   ]
  },
  {
   "cell_type": "raw",
   "id": "c718e9a1-1790-4c30-bebe-d32526e69867",
   "metadata": {},
   "source": [
    "3. join()\n",
    "The join() method blocks the calling thread (i.e., the thread that calls join()) until the thread whose join() method is called terminates. It is used to wait for a thread to finish execution."
   ]
  },
  {
   "cell_type": "code",
   "execution_count": 4,
   "id": "9d598408-8629-4336-97f1-d7d79f68af1b",
   "metadata": {},
   "outputs": [
    {
     "name": "stdout",
     "output_type": "stream",
     "text": [
      "Thread is done\n",
      "Main thread is done\n"
     ]
    }
   ],
   "source": [
    "import threading\n",
    "import time\n",
    "\n",
    "class MyThread(threading.Thread):\n",
    "    def run(self):\n",
    "        time.sleep(2)\n",
    "        print(\"Thread is done\")\n",
    "\n",
    "t = MyThread()\n",
    "t.start()\n",
    "t.join()  # Waits for t to finish\n",
    "print(\"Main thread is done\")\n"
   ]
  },
  {
   "cell_type": "raw",
   "id": "0a3f7056-148b-4a32-b695-a03226996520",
   "metadata": {},
   "source": [
    "4. is_alive()\n",
    "The is_alive() method returns True if the thread is still running and False if it has finished its work. It can be used to check whether a thread is still executing."
   ]
  },
  {
   "cell_type": "code",
   "execution_count": 5,
   "id": "24efa66d-8939-444c-a462-366507198ac4",
   "metadata": {},
   "outputs": [
    {
     "name": "stdout",
     "output_type": "stream",
     "text": [
      "True\n",
      "Thread is done\n",
      "False\n"
     ]
    }
   ],
   "source": [
    "import threading\n",
    "import time\n",
    "\n",
    "class MyThread(threading.Thread):\n",
    "    def run(self):\n",
    "        time.sleep(2)\n",
    "        print(\"Thread is done\")\n",
    "\n",
    "t = MyThread()\n",
    "t.start()\n",
    "\n",
    "print(t.is_alive())  # True, as the thread is still running\n",
    "time.sleep(3)\n",
    "print(t.is_alive())  # False, as the thread has finished\n"
   ]
  },
  {
   "cell_type": "raw",
   "id": "acf567bf-6e77-4654-8fdb-03849699603a",
   "metadata": {},
   "source": [
    "Q4. Write a python program to create two threads. Thread one must print the list of squares and thread two must print the list of cubes.\n"
   ]
  },
  {
   "cell_type": "code",
   "execution_count": 6,
   "id": "9f46fd75-7f27-411a-9616-8fbcffe10e2d",
   "metadata": {},
   "outputs": [
    {
     "name": "stdout",
     "output_type": "stream",
     "text": [
      "Squares: [1, 4, 9, 16, 25, 36, 49, 64, 81, 100]\n",
      "Cubes: [1, 8, 27, 64, 125, 216, 343, 512, 729, 1000]\n",
      "Both threads are done\n"
     ]
    }
   ],
   "source": [
    "import threading\n",
    "\n",
    "# Function to print squares\n",
    "def print_squares():\n",
    "    squares = [i ** 2 for i in range(1, 11)]\n",
    "    print(\"Squares:\", squares)\n",
    "\n",
    "# Function to print cubes\n",
    "def print_cubes():\n",
    "    cubes = [i ** 3 for i in range(1, 11)]\n",
    "    print(\"Cubes:\", cubes)\n",
    "\n",
    "# Creating threads\n",
    "thread1 = threading.Thread(target=print_squares)\n",
    "thread2 = threading.Thread(target=print_cubes)\n",
    "\n",
    "# Starting threads\n",
    "thread1.start()\n",
    "thread2.start()\n",
    "\n",
    "# Waiting for both threads to complete\n",
    "thread1.join()\n",
    "thread2.join()\n",
    "\n",
    "print(\"Both threads are done\")\n"
   ]
  },
  {
   "cell_type": "markdown",
   "id": "49507e93-533c-46d6-9404-7cd0ba11968e",
   "metadata": {},
   "source": [
    "Q5. State advantages and disadvantages of multithreading.\n",
    "\n",
    "Advantages of Multithreading\n",
    "\n",
    "1) Concurrency: Multithreading allows multiple tasks to run concurrently, improving the efficiency and responsiveness of applications.\n",
    "2) Resource Sharing: Threads share the same memory space, which facilitates easier and faster communication and data sharing between them.\n",
    "3) Improved Performance for I/O-bound Tasks: For tasks that spend a lot of time waiting for I/O operations (e.g., reading from disk, network communication), multithreading can significantly improve performance by allowing other threads to run while waiting.\n",
    "4) Enhanced User Experience: In GUI applications, multithreading can keep the interface responsive by performing background operations without freezing the main thread.\n",
    "5) Cost-effective: Threads are more lightweight than processes, consuming less memory and resources. This can be more cost-effective in terms of resource utilization.\n",
    "\n",
    "Disadvantages of Multithreading\n",
    "\n",
    "1) Complexity: Writing multithreaded programs can be complex and error-prone due to the need for synchronization mechanisms to avoid race conditions, deadlocks, and other concurrency issues.\n",
    "2) Debugging Difficulties: Debugging multithreaded applications is challenging because of the non-deterministic nature of thread execution, making it hard to reproduce and fix bugs.\n",
    "3) Global Interpreter Lock (GIL) in Python: In CPython, the Global Interpreter Lock (GIL) prevents true parallel execution of threads for CPU-bound tasks, limiting the benefits of multithreading in Python.\n",
    "4) Context Switching Overhead: Frequent context switching between threads can introduce overhead, potentially reducing the overall performance of an application.\n",
    "5) Scalability Issues: While multithreading can improve performance for I/O-bound tasks, it may not scale well for CPU-bound tasks due to the GIL in Python or the overhead of managing many threads.\n",
    "   "
   ]
  },
  {
   "cell_type": "raw",
   "id": "22512d6b-cf06-4b01-a859-d83259943aa6",
   "metadata": {},
   "source": [
    "Q6. Explain deadlocks and race conditions.\n",
    "\n",
    "Deadlocks\n",
    "Definition: A deadlock is a situation in concurrent programming where two or more threads are unable to proceed because each is waiting for the other to release a resource. This results in a standstill where none of the threads can continue execution.\n",
    "\n",
    "Conditions for Deadlock:\n",
    "\n",
    "Mutual Exclusion: At least one resource must be held in a non-shareable mode. If one thread has a resource, other threads cannot use it.\n",
    "Hold and Wait: A thread holding at least one resource is waiting to acquire additional resources held by other threads.\n",
    "No Preemption: Resources cannot be forcibly taken away from a thread; they must be released voluntarily.\n",
    "Circular Wait: There exists a set of threads {T1, T2, ..., Tn} such that T1 is waiting for a resource held by T2, T2 is waiting for a resource held by T3, and so on, with Tn waiting for a resource held by T1.\n",
    "\n",
    "In this example, if thread1 acquires lock1 and thread2 acquires lock2, they will both wait indefinitely for each other to release the locks, resulting in a deadlock.\n"
   ]
  },
  {
   "cell_type": "code",
   "execution_count": 7,
   "id": "8f70e2d2-3fd3-4474-9704-f88cdc1d4fb8",
   "metadata": {},
   "outputs": [
    {
     "name": "stdout",
     "output_type": "stream",
     "text": [
      "Thread 1 acquired lock 1\n",
      "Thread 1 acquired lock 2\n",
      "Thread 2 acquired lock 2\n",
      "Thread 2 acquired lock 1\n"
     ]
    }
   ],
   "source": [
    "import threading\n",
    "\n",
    "lock1 = threading.Lock()\n",
    "lock2 = threading.Lock()\n",
    "\n",
    "def thread1_routine():\n",
    "    with lock1:\n",
    "        print(\"Thread 1 acquired lock 1\")\n",
    "        with lock2:\n",
    "            print(\"Thread 1 acquired lock 2\")\n",
    "\n",
    "def thread2_routine():\n",
    "    with lock2:\n",
    "        print(\"Thread 2 acquired lock 2\")\n",
    "        with lock1:\n",
    "            print(\"Thread 2 acquired lock 1\")\n",
    "\n",
    "t1 = threading.Thread(target=thread1_routine)\n",
    "t2 = threading.Thread(target=thread2_routine)\n",
    "\n",
    "t1.start()\n",
    "t2.start()\n",
    "\n",
    "t1.join()\n",
    "t2.join()"
   ]
  },
  {
   "cell_type": "raw",
   "id": "905309e0-0306-4d06-a9ad-7e6a22762fce",
   "metadata": {},
   "source": [
    "Race Conditions\n",
    "Definition: A race condition occurs when two or more threads can access shared data and they try to change it at the same time. The outcome of the execution depends on the non-deterministic order of the threads' execution, leading to unpredictable and erroneous behavior.\n"
   ]
  },
  {
   "cell_type": "code",
   "execution_count": 8,
   "id": "ff5e06ef-f423-4e34-9d82-030d045aed32",
   "metadata": {},
   "outputs": [
    {
     "name": "stdout",
     "output_type": "stream",
     "text": [
      "Final counter value: 1000000\n"
     ]
    }
   ],
   "source": [
    "import threading\n",
    "\n",
    "counter = 0\n",
    "counter_lock = threading.Lock()\n",
    "\n",
    "def increment_counter():\n",
    "    global counter\n",
    "    for _ in range(100000):\n",
    "        counter += 1\n",
    "\n",
    "threads = []\n",
    "for _ in range(10):\n",
    "    t = threading.Thread(target=increment_counter)\n",
    "    threads.append(t)\n",
    "    t.start()\n",
    "\n",
    "for t in threads:\n",
    "    t.join()\n",
    "\n",
    "print(\"Final counter value:\", counter)\n"
   ]
  },
  {
   "cell_type": "raw",
   "id": "eeb1ec8e-c60a-466b-bd7f-29702b1e2c92",
   "metadata": {},
   "source": [
    "In this example, multiple threads are incrementing the same counter variable. Due to the lack of synchronization, threads may read, modify, and write the value of counter simultaneously, leading to inconsistent and incorrect results. The expected value of counter should be 1,000,000 (10 threads * 100,000 increments), but the actual result may be different because of race conditions.\n",
    "\n",
    "Avoiding Race Conditions: Use synchronization mechanisms like locks to ensure that only one thread can access the critical section at a time."
   ]
  },
  {
   "cell_type": "code",
   "execution_count": 9,
   "id": "276eb810-59a4-44de-a76b-9955786d4991",
   "metadata": {},
   "outputs": [],
   "source": [
    "def increment_counter():\n",
    "    global counter\n",
    "    for _ in range(100000):\n",
    "        with counter_lock:\n",
    "            counter += 1"
   ]
  },
  {
   "cell_type": "raw",
   "id": "2f298687-f76a-4c4e-9112-b734e75cae35",
   "metadata": {},
   "source": [
    "Using the lock (counter_lock) ensures that the counter is updated correctly by one thread at a time, preventing race conditions."
   ]
  },
  {
   "cell_type": "code",
   "execution_count": null,
   "id": "c7bae710-6f4d-4df3-aa09-9bda7cf98b74",
   "metadata": {},
   "outputs": [],
   "source": []
  }
 ],
 "metadata": {
  "kernelspec": {
   "display_name": "Python 3 (ipykernel)",
   "language": "python",
   "name": "python3"
  },
  "language_info": {
   "codemirror_mode": {
    "name": "ipython",
    "version": 3
   },
   "file_extension": ".py",
   "mimetype": "text/x-python",
   "name": "python",
   "nbconvert_exporter": "python",
   "pygments_lexer": "ipython3",
   "version": "3.11.8"
  }
 },
 "nbformat": 4,
 "nbformat_minor": 5
}
