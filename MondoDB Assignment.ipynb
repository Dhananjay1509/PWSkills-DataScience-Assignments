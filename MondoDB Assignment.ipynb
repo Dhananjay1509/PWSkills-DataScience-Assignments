{
 "cells": [
  {
   "cell_type": "markdown",
   "id": "4d60764a-8a2d-402c-af94-02b9f4b5af69",
   "metadata": {},
   "source": [
    "Q1. What is MongoDB? Explain non-relational databases in short. In which scenarios it is preferred to use MongoDB over SQL databases?\n",
    "\n",
    "   MongoDB is a popular document-oriented, non-relational database that offers high performance, scalability, and flexibility. Non-Relational Databases\n",
    "\n",
    "   Non-relational databases, also known as NoSQL databases, store data in a non-tabular form, providing more flexibility than traditional relational databases. They are designed to handle large volumes of unstructured or semi-structured data and excel in scenarios requiring rapid development and horizontal scalability.\n",
    "\n",
    "***MongoDB vs SQL Databases***\n",
    "MongoDB is preferred over SQL databases in the following scenarios:\n",
    "Flexible Schema: When dealing with data that has a changing structure or requires frequent updates to the schema.\n",
    "Scalability: For applications that need to handle large amounts of data and require horizontal scaling.\n",
    "Performance: When high-speed read and write operations are crucial, especially for real-time data.\n",
    "Complex Data Structures: For storing nested or hierarchical data that doesn't fit well into a tabular format.\n",
    "Agile Development: In projects that require rapid iterations and frequent changes to data models.\n"
   ]
  },
  {
   "cell_type": "markdown",
   "id": "c17a8b77-1614-452f-af5d-cfa9391ebcb7",
   "metadata": {},
   "source": [
    "Q2. State and Explain the features of MongoDB.\n",
    "\n",
    "***Features of MongoDB***\n",
    "\n",
    "Document-Oriented: Stores data in flexible, JSON-like BSON documents.\n",
    "High Performance: Provides high read and write throughput for large-scale applications.\n",
    "Horizontal Scalability: Supports sharding for distributing data across multiple servers.\n",
    "Indexing: Supports various types of indexes to improve query performance.\n",
    "Aggregation Framework: Offers powerful data aggregation tools.\n",
    "Replication: Provides high availability through replica sets.\n"
   ]
  },
  {
   "cell_type": "markdown",
   "id": "0c003d99-1e5b-41ee-9250-eb4ac08b1b03",
   "metadata": {},
   "source": [
    "Q3. Write a code to connect MongoDB to Python. Also, create a database and a collection in MongoDB.\n"
   ]
  },
  {
   "cell_type": "code",
   "execution_count": 24,
   "id": "8d02f93f-2bf7-4c8c-b316-3f159b7d0ffb",
   "metadata": {},
   "outputs": [
    {
     "name": "stdout",
     "output_type": "stream",
     "text": [
      "Defaulting to user installation because normal site-packages is not writeable\n",
      "Requirement already satisfied: pymongo in c:\\users\\15dha\\appdata\\roaming\\python\\python311\\site-packages (4.8.0)\n",
      "Requirement already satisfied: dnspython<3.0.0,>=1.16.0 in c:\\users\\15dha\\appdata\\roaming\\python\\python311\\site-packages (from pymongo) (2.6.1)\n",
      "connection established\n"
     ]
    }
   ],
   "source": [
    "!pip install pymongo\n",
    "\n",
    "from pymongo import MongoClient\n",
    "\n",
    "client = MongoClient('mongodb+srv://********************cluster0.rtk8e.mongodb.net/?retryWrites=true&w=majority&appName=Cluster0')\n",
    "\n",
    "db = client['mydatabase1']\n",
    "collection = db['mycollection1']\n",
    "print(\"connection established\")"
   ]
  },
  {
   "cell_type": "markdown",
   "id": "c0868597-0bf0-4a35-b3e7-2e0eea7dfb61",
   "metadata": {},
   "source": [
    "Q4. Using the database and the collection created in question number 3, write a code to insert one record, and insert many records. Use the find() and find_one() methods to print the inserted record."
   ]
  },
  {
   "cell_type": "code",
   "execution_count": 35,
   "id": "d7dfaeb4-e834-4ec9-992e-9492690b54ac",
   "metadata": {},
   "outputs": [
    {
     "name": "stdout",
     "output_type": "stream",
     "text": [
      "Defaulting to user installation because normal site-packages is not writeable\n",
      "Requirement already satisfied: pymongo in c:\\users\\15dha\\appdata\\roaming\\python\\python311\\site-packages (4.8.0)\n",
      "Requirement already satisfied: dnspython<3.0.0,>=1.16.0 in c:\\users\\15dha\\appdata\\roaming\\python\\python311\\site-packages (from pymongo) (2.6.1)\n",
      "connection established\n",
      "Insert one document in the query\n",
      "Inserted ID: 66cd9f02a0c2dfca4f27026e\n",
      "Insert many documents int he query\n",
      "Inserted IDs: [ObjectId('66cd9f03a0c2dfca4f27026f'), ObjectId('66cd9f03a0c2dfca4f270270')]\n",
      "First document that maches the query\n",
      "{'_id': ObjectId('66cd9f03a0c2dfca4f270270'), 'name': 'Bob', 'age': 35}\n",
      "All documents in collection\n",
      "{'_id': ObjectId('66cd9f02a0c2dfca4f27026e'), 'name': 'John', 'age': 30}\n",
      "{'_id': ObjectId('66cd9f03a0c2dfca4f27026f'), 'name': 'Alice', 'age': 25}\n",
      "{'_id': ObjectId('66cd9f03a0c2dfca4f270270'), 'name': 'Bob', 'age': 35}\n"
     ]
    }
   ],
   "source": [
    "!pip install pymongo\n",
    "\n",
    "from pymongo import MongoClient\n",
    "\n",
    "client = MongoClient('mongodb+srv://********************cluster0.rtk8e.mongodb.net/?retryWrites=true&w=majority&appName=Cluster0')\n",
    "\n",
    "db = client['mydatabase1']\n",
    "collection = db['mycollection1']\n",
    "print(\"connection established\")\n",
    "\n",
    "# collection = db['mycollection1']  \n",
    "# collection.drop()\n",
    "# print(\"The collection has been dropped successfully.\")\n",
    "\n",
    "print(\"Insert one document in the query\")\n",
    "record = {\"name\": \"John\", \"age\": 30}\n",
    "result = collection.insert_one(record)\n",
    "print(f\"Inserted ID: {result.inserted_id}\")\n",
    "\n",
    "records = [{\"name\": \"Alice\", \"age\": 25},\n",
    "           {\"name\": \"Bob\", \"age\": 35}]\n",
    "\n",
    "print(\"Insert many documents int he query\")\n",
    "result = collection.insert_many(records)\n",
    "print(f\"Inserted IDs: {result.inserted_ids}\")\n",
    "\n",
    "print(\"First document that maches the query\")\n",
    "print(collection.find_one({\"age\": 35}))\n",
    "\n",
    "print(\"All documents in collection\")\n",
    "for doc in collection.find():\n",
    "    print(doc)\n",
    "\n",
    "client.close()"
   ]
  },
  {
   "cell_type": "markdown",
   "id": "3bf8dd3e-ffd4-4969-925f-9fef3090865f",
   "metadata": {},
   "source": [
    "Q5. Explain how you can use the find() method to query the MongoDB database. Write a simple code to demonstrate this.\n",
    "\n",
    "The find() method in MongoDB is used to retrieve documents from a collection that match a specified query. It returns a cursor, which can be iterated over to access the documents that meet the criteria. The find() method is versatile and allows for various query operators to filter documents based on specific fields and conditions.\n"
   ]
  },
  {
   "cell_type": "code",
   "execution_count": 36,
   "id": "dea5cf49-201c-41d4-a4f0-5f59a8a7fae9",
   "metadata": {},
   "outputs": [
    {
     "name": "stdout",
     "output_type": "stream",
     "text": [
      "Documents with age greater than 28:\n",
      "{'_id': ObjectId('66cdcff9a0c2dfca4f270272'), 'name': 'John', 'age': 30}\n",
      "{'_id': ObjectId('66cdcff9a0c2dfca4f270274'), 'name': 'Bob', 'age': 35}\n"
     ]
    }
   ],
   "source": [
    "from pymongo import MongoClient\n",
    "\n",
    "client = MongoClient('mongodb+srv://********************cluster0.rtk8e.mongodb.net/?retryWrites=true&w=majority&appName=Cluster0')\n",
    "db = client['mydatabase2']  # Replace with your database name\n",
    "collection = db['mycollection2']  # Replace with your collection name\n",
    "\n",
    "collection.insert_many([\n",
    "    {\"name\": \"John\", \"age\": 30},\n",
    "    {\"name\": \"Alice\", \"age\": 25},\n",
    "    {\"name\": \"Bob\", \"age\": 35},\n",
    "    {\"name\": \"Charlie\", \"age\": 28}\n",
    "])\n",
    "\n",
    "# Use find() to query documents where age is greater than 28\n",
    "query = {\"age\": {\"$gt\": 28}} \n",
    "\n",
    "cursor = collection.find(query)\n",
    "\n",
    "print(\"Documents with age greater than 28:\")\n",
    "for document in cursor:\n",
    "    print(document) "
   ]
  },
  {
   "cell_type": "markdown",
   "id": "b2657579-5bdf-419a-b8fc-0897fe792604",
   "metadata": {},
   "source": [
    "Q6. Explain the sort() method. Give an example to demonstrate sorting in MongoDB.\n",
    "\n",
    "The sort() method in MongoDB is used to specify the order in which the query returns matching documents from a collection. It allows users to arrange documents in either ascending (1) or descending (-1) order based on the values of one or more fields."
   ]
  },
  {
   "cell_type": "code",
   "execution_count": 37,
   "id": "2877fc25-2ec6-4837-8cf1-f78c17baff01",
   "metadata": {},
   "outputs": [
    {
     "name": "stdout",
     "output_type": "stream",
     "text": [
      "Students sorted by age (ascending):\n",
      "{'_id': ObjectId('66cdd1c2a0c2dfca4f270278'), 'name': 'Alice', 'age': 25}\n",
      "{'_id': ObjectId('66cdd1c2a0c2dfca4f27027a'), 'name': 'Charlie', 'age': 28}\n",
      "{'_id': ObjectId('66cdd1c2a0c2dfca4f270277'), 'name': 'John', 'age': 30}\n",
      "{'_id': ObjectId('66cdd1c2a0c2dfca4f270279'), 'name': 'Bob', 'age': 35}\n",
      "\n",
      "Students sorted by age (descending):\n",
      "{'_id': ObjectId('66cdd1c2a0c2dfca4f270279'), 'name': 'Bob', 'age': 35}\n",
      "{'_id': ObjectId('66cdd1c2a0c2dfca4f270277'), 'name': 'John', 'age': 30}\n",
      "{'_id': ObjectId('66cdd1c2a0c2dfca4f27027a'), 'name': 'Charlie', 'age': 28}\n",
      "{'_id': ObjectId('66cdd1c2a0c2dfca4f270278'), 'name': 'Alice', 'age': 25}\n"
     ]
    }
   ],
   "source": [
    "from pymongo import MongoClient\n",
    "\n",
    "client = MongoClient('mongodb+srv://********************cluster0.rtk8e.mongodb.net/?retryWrites=true&w=majority&appName=Cluster0')\n",
    "db = client['mydatabase3'] \n",
    "collection = db['students3']  \n",
    "\n",
    "collection.insert_many([\n",
    "    {\"name\": \"John\", \"age\": 30},\n",
    "    {\"name\": \"Alice\", \"age\": 25},\n",
    "    {\"name\": \"Bob\", \"age\": 35},\n",
    "    {\"name\": \"Charlie\", \"age\": 28}\n",
    "])\n",
    "\n",
    "sorted_results = collection.find().sort(\"age\", 1)\n",
    "\n",
    "print(\"Students sorted by age (ascending):\")\n",
    "for student in sorted_results:\n",
    "    print(student)\n",
    "\n",
    "sorted_results_desc = collection.find().sort(\"age\", -1)\n",
    "\n",
    "print(\"\\nStudents sorted by age (descending):\")\n",
    "for student in sorted_results_desc:\n",
    "    print(student)\n",
    "    "
   ]
  },
  {
   "cell_type": "markdown",
   "id": "ab54ea30-1ae6-441f-b1a9-6f4a8954c550",
   "metadata": {},
   "source": [
    "Q7. Explain why delete_one(), delete_many(), and drop() is used.\n",
    "\n",
    "In MongoDB, there are three main methods used for deleting documents or collections: delete_one(), delete_many(), and drop(). Each method serves a specific purpose and is used in different scenarios. Let's explain each method and why it is used:\n",
    "\n",
    "delete_one():\n",
    "Purpose: Deletes a single document that matches the specified filter criteria.\n",
    "Use Case: When you want to remove a specific document from a collection based on a unique identifier or a set of conditions.\n",
    "Example: Deleting a user document with a specific email address.\n",
    "\n",
    "delete_many():\n",
    "Purpose: Deletes multiple documents that match the specified filter criteria.\n",
    "Use Case: When you want to remove a set of documents from a collection based on certain conditions.\n",
    "Example: Deleting all documents with a specific status or documents older than a certain date.\n",
    "\n",
    "drop():\n",
    "Purpose: Removes an entire collection from the database, including all its documents and indexes.\n",
    "Use Case: When you want to completely remove a collection and its contents from the database.\n",
    "Example: Deleting an obsolete collection that is no longer needed.\n"
   ]
  },
  {
   "cell_type": "code",
   "execution_count": null,
   "id": "25f6f572-ee13-4455-8f9c-71a88fd84873",
   "metadata": {},
   "outputs": [],
   "source": []
  }
 ],
 "metadata": {
  "kernelspec": {
   "display_name": "Python 3 (ipykernel)",
   "language": "python",
   "name": "python3"
  },
  "language_info": {
   "codemirror_mode": {
    "name": "ipython",
    "version": 3
   },
   "file_extension": ".py",
   "mimetype": "text/x-python",
   "name": "python",
   "nbconvert_exporter": "python",
   "pygments_lexer": "ipython3",
   "version": "3.11.8"
  }
 },
 "nbformat": 4,
 "nbformat_minor": 5
}
