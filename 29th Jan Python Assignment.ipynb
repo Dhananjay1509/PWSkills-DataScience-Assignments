{
 "cells": [
  {
   "cell_type": "raw",
   "id": "0d4fb39a-a894-4f8a-bb9e-99c217a46c2f",
   "metadata": {},
   "source": [
    "1. Who developed Python Programming Language?\n",
    "\n",
    "Python was developed by Guido van Rossum. \n"
   ]
  },
  {
   "cell_type": "raw",
   "id": "cc1c00c4-0f79-402a-b356-b59c43a6f0dc",
   "metadata": {},
   "source": [
    "2. Which type of Programming does Python support?\n",
    "\n",
    "Python supports multiple programming paradigms, including structured (particularly    procedural), objectoriented, and functional programming. \n"
   ]
  },
  {
   "cell_type": "raw",
   "id": "180629c3-02fb-4557-ac78-b71435935560",
   "metadata": {},
   "source": [
    "3. Is Python case sensitive when dealing with identifiers?\n",
    "\n",
    "Python is case-sensitive when dealing with identifiers. \n"
   ]
  },
  {
   "cell_type": "raw",
   "id": "03a76859-8df9-4dca-87e2-fc1066c00069",
   "metadata": {},
   "source": [
    "4. What is the correct extension of the Python file?\n",
    "\n",
    "The correct extension for a Python file is \".py\"\n"
   ]
  },
  {
   "cell_type": "raw",
   "id": "903925f5-284e-4063-ba7d-187000f9f6fb",
   "metadata": {},
   "source": [
    "5. Is Python code compiled or interpreted?\n",
    "\n",
    "Python code is interpreted. \n"
   ]
  },
  {
   "cell_type": "raw",
   "id": "bd4f9e59-0ebc-4ff4-bf54-8b8f699151fc",
   "metadata": {},
   "source": [
    "6. Name a few blocks of code used to define in Python on language?\n",
    "\n",
    "Python uses indentation to define blocks of code \n"
   ]
  },
  {
   "cell_type": "raw",
   "id": "701fefdd-8f77-4fe3-89ab-be6050c62c83",
   "metadata": {},
   "source": [
    "7. State a character used to give single-line comments in Python?\n",
    "\n",
    "The character used to give single-line comments in Python is the # symbol.\n"
   ]
  },
  {
   "cell_type": "raw",
   "id": "1fcbd8f2-c120-4c1d-ad43-2e0aa8c64f2b",
   "metadata": {},
   "source": [
    "8. Mention functions which can help us to find the version of python that we are currently working on?\n",
    "\n",
    "The functions that can help us find the version of Python that we are currently working on are sys.version and sys.version_info. \n"
   ]
  },
  {
   "cell_type": "raw",
   "id": "ca40d4d2-4a60-487e-9f92-fb0413a4ba36",
   "metadata": {},
   "source": [
    "9. Python supports the creation of anonymous functions at runtime, using a construct called\n",
    "\n",
    "Python supports the creation of anonymous functions at runtime using lambda functions \n"
   ]
  },
  {
   "cell_type": "raw",
   "id": "cec4c95a-f796-45d6-98a1-f0d7044bd213",
   "metadata": {},
   "source": [
    "10. What does pip stand for python?\n",
    "\n",
    "pip stands for Python Installer Package. \n"
   ]
  },
  {
   "cell_type": "raw",
   "id": "6cb46d68-5d79-4164-b977-bbca18f20271",
   "metadata": {},
   "source": [
    "11. Mention a few built-in functions in python?\n",
    "\n",
    "Some built-in functions in Python include print(), len(), type(), range(), sum(), and sorted(). \n"
   ]
  },
  {
   "cell_type": "raw",
   "id": "1ff5fe5b-cac2-4903-9811-57bf922360d3",
   "metadata": {},
   "source": [
    "12. What is the maximum possible length of an identifier in Python?\n",
    "\n",
    "The maximum possible length of an identifier in Python is unlimited, as long as it is a valid identifier \n"
   ]
  },
  {
   "cell_type": "raw",
   "id": "5960302f-06f7-4a3a-b69f-9bc9d3c80608",
   "metadata": {},
   "source": [
    "13. What are the benefits of using Python?\n",
    "\n",
    "Python is known for its simplicity, readability, and versatility\n"
   ]
  },
  {
   "cell_type": "raw",
   "id": "98f0a98a-7e0d-4359-b1f1-26fff98ea585",
   "metadata": {},
   "source": [
    "14. How is memory managed in Python?\n",
    "\n",
    "Python uses dynamic typing and a combination of reference counting and a cycle-detecting garbage collector for memory management. This means that Python automatically manages memory allocation and deallocation,freeing the programmer from these tasks \n"
   ]
  },
  {
   "cell_type": "raw",
   "id": "e44871f5-2a6a-45a9-928c-7d82f303b3bc",
   "metadata": {},
   "source": [
    "15. How to install Python on Windows and set path variables?\n",
    "\n",
    "To install Python on Windows, you can download the latest version from the official Python website and follow the installation instructions. To set path variables, you need to add the Python executable directory to your system's PATH environment variable. This allows you to run Python from any directory without specifying the full path to the executable. \n"
   ]
  },
  {
   "cell_type": "raw",
   "id": "2069236e-6c85-4e7d-84a4-bb63151b6ec1",
   "metadata": {},
   "source": [
    "16. Is indentation required in python?\n",
    "\n",
    "Yes, indentation is required in Python. It is used to define blocks of code and is a fundamental part of Python's syntax.\n"
   ]
  },
  {
   "cell_type": "code",
   "execution_count": null,
   "id": "939f9cc9-c066-4031-b382-015c91bb26cc",
   "metadata": {},
   "outputs": [],
   "source": []
  }
 ],
 "metadata": {
  "kernelspec": {
   "display_name": "Python 3 (ipykernel)",
   "language": "python",
   "name": "python3"
  },
  "language_info": {
   "codemirror_mode": {
    "name": "ipython",
    "version": 3
   },
   "file_extension": ".py",
   "mimetype": "text/x-python",
   "name": "python",
   "nbconvert_exporter": "python",
   "pygments_lexer": "ipython3",
   "version": "3.11.8"
  }
 },
 "nbformat": 4,
 "nbformat_minor": 5
}
