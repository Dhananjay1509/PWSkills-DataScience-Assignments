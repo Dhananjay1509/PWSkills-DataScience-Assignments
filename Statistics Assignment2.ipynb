{
 "cells": [
  {
   "cell_type": "markdown",
   "id": "bade3d2c-ab9d-4aed-a2cd-5f44d56cd4b8",
   "metadata": {},
   "source": [
    "#### Q1. What are the three measures of central tendency?\n",
    "The three measures of central tendency are:\n",
    "1. **Mean** - The arithmetic average of a set of numbers.\n",
    "2. **Median** - The middle value of a data set when it is ordered in ascending or descending order.\n",
    "3. **Mode** - The value that appears most frequently in a data set."
   ]
  },
  {
   "cell_type": "markdown",
   "id": "a2e8ad5f-fa3d-4793-9084-74bfeba0ec6f",
   "metadata": {},
   "source": [
    "#### Q2. What is the difference between the mean, median, and mode? How are they used to measure the central tendency of a dataset?\n",
    "\n",
    "- **Mean**: The mean is calculated by summing all the values in the dataset and then dividing by the number of values. It is sensitive to outliers, meaning that extremely high or low values can significantly affect the mean. The mean is used when all values are equally important and there are no extreme outliers.\n",
    "  \n",
    "- **Median**: The median is the middle value when the data is sorted in ascending or descending order. If there is an even number of observations, the median is the average of the two middle numbers. The median is not affected by outliers and is used when the dataset contains outliers or is skewed.\n",
    "\n",
    "- **Mode**: The mode is the value that occurs most frequently in the dataset. There can be more than one mode if multiple values have the same highest frequency. The mode is useful for categorical data where we wish to know which is the most common category."
   ]
  },
  {
   "cell_type": "markdown",
   "id": "6f94bc3f-f0b9-4b60-9637-7fafda73c6c9",
   "metadata": {},
   "source": [
    "#### Q3. Measure the three measures of central tendency for the given height data:\n",
    "[178,177,176,177,178.2,178,175,179,180,175,178.9,176.2,177,172.5,178,176.5]"
   ]
  },
  {
   "cell_type": "code",
   "execution_count": 1,
   "id": "39f01d80-2b42-45b3-ae2c-f5bd6e74bae5",
   "metadata": {},
   "outputs": [
    {
     "name": "stdout",
     "output_type": "stream",
     "text": [
      "Mean: 177.01875\n",
      "Median: 177.0\n",
      "Mode: 178\n"
     ]
    }
   ],
   "source": [
    "import statistics\n",
    "\n",
    "# Given height data\n",
    "heights = [178, 177, 176, 177, 178.2, 178, 175, 179, 180, 175, 178.9, 176.2, 177, 172.5, 178, 176.5]\n",
    "\n",
    "# Calculate mean\n",
    "mean_height = statistics.mean(heights)\n",
    "\n",
    "# Calculate median\n",
    "median_height = statistics.median(heights)\n",
    "\n",
    "# Calculate mode\n",
    "# Note: mode() will raise an error if there's no unique mode; handle this with try-except\n",
    "try:\n",
    "    mode_height = statistics.mode(heights)\n",
    "except statistics.StatisticsError as e:\n",
    "    mode_height = \"No unique mode\"\n",
    "\n",
    "# Print results\n",
    "print(f\"Mean: {mean_height}\")\n",
    "print(f\"Median: {median_height}\")\n",
    "print(f\"Mode: {mode_height}\")\n"
   ]
  },
  {
   "cell_type": "markdown",
   "id": "5f490c55-7538-4077-9a71-c8f7d4b8bb8e",
   "metadata": {},
   "source": [
    "#### Q4. Find the standard deviation for the given data:\n",
    "[178,177,176,177,178.2,178,175,179,180,175,178.9,176.2,177,172.5,178,176.5]"
   ]
  },
  {
   "cell_type": "code",
   "execution_count": 2,
   "id": "011bcc02-1521-4d20-8fd3-b8a57888611b",
   "metadata": {},
   "outputs": [
    {
     "name": "stdout",
     "output_type": "stream",
     "text": [
      "Standard Deviation: 1.8472389305844188\n"
     ]
    }
   ],
   "source": [
    "import statistics\n",
    "\n",
    "# Given data\n",
    "data = [178, 177, 176, 177, 178.2, 178, 175, 179, 180, 175, 178.9, 176.2, 177, 172.5, 178, 176.5]\n",
    "\n",
    "# Calculate standard deviation\n",
    "std_dev = statistics.stdev(data)\n",
    "\n",
    "# Print the result\n",
    "print(f\"Standard Deviation: {std_dev}\")\n"
   ]
  },
  {
   "cell_type": "markdown",
   "id": "4c3ac461-94a3-4860-970f-d87abc5c5b1c",
   "metadata": {},
   "source": [
    "#### Q5. How are measures of dispersion such as range, variance, and standard deviation used to describe the spread of a dataset? Provide an example.\n",
    "\n",
    "### Measures of Dispersion\n",
    "\n",
    "Measures of dispersion, such as range, variance, and standard deviation, are essential statistical tools that describe the spread or variability of a dataset. They provide insights into how data points differ from the central tendency, which is typically represented by the mean or median.\n",
    "\n",
    "#### Range\n",
    "\n",
    "The **range** is the simplest measure of dispersion, calculated as the difference between the maximum and minimum values in a dataset. It provides a quick sense of the spread but is sensitive to outliers. \n",
    "\n",
    "For example, if we have a dataset of student heights:\n",
    "\n",
    "- **Heights:** 150 cm, 160 cm, 175 cm, 190 cm, 200 cm\n",
    "\n",
    "The range would be calculated as:\n",
    "\n",
    "$$\n",
    "\\text{Range} = \\text{Maximum} - \\text{Minimum} = 200 \\, \\text{cm} - 150 \\, \\text{cm} = 50 \\, \\text{cm}\n",
    "$$\n",
    "\n",
    "\n",
    "This indicates that the heights vary by 50 cm.\n",
    "\n",
    "#### Variance\n",
    "\n",
    "**Variance** quantifies the average squared deviation of each data point from the mean. It provides a more comprehensive view of dispersion by considering all values in the dataset. The formula for variance ($\\sigma^2$) is:\n",
    "\n",
    "$$\n",
    "\\sigma^2 = \\frac{\\sum (X - \\mu)^2}{N}\n",
    "$$\n",
    "\n",
    "\n",
    "where \\(X\\) represents each value, \\(\\mu\\) is the mean, and \\(N\\) is the number of observations. \n",
    "\n",
    "For instance, if we have the dataset:\n",
    "\n",
    "- **Data:** 3, 1, 6, 2\n",
    "\n",
    "First, calculate the mean:\n",
    "\n",
    "$$\n",
    "\\mu = \\frac{3 + 1 + 6 + 2}{4} = 3\n",
    "$$\n",
    "\n",
    "\n",
    "Next, calculate the variance:\n",
    "\n",
    "$$\n",
    "\\sigma^2 = \\frac{(3-3)^2 + (1-3)^2 + (6-3)^2 + (2-3)^2}{4} = \\frac{0 + 4 + 9 + 1}{4} = 3.5\n",
    "$$\n",
    "\n",
    "\n",
    "This variance indicates how much the data points deviate from the mean on average.\n",
    "\n",
    "#### Standard Deviation\n",
    "\n",
    "The **standard deviation** is the square root of the variance and provides a measure of dispersion in the same units as the original data. It is calculated as:\n",
    "\n",
    "$$\n",
    "\\sigma = \\sqrt{\\sigma^2}\n",
    "$$\n",
    "\n",
    "\n",
    "Continuing from the previous example, the standard deviation would be:\n",
    "\n",
    "$$\n",
    "\\sigma = \\sqrt{3.5} \\approx 1.87\n",
    "$$\n",
    "\n",
    "\n",
    "This means that, on average, the data points deviate from the mean by approximately 1.87 units.\n",
    "\n",
    "#### Conclusion\n",
    "\n",
    "In summary, measures of dispersion such as range, variance, and standard deviation are crucial for understanding the variability within a dataset. They help identify how spread out the data points are and provide valuable context that complements measures of central tendency. For instance, two datasets may have the same mean but vastly different variances, indicating different levels of consistency or variability in the data. This understanding is vital in fields ranging from education to finance, where data analysis informs decision-making processes."
   ]
  },
  {
   "cell_type": "markdown",
   "id": "959c7c23-2e9d-4398-9180-260f64436055",
   "metadata": {},
   "source": [
    "#### Q6. What is a Venn diagram?\n",
    "\n",
    "### Venn Diagram\n",
    "\n",
    "A **Venn diagram** is a graphical representation used to illustrate the logical relationships between different sets. It typically consists of overlapping circles, where each circle represents a set, and the areas of overlap indicate common elements between the sets. This visual tool is particularly useful in various fields, including mathematics, statistics, logic, and computer science, to demonstrate the similarities and differences among sets.\n",
    "\n",
    "#### Key Features\n",
    "\n",
    "- **Sets Representation**: Each circle in a Venn diagram represents a specific set. The elements of the set are depicted as points inside the circle.\n",
    "\n",
    "- **Intersection**: The overlapping area between circles shows the intersection of the sets, which contains elements common to both sets.\n",
    "\n",
    "- **Union**: The entire area covered by the circles represents the union of the sets, encompassing all elements from both sets.\n",
    "\n",
    "- **Non-overlapping Areas**: Parts of the circles that do not overlap represent elements unique to each set."
   ]
  },
  {
   "attachments": {},
   "cell_type": "markdown",
   "id": "a628dd2f-6448-46a5-8fa2-7d1d21afc0a4",
   "metadata": {},
   "source": [
    "#### Q7. For the two given sets A = (2,3,4,5,6,7) & B = (0,2,6,8,10). Find:\n",
    "#### (i) A ∩ B\n",
    "#### (ii) A ⋃ B\n",
    "\n",
    "#### Intersection and Union of Sets\n",
    "\n",
    "To find the intersection and union of the two given sets \\( A \\) and \\( B \\), we can follow these definitions:\n",
    "\n",
    "- **Intersection (A ∩ B)**: This is the set of elements that are common to both sets.\n",
    "- **Union (A ∪ B)**: This is the set of all elements that are in either set, including duplicates.\n",
    "\n",
    "Given the sets:\n",
    "\n",
    "- \\( A = \\{2, 3, 4, 5, 6, 7\\} \\)\n",
    "- \\( B = \\{0, 2, 6, 8, 10\\} \\)\n",
    "\n",
    "#### (i) Intersection (A ∩ B)\n",
    "\n",
    "To find the intersection, we look for elements that are present in both sets \\( A \\) and \\( B \\):\n",
    "\n",
    "- Common elements: \\( 2 \\) and \\( 6 \\)\n",
    "\n",
    "Thus, the intersection is:\n",
    "\n",
    "$$\n",
    "A \\cap B = \\{2, 6\\}\n",
    "$$\n",
    "\n",
    "\n",
    "#### (ii) Union (A ∪ B)\n",
    "\n",
    "To find the union, we combine all unique elements from both sets:\n",
    "\n",
    "- Elements from \\( A \\): \\( 2, 3, 4, 5, 6, 7 \\)\n",
    "- Elements from \\( B \\): \\( 0, 2, 6, 8, 10 \\)\n",
    "\n",
    "Combining these and removing duplicates, we get:\n",
    "\n",
    "$$\n",
    "A \\cup B = \\{0, 2, 3, 4, 5, 6, 7, 8, 10\\}\n",
    "$$\n",
    "\n",
    "\n",
    "#### Summary\n",
    "\n",
    "- **Intersection (A ∩ B)**: \n",
    "$$\n",
    "\\{2, 6\\}\n",
    "$$\n",
    "\n",
    "\n",
    "- **Union (A ∪ B)**: \n",
    "$$\n",
    "\\{0, 2, 3, 4, 5, 6, 7, 8, 10\\}\n",
    "$$\n"
   ]
  },
  {
   "cell_type": "markdown",
   "id": "f78a6a68-eaca-45c0-a6e7-ccacb75e5bec",
   "metadata": {},
   "source": [
    "#### Q8: What do you understand about skewness in data?\n",
    "\n",
    "**Skewness** is a statistical measure that describes the asymmetry of a probability distribution about its mean. It indicates whether the data points are skewed to the left (negative skew) or to the right (positive skew). \n",
    "\n",
    "- **Positive Skewness**: The tail on the right side of the distribution is longer or fatter, indicating that most data points are concentrated on the left.\n",
    "- **Negative Skewness**: The tail on the left side is longer or fatter, indicating that most data points are concentrated on the right.\n",
    "\n",
    "Skewness provides insights into the shape of the data distribution, which is crucial for data analysis and decision-making processes.\n",
    "\n"
   ]
  },
  {
   "cell_type": "markdown",
   "id": "385ea88b-e89d-4da6-853d-d75584f346da",
   "metadata": {},
   "source": [
    "#### Q9: If a data is right skewed then what will be the position of median with respect to mean?\n",
    "\n",
    "In a right-skewed distribution, the mean is typically greater than the median. This occurs because the longer tail on the right pulls the mean in that direction, while the median, being the middle value, remains less affected by extreme values.\n",
    "\n"
   ]
  },
  {
   "cell_type": "markdown",
   "id": "45151030-bc00-42b8-969b-cd5c4791138e",
   "metadata": {},
   "source": [
    "#### Q10: Explain the difference between covariance and correlation. How are these measures used in statistical analysis?\n",
    "\n",
    "**Covariance** and **correlation** are both measures used to describe the relationship between two variables:\n",
    "\n",
    "- **Covariance**: Measures the degree to which two variables change together. A positive covariance indicates that as one variable increases, the other tends to increase, while a negative covariance indicates the opposite. However, covariance is not standardized, so its value can be difficult to interpret.\n",
    "\n",
    "- **Correlation**: Standardizes the covariance by dividing it by the product of the standard deviations of the two variables, resulting in a value between -1 and 1. A correlation of 1 indicates a perfect positive relationship, -1 indicates a perfect negative relationship, and 0 indicates no relationship.\n",
    "\n",
    "Both measures are used in statistical analysis to assess relationships, make predictions, and inform decision-making processes."
   ]
  },
  {
   "cell_type": "markdown",
   "id": "aa007e1d-8ec4-40da-a3f4-bb649592a1dc",
   "metadata": {},
   "source": [
    "#### Q11: What is the formula for calculating the sample mean? Provide an example calculation for a dataset.\n",
    "\n",
    "The formula for calculating the **sample mean** (\\(\\bar{x}\\)) is:\n",
    "\n",
    "$$\n",
    "\\bar{x} = \\frac{\\sum_{i=1}^{n} x_i}{n}\n",
    "$$\n",
    "\n",
    "## Sample Mean Formula\n",
    "\n",
    "The formula for calculating the **sample mean** (\\(\\bar{x}\\)) is:\n",
    "\n",
    "$$\n",
    "\\bar{x} = \\frac{\\sum_{i=1}^{n} x_i}{n}\n",
    "$$\n",
    "\n",
    "\n",
    "where:\n",
    "- \\(\\bar{x}\\) is the sample mean.\n",
    "- \\(\\sum_{i=1}^{n} x_i\\) is the sum of all the values (\\(x_i\\)) in the dataset.\n",
    "- \\(n\\) is the total number of observations in the dataset.\n",
    "\n",
    "\n",
    "where \\(x_i\\) represents each value in the dataset and \\(n\\) is the number of observations.\n",
    "\n",
    "##### Example Calculation\n",
    "\n",
    "For the dataset: \\(5, 10, 15, 20\\)\n",
    "\n",
    "1. Calculate the sum: \\(5 + 10 + 15 + 20 = 50\\)\n",
    "2. Count the number of observations: \\(n = 4\\)\n",
    "3. Calculate the mean:\n",
    "\n",
    "$$\n",
    "\\bar{x} = \\frac{50}{4} = 12.5\n",
    "$$"
   ]
  },
  {
   "cell_type": "markdown",
   "id": "31820636-e024-421d-b4b8-6828542210e2",
   "metadata": {},
   "source": [
    "#### Q12: For a normal distribution data what is the relationship between its measure of central tendency?\n",
    "\n",
    "In a normal distribution, the measures of central tendency (mean, median, and mode) are all equal and located at the center of the distribution. This symmetry means that the distribution is perfectly balanced around the mean.\n"
   ]
  },
  {
   "cell_type": "markdown",
   "id": "7bea832e-681e-4c65-bb1c-70973bc78303",
   "metadata": {},
   "source": [
    "\n",
    "#### Q13: How is covariance different from correlation?\n",
    "\n",
    "Covariance and correlation differ primarily in their scale and interpretability:\n",
    "\n",
    "- **Covariance**: Not standardized and can take any value, making it difficult to interpret. It indicates the direction of the relationship but not the strength.\n",
    "\n",
    "- **Correlation**: Standardized measure that ranges from -1 to 1, making it easier to interpret. It quantifies both the direction and strength of the relationship between two variables.\n",
    "\n"
   ]
  },
  {
   "cell_type": "markdown",
   "id": "bdebb446-a3a7-444c-a857-f89740ac6825",
   "metadata": {},
   "source": [
    "#### Q14: How do outliers affect measures of central tendency and dispersion? Provide an example.\n",
    "\n",
    "Outliers can significantly affect measures of central tendency (mean, median, mode) and dispersion (variance, standard deviation):\n",
    "\n",
    "- **Mean**: Outliers can skew the mean, making it unrepresentative of the dataset. For example, in the dataset \\(1, 2, 3, 4, 100\\), the mean is \\(22\\), which does not reflect the majority of the data.\n",
    "\n",
    "- **Median**: The median is less affected by outliers and provides a better measure of central tendency in skewed distributions. In the same dataset, the median is \\(3\\).\n",
    "\n",
    "- **Variance and Standard Deviation**: Outliers can inflate these measures, indicating greater variability than is present in the majority of the data.\n",
    "\n",
    "##### Example\n",
    "\n",
    "Consider the dataset \\(10, 12, 14, 15, 16, 100\\):\n",
    "- Mean: \\(18.5\\) (affected by the outlier \\(100\\))\n",
    "- Median: \\(14.5\\) (not affected)\n",
    "- Standard Deviation: Significantly higher due to the outlier."
   ]
  },
  {
   "cell_type": "code",
   "execution_count": null,
   "id": "95aeb087-990f-4883-bf75-0696ddf06ad3",
   "metadata": {},
   "outputs": [],
   "source": []
  },
  {
   "cell_type": "code",
   "execution_count": null,
   "id": "3cf0e9ab-1cf2-4043-9d37-342069dac037",
   "metadata": {},
   "outputs": [],
   "source": []
  }
 ],
 "metadata": {
  "kernelspec": {
   "display_name": "Python 3 (ipykernel)",
   "language": "python",
   "name": "python3"
  },
  "language_info": {
   "codemirror_mode": {
    "name": "ipython",
    "version": 3
   },
   "file_extension": ".py",
   "mimetype": "text/x-python",
   "name": "python",
   "nbconvert_exporter": "python",
   "pygments_lexer": "ipython3",
   "version": "3.11.8"
  }
 },
 "nbformat": 4,
 "nbformat_minor": 5
}
