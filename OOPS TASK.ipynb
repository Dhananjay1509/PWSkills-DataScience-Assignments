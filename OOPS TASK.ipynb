{
 "cells": [
  {
   "cell_type": "raw",
   "id": "27c45463-04c0-4f4c-86a1-ccf7a5728ce3",
   "metadata": {},
   "source": [
    "Q1. Create a vehicle class with an init method having instance variables as name_of_vehicle, max_speed and average_of_vehicle.\n"
   ]
  },
  {
   "cell_type": "code",
   "execution_count": 1,
   "id": "acbd672a-8855-4900-a108-ad798a30c5f7",
   "metadata": {},
   "outputs": [
    {
     "name": "stdout",
     "output_type": "stream",
     "text": [
      "Car\n",
      "200\n",
      "10\n"
     ]
    }
   ],
   "source": [
    "class Vehicle:\n",
    "    def __init__(self, name_of_vehicle, max_speed, average_of_vehicle):\n",
    "        self.name_of_vehicle = name_of_vehicle\n",
    "        self.max_speed = max_speed\n",
    "        self.average_of_vehicle = average_of_vehicle\n",
    "\n",
    "# Example usage:\n",
    "vehicle1 = Vehicle(\"Car\", 200, 10)\n",
    "print(vehicle1.name_of_vehicle)       # Output: Car\n",
    "print(vehicle1.max_speed)             # Output: 200\n",
    "print(vehicle1.average_of_vehicle)    # Output: 10\n"
   ]
  },
  {
   "cell_type": "raw",
   "id": "f9e1fef6-8c29-419a-bd47-753bd38308e4",
   "metadata": {},
   "source": [
    "Q2. Create a child class car from the vehicle class created in Que 1, which will inherit the vehicle class. Create a method named seating_capacity which takes capacity as an argument and returns the name of the vehicle and its seating capacity.\n"
   ]
  },
  {
   "cell_type": "code",
   "execution_count": 2,
   "id": "82b6b0c3-71c8-4b66-b0d3-60250345f872",
   "metadata": {},
   "outputs": [
    {
     "name": "stdout",
     "output_type": "stream",
     "text": [
      "Name of Vehicle: Toyota Camry\n",
      "Max Speed: 180 km/h\n",
      "Average Fuel Consumption: 12 liters/100km\n",
      "The Toyota Camry has a seating capacity of 5.\n"
     ]
    }
   ],
   "source": [
    "class Vehicle:\n",
    "    def __init__(self, name_of_vehicle, max_speed, average_of_vehicle):\n",
    "        self.name_of_vehicle = name_of_vehicle\n",
    "        self.max_speed = max_speed\n",
    "        self.average_of_vehicle = average_of_vehicle\n",
    "\n",
    "class Car(Vehicle):\n",
    "    def __init__(self, name_of_vehicle, max_speed, average_of_vehicle):\n",
    "        super().__init__(name_of_vehicle, max_speed, average_of_vehicle)\n",
    "\n",
    "    def seating_capacity(self, capacity):\n",
    "        return f\"The {self.name_of_vehicle} has a seating capacity of {capacity}.\"\n",
    "\n",
    "car = Car(\"Toyota Camry\", 180, 12)\n",
    "\n",
    "print(f\"Name of Vehicle: {car.name_of_vehicle}\")\n",
    "print(f\"Max Speed: {car.max_speed} km/h\")\n",
    "print(f\"Average Fuel Consumption: {car.average_of_vehicle} liters/100km\")\n",
    "\n",
    "print(car.seating_capacity(5))  # Output: The Toyota Camry has a seating capacity of 5.\n"
   ]
  },
  {
   "cell_type": "raw",
   "id": "7158f92e-b562-44c1-9e7e-99c75f297e42",
   "metadata": {},
   "source": [
    "Q3. What is multiple inheritance? Write a python code to demonstrate multiple inheritance.\n",
    "\n",
    "Multiple inheritance in Python is a feature of object-oriented programming (OOP) where a class can inherit properties and methods from multiple parent classes. This allows a class to inherit behavior from multiple sources, which can be useful for creating complex and flexible class hierarchies.\n"
   ]
  },
  {
   "cell_type": "code",
   "execution_count": 3,
   "id": "6940556a-2886-4bdc-8145-6f70b15619ef",
   "metadata": {},
   "outputs": [
    {
     "name": "stdout",
     "output_type": "stream",
     "text": [
      "The animal eats.\n",
      "The mammal nurses its young.\n",
      "The dog barks.\n"
     ]
    }
   ],
   "source": [
    "class Animal:\n",
    "    def eat(self):\n",
    "        print(\"The animal eats.\")\n",
    "\n",
    "class Mammal:\n",
    "    def nurse(self):\n",
    "        print(\"The mammal nurses its young.\")\n",
    "\n",
    "class Dog(Animal, Mammal):\n",
    "    def bark(self):\n",
    "        print(\"The dog barks.\")\n",
    "\n",
    "# Create an instance of Dog\n",
    "dog = Dog()\n",
    "\n",
    "# Call methods from the parent classes\n",
    "dog.eat()  # Output: The animal eats.\n",
    "dog.nurse()  # Output: The mammal nurses its young.\n",
    "dog.bark()  # Output: The dog barks.\n"
   ]
  },
  {
   "cell_type": "raw",
   "id": "51561ea3-6de9-4e8f-91ca-5e905960d663",
   "metadata": {},
   "source": [
    "Q4. What are getter and setter in python? Create a class and create a getter and a setter method in this class.\n",
    "\n",
    "In Python, getter and setter methods are used to control the access and modification of an object's attributes. They provide a way to encapsulate the data and ensure that it is accessed and modified in a controlled manner."
   ]
  },
  {
   "cell_type": "code",
   "execution_count": 4,
   "id": "a5a879b1-bbc5-4b72-beca-cd47d21188a5",
   "metadata": {},
   "outputs": [
    {
     "name": "stdout",
     "output_type": "stream",
     "text": [
      "John Doe\n",
      "30\n",
      "Jane Smith\n",
      "25\n",
      "Age cannot be negative\n"
     ]
    }
   ],
   "source": [
    "class Person:\n",
    "    def __init__(self, name, age):\n",
    "        self.__name = name\n",
    "        self.__age = age\n",
    "\n",
    "    def get_name(self):\n",
    "        \"\"\"Getter method for the name attribute\"\"\"\n",
    "        return self.__name\n",
    "\n",
    "    def set_name(self, name):\n",
    "        \"\"\"Setter method for the name attribute\"\"\"\n",
    "        self.__name = name\n",
    "\n",
    "    def get_age(self):\n",
    "        \"\"\"Getter method for the age attribute\"\"\"\n",
    "        return self.__age\n",
    "\n",
    "    def set_age(self, age):\n",
    "        \"\"\"Setter method for the age attribute\"\"\"\n",
    "        if age < 0:\n",
    "            raise ValueError(\"Age cannot be negative\")\n",
    "        self.__age = age\n",
    "\n",
    "# Create a Person object\n",
    "person = Person(\"John Doe\", 30)\n",
    "\n",
    "# Access the name and age using getter methods\n",
    "print(person.get_name())  # Output: John Doe\n",
    "print(person.get_age())   # Output: 30\n",
    "\n",
    "# Modify the name and age using setter methods\n",
    "person.set_name(\"Jane Smith\")\n",
    "person.set_age(25)\n",
    "\n",
    "print(person.get_name())  # Output: Jane Smith\n",
    "print(person.get_age())   # Output: 25\n",
    "\n",
    "# Attempt to set a negative age\n",
    "try:\n",
    "    person.set_age(-10)\n",
    "except ValueError as e:\n",
    "    print(e)  # Output: Age cannot be negative"
   ]
  },
  {
   "cell_type": "raw",
   "id": "9f5edc65-8479-4565-95f4-3813a94908f7",
   "metadata": {},
   "source": [
    "Q5.What is method overriding in python? Write a python code to demonstrate method overriding.\n",
    "\n",
    "Method overriding in Python is a feature of object-oriented programming (OOP) where a subclass provides a different implementation for a method that is already defined in its superclass. This allows the subclass to customize the behavior of the method without changing the superclass."
   ]
  },
  {
   "cell_type": "code",
   "execution_count": 5,
   "id": "0ed421d0-e714-4e44-9c57-bfe494b6df36",
   "metadata": {},
   "outputs": [
    {
     "name": "stdout",
     "output_type": "stream",
     "text": [
      "The dog barks.\n",
      "The cat meows.\n"
     ]
    }
   ],
   "source": [
    "class Animal:\n",
    "    def sound(self):\n",
    "        print(\"The animal makes a generic sound.\")\n",
    "\n",
    "class Dog(Animal):\n",
    "    def sound(self):\n",
    "        print(\"The dog barks.\")\n",
    "\n",
    "class Cat(Animal):\n",
    "    def sound(self):\n",
    "        print(\"The cat meows.\")\n",
    "\n",
    "# Create instances of Dog and Cat\n",
    "dog = Dog()\n",
    "cat = Cat()\n",
    "\n",
    "# Call the sound method on each instance\n",
    "dog.sound()  # Output: The dog barks.\n",
    "cat.sound()  # Output: The cat meows."
   ]
  },
  {
   "cell_type": "code",
   "execution_count": null,
   "id": "d753a4d1-339d-482e-8d4b-531fbb5ac96b",
   "metadata": {},
   "outputs": [],
   "source": []
  }
 ],
 "metadata": {
  "kernelspec": {
   "display_name": "Python 3 (ipykernel)",
   "language": "python",
   "name": "python3"
  },
  "language_info": {
   "codemirror_mode": {
    "name": "ipython",
    "version": 3
   },
   "file_extension": ".py",
   "mimetype": "text/x-python",
   "name": "python",
   "nbconvert_exporter": "python",
   "pygments_lexer": "ipython3",
   "version": "3.11.8"
  }
 },
 "nbformat": 4,
 "nbformat_minor": 5
}
