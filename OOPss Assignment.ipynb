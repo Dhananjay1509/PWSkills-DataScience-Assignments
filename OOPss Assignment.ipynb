{
 "cells": [
  {
   "cell_type": "raw",
   "id": "dec4d5e8-ea37-466c-b8bc-75748322675f",
   "metadata": {},
   "source": [
    "Q1. Which function is used to open a file? What are the different modes of opening a file? Explain each mode of file opening.\n",
    "\n",
    "The function used to open a file in Python is the open() function. This function takes two parameters: the filename and the mode in which the file should be opened. The modes for opening a file are:\n",
    "\n",
    "\"r\" (Read Mode):\n",
    "Opens the file for reading. If the file does not exist, an error occurs.\n",
    "Example: f = open(\"demofile.txt\", \"r\")\n",
    "\n",
    "\"a\" (Append Mode):\n",
    "Opens the file for appending. If the file does not exist, it is created.\n",
    "Example: f = open(\"demofile.txt\", \"a\")\n",
    "\n",
    "\"w\" (Write Mode):\n",
    "Opens the file for writing. If the file exists, its contents are overwritten. If the file does not exist, a new file is created.\n",
    "Example: f = open(\"demofile.txt\", \"w\")\n",
    "\n",
    "\"x\" (Create Mode):\n",
    "Creates the specified file. If the file already exists, an error occurs.\n",
    "Example: f = open(\"demofile.txt\", \"x\")\n",
    "\n",
    "\"t\" (Text Mode):\n",
    "Default mode. Text mode is used for text files.\n",
    "Example: f = open(\"demofile.txt\", \"rt\")\n",
    "\n",
    "\"b\" (Binary Mode):\n",
    "Used for binary files, such as images.\n",
    "Example: f = open(\"demofile.bin\", \"rb\")\n",
    "\n",
    "\"r+\" (Read and Write Mode):\n",
    "Opens the file for both reading and writing. If the file does not exist, an error occurs.\n",
    "Example: f = open(\"demofile.txt\", \"r+\")\n",
    "\n",
    "\"w+\" (Write and Read Mode):\n",
    "Opens the file for both writing and reading. If the file exists, its contents are overwritten. If the file does not exist, a new file is created.\n",
    "Example: f = open(\"demofile.txt\", \"w+\")\n",
    "\n",
    "\"a+\" (Append and Read Mode):\n",
    "Opens the file for both appending and reading. If the file does not exist, it is created.\n",
    "Example: f = open(\"demofile.txt\", \"a+\")\n",
    "\n",
    "\"rb\" (Read Binary Mode):\n",
    "Opens the binary file for reading.\n",
    "Example: f = open(\"demofile.bin\", \"rb\")\n",
    "\n",
    "\"wb\" (Write Binary Mode):\n",
    "Opens the binary file for writing.\n",
    "Example: f = open(\"demofile.bin\", \"wb\")\n",
    "\n",
    "\"ab\" (Append Binary Mode):\n",
    "Opens the binary file for appending.\n",
    "Example: f = open(\"demofile.bin\", \"ab\")\n",
    "\n",
    "\"rb+\" (Read and Write Binary Mode):\n",
    "Opens the binary file for both reading and writing.\n",
    "Example: f = open(\"demofile.bin\", \"rb+\")\n",
    "\n",
    "\"wb+\" (Write and Read Binary Mode):\n",
    "Opens the binary file for both writing and reading.\n",
    "Example: f = open(\"demofile.bin\", \"wb+\")\n"
   ]
  },
  {
   "cell_type": "raw",
   "id": "bae47721-d547-4263-ba74-57f1a2366eeb",
   "metadata": {},
   "source": [
    "Q2. Why close() function is used? Why is it important to close a file?\n",
    "\n",
    "The close() function in Python is used to close an open file. Closing a file is important for several reasons:\n",
    "\n",
    "Resource Management:\n",
    "Limited File Handles: Operating systems have a limited number of file handles available. If you open too many files without closing them, you can run out of available handles, leading to errors or even crashes. Closing files ensures that system resources are released, allowing other programs to use them.\n",
    "\n",
    "Data Integrity:\n",
    "Buffering: Files are often buffered, meaning that changes made to a file are not immediately written to the disk. Closing a file ensures that any pending data is written to the file, ensuring data integrity and preventing data loss.\n",
    "\n",
    "Performance:\n",
    "Memory Usage: Open files consume memory space. Closing files frees up this memory, which can improve the performance of your program by reducing memory usage.\n",
    "\n",
    "Security:\n",
    "File Locking: On Windows, open files are locked, preventing other programs from accessing them. Closing files ensures that these locks are released, allowing other programs to access the file.\n",
    "\n",
    "Best Practices:\n",
    "Code Readability and Maintainability: Closing files explicitly is considered good programming practice. It makes your code more readable and maintainable by explicitly managing file resources.\n"
   ]
  },
  {
   "cell_type": "raw",
   "id": "afabcd5c-0515-46ff-94da-2a018caaf656",
   "metadata": {},
   "source": [
    "Q3. Write a python program to create a text file. Write ‘I want to become a Data Scientist’ in that file. Then close the file. Open this file and read the content of the file.\n"
   ]
  },
  {
   "cell_type": "code",
   "execution_count": 1,
   "id": "bca93acb-3f42-4dd3-9fc2-d8254442a135",
   "metadata": {},
   "outputs": [
    {
     "name": "stdout",
     "output_type": "stream",
     "text": [
      "I want to become a Data Scientist\n",
      "\n"
     ]
    }
   ],
   "source": [
    "# Create a new file named \"data_scientist.txt\"\n",
    "file = open(\"data_scientist.txt\", \"w\")\n",
    "\n",
    "# Write the message to the file\n",
    "file.write(\"I want to become a Data Scientist\\n\")\n",
    "\n",
    "# Close the file\n",
    "file.close()\n",
    "\n",
    "# Open the file again to read its content\n",
    "file = open(\"data_scientist.txt\", \"r\")\n",
    "\n",
    "# Read the content of the file\n",
    "content = file.read()\n",
    "\n",
    "# Print the content\n",
    "print(content)\n",
    "\n",
    "# Close the file\n",
    "file.close()"
   ]
  },
  {
   "cell_type": "code",
   "execution_count": 2,
   "id": "aadaca25-9443-4596-a074-d80e6c43748b",
   "metadata": {},
   "outputs": [
    {
     "name": "stdout",
     "output_type": "stream",
     "text": [
      "I want to become a Data Scientist\n",
      "\n",
      "I want to become a Data Scientist\n",
      "\n",
      "['I want to become a Data Scientist\\n']\n"
     ]
    }
   ],
   "source": [
    "# Q4. Explain the following with python code: read(), readline() and readlines().\n",
    "\n",
    "# 1. read()\n",
    "# The read() method reads the contents of the file and returns it as a string. It reads the entire file if the size argument is not provided.\n",
    "\n",
    "file = open(\"data_scientist.txt\", \"r\")\n",
    "content = file.read()\n",
    "print(content)\n",
    "file.close()\n",
    "\n",
    "# 2. readline()\n",
    "# The readline() method reads a line from the file and returns it as a string. It reads the next line from the current position in the file.\n",
    "\n",
    "file = open(\"data_scientist.txt\", \"r\")\n",
    "line = file.readline()\n",
    "print(line)\n",
    "file.close()\n",
    "\n",
    "# 3. readlines()\n",
    "# The readlines() method reads all lines from the file and returns them as a list of strings.\n",
    "\n",
    "file = open(\"data_scientist.txt\", \"r\")\n",
    "lines = file.readlines()\n",
    "print(lines)\n",
    "file.close()"
   ]
  },
  {
   "cell_type": "raw",
   "id": "e9742341-c97a-43f6-bdf5-7c41db27e477",
   "metadata": {},
   "source": [
    "Q5. Explain why with statement is used with open(). What is the advantage of using with statement and open() together?\n",
    "\n",
    "The with statement in Python is commonly used in conjunction with the open() function to provide a more convenient and safer way of working with files.\n",
    "Advantages of using with statement with open():\n",
    "\n",
    "Automatic File Closing: The primary advantage of using the with statement is that it automatically closes the file for you, even if an exception is raised within the with block. This helps ensure that the file is properly closed, preventing resource leaks and potential data corruption.\n",
    "\n",
    "Improved Readability: The with statement makes the code more readable and easier to understand. It clearly delineates the block of code where the file is being used, making it obvious when the file is being opened and closed.\n",
    "\n",
    "Exception Handling: If an exception occurs within the with block, the file will be automatically closed, ensuring that resources are properly released. This can help prevent issues that may arise from leaving a file open in the event of an error."
   ]
  },
  {
   "cell_type": "code",
   "execution_count": 3,
   "id": "2228b0e7-bdb0-4298-9d18-f3da71cbd167",
   "metadata": {},
   "outputs": [],
   "source": [
    "# Q6. Explain the write() and writelines() functions. Give a suitable example.\n",
    "\n",
    "'''The write() and writelines() functions in Python are used to write data to a file.\n",
    "write():\n",
    "The write() function is used to write a string to a file.\n",
    "It takes a single argument, which is the string to be written to the file.\n",
    "The string is written to the file exactly as it is, without any additional formatting or newline characters.\n",
    "'''\n",
    "\n",
    "# Example:\n",
    "with open(\"example.txt\", \"w\") as file:\n",
    "    file.write(\"This is a sample text.\")\n",
    "\n",
    "\n",
    "'''In this example, the string \"This is a sample text.\" is written to the file \"example.txt\".\n",
    "writelines():\n",
    "The writelines() function is used to write a list of strings to a file.\n",
    "It takes an iterable (such as a list or a tuple) as its argument, where each element is a string to be written to the file.\n",
    "The strings are written to the file exactly as they are, without any additional formatting or newline characters.\n",
    "'''\n",
    "# Example:\n",
    "\n",
    "lines = [\"Line 1\\n\", \"Line 2\\n\", \"Line 3\\n\"]\n",
    "with open(\"example.txt\", \"w\") as file:\n",
    "    file.writelines(lines)"
   ]
  },
  {
   "cell_type": "code",
   "execution_count": null,
   "id": "c0dc71d4-a458-4ffc-8244-225b57569578",
   "metadata": {},
   "outputs": [],
   "source": []
  }
 ],
 "metadata": {
  "kernelspec": {
   "display_name": "Python 3 (ipykernel)",
   "language": "python",
   "name": "python3"
  },
  "language_info": {
   "codemirror_mode": {
    "name": "ipython",
    "version": 3
   },
   "file_extension": ".py",
   "mimetype": "text/x-python",
   "name": "python",
   "nbconvert_exporter": "python",
   "pygments_lexer": "ipython3",
   "version": "3.11.8"
  }
 },
 "nbformat": 4,
 "nbformat_minor": 5
}
