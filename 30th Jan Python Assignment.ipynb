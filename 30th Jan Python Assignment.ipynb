{
 "cells": [
  {
   "cell_type": "raw",
   "id": "356857e3-1238-4906-aa3f-f4bf1d5c315e",
   "metadata": {},
   "source": [
    "1. Write a program to accept percentage from the user and display the grade according to the following criteria: \n",
    "\n",
    "Marks                 Grade\n",
    ">90                     A\n",
    "<>80 and <=90           B\n",
    "<>=60 and <=80          C\n",
    "below 60                D"
   ]
  },
  {
   "cell_type": "code",
   "execution_count": 1,
   "id": "a3ba24ff-adf8-490b-bc49-b092ef1bebcf",
   "metadata": {},
   "outputs": [
    {
     "name": "stdin",
     "output_type": "stream",
     "text": [
      "Enter your percentage:  63\n"
     ]
    },
    {
     "name": "stdout",
     "output_type": "stream",
     "text": [
      "Your grade is: C\n"
     ]
    }
   ],
   "source": [
    "percentage = float(input(\"Enter your percentage: \"))\n",
    "\n",
    "if percentage > 90:\n",
    "    grade = \"A\"\n",
    "elif 80 <= percentage <= 90:\n",
    "    grade = \"B\"\n",
    "elif 60 <= percentage <= 80:\n",
    "    grade = \"C\"\n",
    "else:\n",
    "    grade = \"D\"\n",
    "\n",
    "print(f\"Your grade is: {grade}\")"
   ]
  },
  {
   "cell_type": "raw",
   "id": "ba8eb5e1-9942-4cec-a0f1-2a861a545795",
   "metadata": {},
   "source": [
    "2. Write a program to accept the cost price of a bike and display the road tax to be paid according to the following criteria:\n",
    "\n",
    "Tax       Cost Price(in Rs)\n",
    "\n",
    "15%       >100000\n",
    "\n",
    "10%       >50000 and <= 100000\n",
    "\n",
    "5%        <= 50000"
   ]
  },
  {
   "cell_type": "code",
   "execution_count": 2,
   "id": "87ea649f-0aee-4cc3-8f25-b62aca59efbb",
   "metadata": {},
   "outputs": [
    {
     "name": "stdin",
     "output_type": "stream",
     "text": [
      "Enter the cost price of the bike:  1000000000\n"
     ]
    },
    {
     "name": "stdout",
     "output_type": "stream",
     "text": [
      "Road tax to be paid: 150000000.00 Rs\n"
     ]
    }
   ],
   "source": [
    "cost_price = float(input(\"Enter the cost price of the bike: \"))\n",
    "\n",
    "if cost_price > 100000:\n",
    "    road_tax = cost_price * 0.15\n",
    "elif 50000 <= cost_price <= 100000:\n",
    "    road_tax = cost_price * 0.10\n",
    "else:\n",
    "    road_tax = cost_price * 0.05\n",
    "\n",
    "print(f\"Road tax to be paid: {road_tax:.2f} Rs\")"
   ]
  },
  {
   "cell_type": "raw",
   "id": "dd0122ab-7d25-4640-99ab-5b286f784498",
   "metadata": {},
   "source": [
    "3. Accept any city from the user and display monuments of that city.\n",
    "\n",
    "City      Monument\n",
    "\n",
    "Delhi     Red Fort\n",
    "\n",
    "Agra      Taj Mahal\n",
    "\n",
    "Jaipur    Jal Mahal\n"
   ]
  },
  {
   "cell_type": "code",
   "execution_count": 3,
   "id": "ded884f3-36cd-4ea2-8282-cd605e3ac949",
   "metadata": {},
   "outputs": [
    {
     "name": "stdin",
     "output_type": "stream",
     "text": [
      "Enter the city:  Agra\n"
     ]
    },
    {
     "name": "stdout",
     "output_type": "stream",
     "text": [
      "Monument in Agra: Taj Mahal\n"
     ]
    }
   ],
   "source": [
    "monuments = {\n",
    "    \"Delhi\": \"Red Fort\",\n",
    "    \"Agra\": \"Taj Mahal\",\n",
    "    \"Jaipur\": \"Jal Mahal\", \n",
    "}\n",
    "\n",
    "city = input(\"Enter the city: \")\n",
    "\n",
    "if city in monuments:\n",
    "    print(f\"Monument in {city}: {monuments[city]}\")\n",
    "else:\n",
    "    print(f\"Sorry, we don't have information about monuments in {city}.\")\n"
   ]
  },
  {
   "cell_type": "raw",
   "id": "4716addd-1406-44da-bfb1-b13aeb4ca79f",
   "metadata": {},
   "source": [
    "4. Check how many times a given number can be divided by 3 before it is less than or equal to 10."
   ]
  },
  {
   "cell_type": "code",
   "execution_count": 4,
   "id": "1fbbd6c1-61d5-47f4-882d-a8f43b8167d7",
   "metadata": {},
   "outputs": [
    {
     "name": "stdout",
     "output_type": "stream",
     "text": [
      "2\n",
      "1\n",
      "0\n"
     ]
    }
   ],
   "source": [
    "def divide_by_three(num):\n",
    "    count = 0\n",
    "    while num > 10:\n",
    "        num /= 3\n",
    "        count += 1\n",
    "    return count\n",
    "\n",
    "# Example usage\n",
    "print(divide_by_three(81))  # Output: 3\n",
    "print(divide_by_three(27))  # Output: 2\n",
    "print(divide_by_three(9))   # Output: 1"
   ]
  },
  {
   "cell_type": "raw",
   "id": "4f96d084-8e8a-4261-b82f-fee098020b90",
   "metadata": {},
   "source": [
    "5. Why and When to Use while Loop in Python give a detailed description with example"
   ]
  },
  {
   "cell_type": "code",
   "execution_count": 6,
   "id": "6c70f9bc-4f83-44b1-b38a-789b8d0e1e1e",
   "metadata": {},
   "outputs": [
    {
     "name": "stdin",
     "output_type": "stream",
     "text": [
      "Enter a number (or 'q' to quit):  23\n"
     ]
    },
    {
     "name": "stdout",
     "output_type": "stream",
     "text": [
      "You entered: 23\n"
     ]
    },
    {
     "name": "stdin",
     "output_type": "stream",
     "text": [
      "Enter a number (or 'q' to quit):  5t\n"
     ]
    },
    {
     "name": "stdout",
     "output_type": "stream",
     "text": [
      "Invalid input. Please enter a number.\n"
     ]
    },
    {
     "name": "stdin",
     "output_type": "stream",
     "text": [
      "Enter a number (or 'q' to quit):  u\n"
     ]
    },
    {
     "name": "stdout",
     "output_type": "stream",
     "text": [
      "Invalid input. Please enter a number.\n"
     ]
    },
    {
     "name": "stdin",
     "output_type": "stream",
     "text": [
      "Enter a number (or 'q' to quit):  556\n"
     ]
    },
    {
     "name": "stdout",
     "output_type": "stream",
     "text": [
      "You entered: 556\n"
     ]
    },
    {
     "name": "stdin",
     "output_type": "stream",
     "text": [
      "Enter a number (or 'q' to quit):  q\n"
     ]
    }
   ],
   "source": [
    "# The while loop in Python is used to execute a block of code repeatedly as long as a given condition is true. \n",
    "# It is useful when you don't know the exact number of iterations required in advance, \n",
    "# or when the number of iterations depends on a certain condition.\n",
    "\n",
    "while True:\n",
    "    user_input = input(\"Enter a number (or 'q' to quit): \")\n",
    "    if user_input.lower() == 'q':\n",
    "        break\n",
    "    try:\n",
    "        number = int(user_input)\n",
    "        print(f\"You entered: {number}\")\n",
    "    except ValueError:\n",
    "        print(\"Invalid input. Please enter a number.\")"
   ]
  },
  {
   "cell_type": "raw",
   "id": "497b9a78-ba32-4109-a1e3-ad7b82535c6a",
   "metadata": {},
   "source": [
    "6. Use nested while loop to print 3 different pattern."
   ]
  },
  {
   "cell_type": "code",
   "execution_count": 7,
   "id": "275c4924-5292-4ec9-bb52-a268f4e88c97",
   "metadata": {},
   "outputs": [
    {
     "name": "stdout",
     "output_type": "stream",
     "text": [
      "*\n",
      "**\n",
      "***\n",
      "****\n",
      "*****\n"
     ]
    }
   ],
   "source": [
    "# pattern 1\n",
    "\n",
    "rows = 5\n",
    "i = 1\n",
    "while i <= rows:\n",
    "    j = 1\n",
    "    while j <= i:\n",
    "        print(\"*\", end=\"\")\n",
    "        j += 1\n",
    "    print()\n",
    "    i += 1"
   ]
  },
  {
   "cell_type": "code",
   "execution_count": 8,
   "id": "e518d73a-7d5b-4dcd-ac00-6b615363fd0a",
   "metadata": {},
   "outputs": [
    {
     "name": "stdout",
     "output_type": "stream",
     "text": [
      "    *\n",
      "   **\n",
      "  ***\n",
      " ****\n",
      "*****\n"
     ]
    }
   ],
   "source": [
    "# pattern 2\n",
    "\n",
    "rows = 5\n",
    "i = 1\n",
    "while i <= rows:\n",
    "    j = 1\n",
    "    while j <= rows - i:\n",
    "        print(\" \", end=\"\")\n",
    "        j += 1\n",
    "    k = 1\n",
    "    while k <= i:\n",
    "        print(\"*\", end=\"\")\n",
    "        k += 1\n",
    "    print()\n",
    "    i += 1\n"
   ]
  },
  {
   "cell_type": "code",
   "execution_count": 9,
   "id": "71e5d591-5ab4-4702-89dd-423214e54d11",
   "metadata": {},
   "outputs": [
    {
     "name": "stdout",
     "output_type": "stream",
     "text": [
      "*****\n",
      " ****\n",
      "  ***\n",
      "   **\n",
      "    *\n"
     ]
    }
   ],
   "source": [
    "# pattern 3\n",
    "\n",
    "rows = 5\n",
    "i = 1\n",
    "while i <= rows:\n",
    "    j = 1\n",
    "    while j < i:\n",
    "        print(\" \", end=\"\")\n",
    "        j += 1\n",
    "    k = 1\n",
    "    while k <= rows - i + 1:\n",
    "        print(\"*\", end=\"\")\n",
    "        k += 1\n",
    "    print()\n",
    "    i += 1"
   ]
  },
  {
   "cell_type": "raw",
   "id": "798bb124-7742-40c0-900d-d3874d49dfd8",
   "metadata": {},
   "source": [
    "7. Reverse a while loop to display numbers from 10 to 1."
   ]
  },
  {
   "cell_type": "code",
   "execution_count": 10,
   "id": "07af7a74-70cf-4506-8b2b-64c4ffaebdc2",
   "metadata": {},
   "outputs": [
    {
     "name": "stdout",
     "output_type": "stream",
     "text": [
      "10\n",
      "9\n",
      "8\n",
      "7\n",
      "6\n",
      "5\n",
      "4\n",
      "3\n",
      "2\n",
      "1\n"
     ]
    }
   ],
   "source": [
    "num = 10\n",
    "while num >= 1:\n",
    "    print(num)\n",
    "    num -= 1"
   ]
  },
  {
   "cell_type": "raw",
   "id": "bae1cb51-efbd-4da1-a8a7-6d63aa178a0e",
   "metadata": {},
   "source": [
    "8. Reverse a while loop to display numbers from 10 to 1"
   ]
  },
  {
   "cell_type": "code",
   "execution_count": 11,
   "id": "15a4b4e0-1598-41f9-9ed2-e7852c10bb54",
   "metadata": {},
   "outputs": [
    {
     "name": "stdout",
     "output_type": "stream",
     "text": [
      "10\n",
      "9\n",
      "8\n",
      "7\n",
      "6\n",
      "5\n",
      "4\n",
      "3\n",
      "2\n",
      "1\n"
     ]
    }
   ],
   "source": [
    "num = 10\n",
    "while num >= 1:\n",
    "    print(num)\n",
    "    num -= 1"
   ]
  },
  {
   "cell_type": "code",
   "execution_count": null,
   "id": "029555d8-fc4e-4057-a9ea-26016866b5ac",
   "metadata": {},
   "outputs": [],
   "source": []
  }
 ],
 "metadata": {
  "kernelspec": {
   "display_name": "Python 3 (ipykernel)",
   "language": "python",
   "name": "python3"
  },
  "language_info": {
   "codemirror_mode": {
    "name": "ipython",
    "version": 3
   },
   "file_extension": ".py",
   "mimetype": "text/x-python",
   "name": "python",
   "nbconvert_exporter": "python",
   "pygments_lexer": "ipython3",
   "version": "3.11.8"
  }
 },
 "nbformat": 4,
 "nbformat_minor": 5
}
