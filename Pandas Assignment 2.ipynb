{
 "cells": [
  {
   "cell_type": "markdown",
   "id": "ee0c4475-580f-49fe-bb64-4c75bc9402d8",
   "metadata": {},
   "source": [
    "## Consider following code to answer further questions:"
   ]
  },
  {
   "cell_type": "code",
   "execution_count": 1,
   "id": "6194a5c8-1ccb-4d2e-b11a-01e90db0a8c6",
   "metadata": {},
   "outputs": [
    {
     "name": "stdout",
     "output_type": "stream",
     "text": [
      "        course_name  duration\n",
      "0      Data Science         2\n",
      "1  Machine Learning         3\n",
      "2          Big Data         6\n",
      "3     Data Engineer         4\n"
     ]
    }
   ],
   "source": [
    "import pandas as pd\n",
    "course_name = ['Data Science', 'Machine Learning', 'Big Data', 'Data Engineer']\n",
    "duration = [2,3,6,4]\n",
    "df = pd.DataFrame(data = {'course_name' : course_name, 'duration' : duration})\n",
    "\n",
    "print(df)"
   ]
  },
  {
   "cell_type": "markdown",
   "id": "ec45a20b-b9d6-4d0b-b67a-fc6a7152b4d8",
   "metadata": {},
   "source": [
    "Q1. Write a code to print the data present in the second row of the dataframe, df."
   ]
  },
  {
   "cell_type": "code",
   "execution_count": 2,
   "id": "94f02abb-a0b5-47d4-993b-bd750d700b2d",
   "metadata": {},
   "outputs": [
    {
     "name": "stdout",
     "output_type": "stream",
     "text": [
      "course_name    Machine Learning\n",
      "duration                      3\n",
      "Name: 1, dtype: object\n"
     ]
    }
   ],
   "source": [
    "# Print the data present in the second row\n",
    "print(df.iloc[1])\n"
   ]
  },
  {
   "cell_type": "raw",
   "id": "de1b0849-75bb-4a8e-8b55-76ccd8782a64",
   "metadata": {},
   "source": [
    "Q2. What is the difference between the functions loc and iloc in pandas.DataFrame?"
   ]
  },
  {
   "cell_type": "raw",
   "id": "d3f4dd31-66bc-4258-80c9-7de69b2c5142",
   "metadata": {},
   "source": [
    "loc (Label-based Indexing)\n",
    "Purpose: Used for label-based indexing. It allows you to select rows and columns by their labels or a boolean array.\n",
    "Syntax: df.loc[row_labels, column_labels]"
   ]
  },
  {
   "cell_type": "code",
   "execution_count": 3,
   "id": "f6ffaea0-8ffa-4c73-9f8a-988f20559df9",
   "metadata": {},
   "outputs": [
    {
     "data": {
      "text/plain": [
       "'Data Science'"
      ]
     },
     "execution_count": 3,
     "metadata": {},
     "output_type": "execute_result"
    }
   ],
   "source": [
    "# Access rows by label\n",
    "df.loc[0, 'course_name']  # Accesses the first row, 'course_name' column"
   ]
  },
  {
   "cell_type": "raw",
   "id": "64c5fcbe-5d1f-4242-ba1e-d234771c533a",
   "metadata": {},
   "source": [
    "iloc (Integer-based Indexing)\n",
    "Purpose: Used for integer-based indexing. It allows you to select rows and columns by their integer positions.\n",
    "Syntax: df.iloc[row_indices, column_indices]"
   ]
  },
  {
   "cell_type": "code",
   "execution_count": 4,
   "id": "b24e6dbb-ec94-4df6-8353-3b66f6674c27",
   "metadata": {},
   "outputs": [
    {
     "data": {
      "text/plain": [
       "'Data Science'"
      ]
     },
     "execution_count": 4,
     "metadata": {},
     "output_type": "execute_result"
    }
   ],
   "source": [
    "# Access rows by integer index\n",
    "df.iloc[0, 0]  # Accesses the first row, first column"
   ]
  },
  {
   "cell_type": "markdown",
   "id": "66020255-0445-4221-bc62-223757881302",
   "metadata": {},
   "source": [
    "Q3. Reindex the given dataframe using a variable, reindex = [3,0,1,2] and store it in the variable, new_df\n",
    "then find the output for both new_df.loc[2] and new_df.iloc[2]."
   ]
  },
  {
   "cell_type": "code",
   "execution_count": 5,
   "id": "a01d141e-b35d-4951-8b0f-a160b73a6ce6",
   "metadata": {},
   "outputs": [
    {
     "name": "stdout",
     "output_type": "stream",
     "text": [
      "new_df.loc[2]:\n",
      " course_name    Big Data\n",
      "duration              6\n",
      "Name: 2, dtype: object\n",
      "\n",
      "new_df.iloc[2]:\n",
      " course_name    Machine Learning\n",
      "duration                      3\n",
      "Name: 1, dtype: object\n"
     ]
    }
   ],
   "source": [
    "# Reindex the dataframe\n",
    "reindex = [3, 0, 1, 2]\n",
    "new_df = df.reindex(reindex)\n",
    "\n",
    "# Output for new_df.loc[2]\n",
    "print(\"new_df.loc[2]:\\n\", new_df.loc[2])\n",
    "\n",
    "# Output for new_df.iloc[2]\n",
    "print(\"\\nnew_df.iloc[2]:\\n\", new_df.iloc[2])\n"
   ]
  },
  {
   "cell_type": "markdown",
   "id": "a8d3ae07-451d-4be8-baa7-d25bbd05909d",
   "metadata": {},
   "source": [
    "Did you observe any difference in both the outputs? If so then explain it.\n",
    "\n",
    "Observed Difference\n",
    "1) new_df.loc[2] gives the row where the index label is 2, which remains 30, 70 even after reindexing.\n",
    "2) new_df.iloc[2] gives the row at the 3rd position after reindexing, which is now 20, 60."
   ]
  },
  {
   "cell_type": "code",
   "execution_count": 6,
   "id": "83416f72-ec82-4b65-aa9c-3cb1991bd457",
   "metadata": {},
   "outputs": [],
   "source": [
    "# Consider the below code to answer further questions:\n",
    "import pandas as pd\n",
    "import numpy as np\n",
    "columns = ['column_1', 'column_2', 'column_3', 'column_4', 'column_5', 'column_6']\n",
    "indices = [1,2,3,4,5,6]\n",
    "#Creating a dataframe:\n",
    "df1 = pd.DataFrame(np.random.rand(6,6), columns = columns, index = indices)"
   ]
  },
  {
   "cell_type": "raw",
   "id": "80c8c408-1261-432f-afad-655c4465e3fd",
   "metadata": {},
   "source": [
    "Q4. Write a code to find the following statistical measurements for the above dataframe df1:\n",
    "(i) mean of each and every column present in the dataframe.\n",
    "(ii) standard deviation of column, ‘column_2’"
   ]
  },
  {
   "cell_type": "code",
   "execution_count": 7,
   "id": "53da2746-4144-4eeb-a0a8-5d2521c01624",
   "metadata": {},
   "outputs": [
    {
     "name": "stdout",
     "output_type": "stream",
     "text": [
      "Mean of each column:\n",
      "column_1    0.498275\n",
      "column_2    0.361526\n",
      "column_3    0.425794\n",
      "column_4    0.436945\n",
      "column_5    0.623604\n",
      "column_6    0.526648\n",
      "dtype: float64\n",
      "\n",
      "Standard deviation of 'column_2':\n",
      "0.2879601437885062\n"
     ]
    }
   ],
   "source": [
    "import pandas as pd\n",
    "import numpy as np\n",
    "\n",
    "# Creating a dataframe:\n",
    "columns = ['column_1', 'column_2', 'column_3', 'column_4', 'column_5', 'column_6']\n",
    "indices = [1,2,3,4,5,6]\n",
    "df1 = pd.DataFrame(np.random.rand(6,6), columns=columns, index=indices)\n",
    "\n",
    "# (i) Mean of each column\n",
    "mean_values = df1.mean()\n",
    "\n",
    "# (ii) Standard deviation of 'column_2'\n",
    "std_dev_column_2 = df1['column_2'].std()\n",
    "\n",
    "print(\"Mean of each column:\")\n",
    "print(mean_values)\n",
    "print(\"\\nStandard deviation of 'column_2':\")\n",
    "print(std_dev_column_2)\n"
   ]
  },
  {
   "cell_type": "markdown",
   "id": "7656eb0c-a581-48a3-838b-efeb3186d656",
   "metadata": {},
   "source": [
    "Q5. Replace the data present in the second row of column, ‘column_2’ by a string variable then find the mean of column, column_2.\n",
    "If you are getting errors in executing it then explain why.\n",
    "[Hint: To replace the data use df1.loc[] and equate this to string data of your choice.]"
   ]
  },
  {
   "cell_type": "code",
   "execution_count": 8,
   "id": "9427e973-35eb-4460-927b-847adf89ad23",
   "metadata": {},
   "outputs": [
    {
     "name": "stdout",
     "output_type": "stream",
     "text": [
      "Error: could not convert string to float: 'string_data'\n"
     ]
    },
    {
     "name": "stderr",
     "output_type": "stream",
     "text": [
      "C:\\Users\\15dha\\AppData\\Local\\Temp\\ipykernel_8260\\3448227311.py:10: FutureWarning: Setting an item of incompatible dtype is deprecated and will raise an error in a future version of pandas. Value 'string_data' has dtype incompatible with float64, please explicitly cast to a compatible dtype first.\n",
      "  df1.loc[2, 'column_2'] = 'string_data'\n"
     ]
    }
   ],
   "source": [
    "import pandas as pd\n",
    "import numpy as np\n",
    "\n",
    "# Creating a dataframe:\n",
    "columns = ['column_1', 'column_2', 'column_3', 'column_4', 'column_5', 'column_6']\n",
    "indices = [1,2,3,4,5,6]\n",
    "df1 = pd.DataFrame(np.random.rand(6,6), columns=columns, index=indices)\n",
    "\n",
    "# Replacing the data in the second row of 'column_2' with a string\n",
    "df1.loc[2, 'column_2'] = 'string_data'\n",
    "\n",
    "# Finding the mean of 'column_2'\n",
    "try:\n",
    "    mean_column_2 = df1['column_2'].astype(float).mean()\n",
    "    print(\"Mean of 'column_2':\", mean_column_2)\n",
    "except Exception as e:\n",
    "    print(\"Error:\", e)\n"
   ]
  },
  {
   "cell_type": "markdown",
   "id": "684664b5-3510-4693-b0fb-f2b001b4f51a",
   "metadata": {},
   "source": [
    "Why Errors Occur:\n",
    "When you replace a numeric value with a string in a column that's expected to contain numeric data, the column's data type changes to object. This can cause issues with operations that require numeric types, like calculating the mean.\n",
    "\n",
    "To handle this:\n",
    "\n",
    "1) Attempting to calculate the mean directly after replacing with a string will fail because you can't convert a string to a float if it's not a valid numeric representation.\n",
    "2) The astype(float) conversion will fail if the column contains non-numeric values (like the string 'string_data')."
   ]
  },
  {
   "cell_type": "markdown",
   "id": "dfac7c7e-8709-4da0-a69a-c8582b0b70f2",
   "metadata": {},
   "source": [
    "Q6. What do you understand about the windows function in pandas and list the types of windows functions?\n",
    "\n",
    "Window functions in Pandas are used to perform calculations across a set of rows that are related to the current row. They allow you to perform aggregated calculations across various partitions or cross-sections of the data.\n",
    "\n",
    "##### The key points about window functions in Pandas are:\n",
    "\n",
    "1) They provide a flexible framework for performing rolling and expanding calculations on data.\n",
    "2) They allow for efficient computation of statistics over sliding or expanding windows of data.\n",
    "3) Window functions can be applied to various types of data, including time series and numerical data.\n",
    "4) These functions offer versatility in specifying window sizes, types of aggregation, and handling of missing values.\n",
    "\n",
    "### Types of Window Functions in Pandas\n",
    "\n",
    "#### Pandas window functions can be broadly divided into three main categories:\n",
    "\n",
    "1) Aggregate functions:\n",
    "sum(), mean(), median(), var(), std(), min(), max(), count()\n",
    "Perform aggregations like sum, mean, median, variance, standard deviation, min, max, count\n",
    "\n",
    "2) Ranking functions:\n",
    "rank(), dense_rank(), percent_rank(), cume_dist()\n",
    "Assign ranks to values based on their relative order in a group\n",
    "\n",
    "3) Value functions:\n",
    "shift(), pct_change(), diff(), cumsum(), cumprod()\n",
    "Perform calculations based on the current row and the values in the window\n",
    "\n",
    "#### Some other notable window functions in Pandas include:\n",
    "\n",
    "1) Rolling functions:\n",
    "rolling() function is used to perform rolling window calculations Commonly used for signal processing data and time series data\n",
    "\n",
    "2) Expanding functions:\n",
    "expanding() function is used to yield a value of the aggregate statistics with all the data that are available up to a certain point in time\n",
    "\n",
    "3) Exponentially Weighted functions: ewm() function is used to compute exponentially weighted window functions"
   ]
  },
  {
   "cell_type": "markdown",
   "id": "b67ef0b0-eeff-4936-ba4e-c2ae5ab097c3",
   "metadata": {},
   "source": [
    "Q7. Write a code to print only the current month and year at the time of answering this question.\n",
    "[Hint: Use pandas.datetime function]"
   ]
  },
  {
   "cell_type": "code",
   "execution_count": 9,
   "id": "6e98087b-b2c8-492b-859c-ae9f6b6c8d5b",
   "metadata": {},
   "outputs": [
    {
     "name": "stdout",
     "output_type": "stream",
     "text": [
      "Current month: 9\n",
      "Current year: 2024\n"
     ]
    }
   ],
   "source": [
    "import pandas as pd\n",
    "\n",
    "# Get the current date and time\n",
    "now = pd.Timestamp.now()\n",
    "\n",
    "# Extract and print the current month and year\n",
    "current_month = now.month\n",
    "current_year = now.year\n",
    "\n",
    "print(\"Current month:\", current_month)\n",
    "print(\"Current year:\", current_year)\n"
   ]
  },
  {
   "cell_type": "markdown",
   "id": "63931b82-b01a-4835-ada8-cd701cbab0f9",
   "metadata": {},
   "source": [
    "Q8. Write a Python program that takes in two dates as input (in the format YYYY-MM-DD) and calculates the difference between them in days, hours, and minutes using Pandas time delta. The program should prompt the user to enter the dates and display the result."
   ]
  },
  {
   "cell_type": "code",
   "execution_count": 10,
   "id": "eac0f0d0-2e29-4300-9af2-a805add4467c",
   "metadata": {},
   "outputs": [
    {
     "name": "stdin",
     "output_type": "stream",
     "text": [
      "Enter the start date (YYYY-MM-DD):  2002-09-15\n",
      "Enter the end date (YYYY-MM-DD):  2024-09-03\n"
     ]
    },
    {
     "name": "stdout",
     "output_type": "stream",
     "text": [
      "The difference between 2002-09-15 and 2024-09-03 is:\n",
      "8024 days, 0 hours, and 0 minutes.\n"
     ]
    }
   ],
   "source": [
    "import pandas as pd\n",
    "\n",
    "# Prompt the user to enter the start and end dates\n",
    "start_date = input(\"Enter the start date (YYYY-MM-DD): \")\n",
    "end_date = input(\"Enter the end date (YYYY-MM-DD): \")\n",
    "\n",
    "# Convert the input strings to datetime objects\n",
    "start_date = pd.to_datetime(start_date)\n",
    "end_date = pd.to_datetime(end_date)\n",
    "\n",
    "# Calculate the time difference\n",
    "time_diff = end_date - start_date\n",
    "\n",
    "# Extract days, hours, and minutes from the timedelta\n",
    "days = time_diff.days\n",
    "hours, remainder = divmod(time_diff.seconds, 3600)\n",
    "minutes, seconds = divmod(remainder, 60)\n",
    "\n",
    "# Display the result\n",
    "print(f\"The difference between {start_date.date()} and {end_date.date()} is:\")\n",
    "print(f\"{days} days, {hours} hours, and {minutes} minutes.\")"
   ]
  },
  {
   "cell_type": "markdown",
   "id": "a2dd19a8-5c78-4dd7-8169-9887b5ef0758",
   "metadata": {},
   "source": [
    "Q9. Write a Python program that reads a CSV file containing categorical data and converts a specified column to a categorical data type. The program should prompt the user to enter the file path, column name, and category order, and then display the sorted data."
   ]
  },
  {
   "cell_type": "code",
   "execution_count": 11,
   "id": "f5aa3b1e-4844-4411-8c96-9361395112e5",
   "metadata": {},
   "outputs": [
    {
     "name": "stdin",
     "output_type": "stream",
     "text": [
      "Enter the file path:  categorical data.csv\n",
      "Enter the column name to convert to categorical:  education\n",
      "Enter the category order (comma-separated):  Bachelor's, Master's, PhD\n"
     ]
    },
    {
     "name": "stdout",
     "output_type": "stream",
     "text": [
      "       name  age  gender   education\n",
      "0      John   25    Male  Bachelor's\n",
      "3    Sophia   28  Female  Bachelor's\n",
      "5    Olivia   27  Female  Bachelor's\n",
      "1     Emily   30  Female         NaN\n",
      "2   Michael   35    Male         NaN\n",
      "4     David   32    Male         NaN\n",
      "6   William   40    Male         NaN\n",
      "7  Isabella   33  Female         NaN\n"
     ]
    }
   ],
   "source": [
    "import pandas as pd\n",
    "\n",
    "# Prompt the user for the file path\n",
    "file_path = input(\"Enter the file path: \")\n",
    "\n",
    "# Prompt the user for the column name to convert to categorical\n",
    "column_name = input(\"Enter the column name to convert to categorical: \")\n",
    "\n",
    "# Prompt the user for the category order (comma-separated)\n",
    "category_order = input(\"Enter the category order (comma-separated): \").split(\",\")\n",
    "\n",
    "# Read the CSV file into a DataFrame\n",
    "df = pd.read_csv(file_path)\n",
    "\n",
    "# Convert the specified column to categorical data type with the given category order\n",
    "df[column_name] = pd.Categorical(df[column_name], categories=category_order, ordered=True)\n",
    "\n",
    "# Sort the DataFrame based on the categorical column\n",
    "sorted_df = df.sort_values(by=column_name)\n",
    "\n",
    "# Display the sorted data\n",
    "print(sorted_df)"
   ]
  },
  {
   "cell_type": "markdown",
   "id": "9aacde96-9d5d-45c7-a265-6eccd61fcf7c",
   "metadata": {},
   "source": [
    "Q10. Write a Python program that reads a CSV file containing sales data for different products and visualizes the data using a stacked bar chart to show the sales of each product category over time. Them program should prompt the user to enter the file path and display the chart."
   ]
  },
  {
   "cell_type": "code",
   "execution_count": 12,
   "id": "14537c2f-096f-4872-8d39-75c91c16039a",
   "metadata": {},
   "outputs": [
    {
     "name": "stdin",
     "output_type": "stream",
     "text": [
      "Please enter the CSV file path:  sales.csv\n"
     ]
    },
    {
     "data": {
      "image/png": "[encoded data removed]",
      "text/plain": [
       "<Figure size 1000x600 with 1 Axes>"
      ]
     },
     "metadata": {},
     "output_type": "display_data"
    }
   ],
   "source": [
    "import pandas as pd\n",
    "import matplotlib.pyplot as plt\n",
    "\n",
    "def read_sales_data(file_path):\n",
    "    \"\"\"Reads sales data from a CSV file.\"\"\"\n",
    "    try:\n",
    "        data = pd.read_csv(file_path)\n",
    "        data['Date'] = pd.to_datetime(data['Date'])\n",
    "        return data\n",
    "    except Exception as e:\n",
    "        print(f\"Error reading the file: {e}\")\n",
    "        return None\n",
    "\n",
    "def plot_stacked_bar_chart(data):\n",
    "    \"\"\"Plots a stacked bar chart for the sales data.\"\"\"\n",
    "    # Pivot the data to get the format suitable for a stacked bar chart\n",
    "    pivot_data = data.pivot_table(index='Date', columns='Product Category', values='Sales', aggfunc='sum', fill_value=0)\n",
    "\n",
    "    # Plotting\n",
    "    pivot_data.plot(kind='bar', stacked=True, figsize=(10, 6))\n",
    "    plt.title('Sales by Product Category Over Time')\n",
    "    plt.xlabel('Date')\n",
    "    plt.ylabel('Sales')\n",
    "    plt.xticks(rotation=45)\n",
    "    plt.legend(title='Product Category')\n",
    "    plt.tight_layout()\n",
    "    plt.show()\n",
    "\n",
    "def main():\n",
    "    \"\"\"Main function to execute the program.\"\"\"\n",
    "    file_path = input(\"Please enter the CSV file path: \")\n",
    "    sales_data = read_sales_data(file_path)\n",
    "\n",
    "    if sales_data is not None:\n",
    "        plot_stacked_bar_chart(sales_data)\n",
    "\n",
    "if __name__ == \"__main__\":\n",
    "    main()"
   ]
  },
  {
   "cell_type": "code",
   "execution_count": null,
   "id": "78affc29-e946-47c1-b566-a4c6e312b4d8",
   "metadata": {},
   "outputs": [],
   "source": []
  },
  {
   "cell_type": "raw",
   "id": "627dc6a4-1202-47b4-af46-a25d8f1c3fa7",
   "metadata": {},
   "source": [
    "Q11. You are given a CSV file containing student data that includes the student ID and their test score. Write a Python program that reads the CSV file, calculates the mean, median, and mode of the test scores, and displays the results in a table.\n",
    "    \n",
    "The program should do the following:\n",
    "1) Prompt the user to enter the file path of the CSV file containing the student data.\n",
    "2) Read the CSV file into a Pandas DataFrame.\n",
    "3) Calculate the mean, median, and mode of the test scores using Pandas tools.\n",
    "4) Display the mean, median, and mode in a table.\n",
    "\n",
    "Assume the CSV file contains the following columns:\n",
    "1) Student ID: The ID of the studentR\n",
    "2) Test Score: The score of the student's test.\n",
    "\n",
    "Example usage of the program:\n",
    "Enter the file path of the CSV file containing the student data: student_data.csv\n",
    "\n",
    "+-----------+--------+\n",
    "| Statistic | Value |\n",
    "+-----------+--------+\n",
    "| Mean | 79.6 |\n",
    "| Median | 82 |\n",
    "| Mode | 85, 90 |\n",
    "+-----------+--------+\n",
    "\n",
    "Assume that the CSV file student_data.csv contains the following data:\n",
    "Student ID,Test Score\n",
    "\n",
    "1,85\n",
    "2,90\n",
    "3,80\n",
    "4,75\n",
    "5,85\n",
    "6,82\n",
    "7,78\n",
    "8,85\n",
    "9,90\n",
    "10,85\n",
    "\n",
    "The program should calculate the mean, median, and mode of the test scores and display the results in a table.\n"
   ]
  },
  {
   "cell_type": "code",
   "execution_count": 13,
   "id": "0896d4d8-e680-49c8-9ec7-43e7b0a7b116",
   "metadata": {},
   "outputs": [
    {
     "name": "stdout",
     "output_type": "stream",
     "text": [
      "Defaulting to user installation because normal site-packages is not writeable\n",
      "Requirement already satisfied: pandas in c:\\users\\15dha\\appdata\\roaming\\python\\python311\\site-packages (2.2.2)\n",
      "Requirement already satisfied: tabulate in c:\\users\\15dha\\appdata\\roaming\\python\\python311\\site-packages (0.9.0)\n",
      "Requirement already satisfied: numpy>=1.23.2 in c:\\users\\15dha\\appdata\\roaming\\python\\python311\\site-packages (from pandas) (1.26.4)\n",
      "Requirement already satisfied: python-dateutil>=2.8.2 in c:\\users\\15dha\\appdata\\roaming\\python\\python311\\site-packages (from pandas) (2.9.0.post0)\n",
      "Requirement already satisfied: pytz>=2020.1 in c:\\users\\15dha\\appdata\\roaming\\python\\python311\\site-packages (from pandas) (2024.1)\n",
      "Requirement already satisfied: tzdata>=2022.7 in c:\\users\\15dha\\appdata\\roaming\\python\\python311\\site-packages (from pandas) (2024.1)\n",
      "Requirement already satisfied: six>=1.5 in c:\\users\\15dha\\appdata\\roaming\\python\\python311\\site-packages (from python-dateutil>=2.8.2->pandas) (1.16.0)\n",
      "Note: you may need to restart the kernel to use updated packages.\n"
     ]
    }
   ],
   "source": [
    "pip install pandas tabulate"
   ]
  },
  {
   "cell_type": "code",
   "execution_count": 14,
   "id": "cf779aec-71aa-46f6-b744-7525330c8c54",
   "metadata": {},
   "outputs": [
    {
     "name": "stdin",
     "output_type": "stream",
     "text": [
      "Enter the file path of the CSV file containing the student data:  student_data.csv\n"
     ]
    },
    {
     "name": "stdout",
     "output_type": "stream",
     "text": [
      "\n",
      "+-------------+---------+\n",
      "| Statistic   |   Value |\n",
      "+=============+=========+\n",
      "| Mean        |    83.5 |\n",
      "+-------------+---------+\n",
      "| Median      |    85   |\n",
      "+-------------+---------+\n",
      "| Mode        |    85   |\n",
      "+-------------+---------+\n"
     ]
    }
   ],
   "source": [
    "import pandas as pd\n",
    "from tabulate import tabulate\n",
    "\n",
    "def read_student_data(file_path):\n",
    "    \"\"\"Reads student data from a CSV file.\"\"\"\n",
    "    try:\n",
    "        data = pd.read_csv(file_path)\n",
    "        return data\n",
    "    except Exception as e:\n",
    "        print(f\"Error reading the file: {e}\")\n",
    "        return None\n",
    "\n",
    "def calculate_statistics(data):\n",
    "    \"\"\"Calculates mean, median, and mode of the test scores.\"\"\"\n",
    "    mean_score = data['Test Score'].mean()\n",
    "    median_score = data['Test Score'].median()\n",
    "    mode_score = data['Test Score'].mode().tolist()  # Get mode as a list\n",
    "\n",
    "    # Format mode for display\n",
    "    mode_score_str = ', '.join(map(str, mode_score))\n",
    "    \n",
    "    return mean_score, median_score, mode_score_str\n",
    "\n",
    "def display_results(mean, median, mode):\n",
    "    \"\"\"Displays the statistics in a table format.\"\"\"\n",
    "    results = [\n",
    "        [\"Mean\", round(mean, 2)],\n",
    "        [\"Median\", median],\n",
    "        [\"Mode\", mode]\n",
    "    ]\n",
    "    \n",
    "    print(\"\\n\" + tabulate(results, headers=[\"Statistic\", \"Value\"], tablefmt=\"grid\"))\n",
    "\n",
    "def main():\n",
    "    \"\"\"Main function to execute the program.\"\"\"\n",
    "    file_path = input(\"Enter the file path of the CSV file containing the student data: \")\n",
    "    student_data = read_student_data(file_path)\n",
    "\n",
    "    if student_data is not None:\n",
    "        mean, median, mode = calculate_statistics(student_data)\n",
    "        display_results(mean, median, mode)\n",
    "\n",
    "if __name__ == \"__main__\":\n",
    "    main()"
   ]
  }
 ],
 "metadata": {
  "kernelspec": {
   "display_name": "Python 3 (ipykernel)",
   "language": "python",
   "name": "python3"
  },
  "language_info": {
   "codemirror_mode": {
    "name": "ipython",
    "version": 3
   },
   "file_extension": ".py",
   "mimetype": "text/x-python",
   "name": "python",
   "nbconvert_exporter": "python",
   "pygments_lexer": "ipython3",
   "version": "3.11.8"
  }
 },
 "nbformat": 4,
 "nbformat_minor": 5
}
