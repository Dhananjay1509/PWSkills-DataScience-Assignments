{
 "cells": [
  {
   "cell_type": "markdown",
   "id": "74275c82-915f-4e5f-82db-3e1c8df3d968",
   "metadata": {},
   "source": [
    "#### Q1. What is the Probability Density Function?\n",
    "\n",
    "The Probability Density Function (PDF) is a function that describes the likelihood of a continuous random variable to take on a particular value. It is used in continuous probability distributions to describe the relative likelihood for this random variable to occur at a given point. The area under the PDF curve over an interval represents the probability of the random variable falling within that interval.\n",
    "\n",
    "#### Q2. What are the types of Probability Distribution?\n",
    "\n",
    "Probability distributions can be broadly classified into two types:\n",
    "\n",
    "1. **Discrete Probability Distributions**: These are used for discrete random variables (variables that take on countable values). Examples include:\n",
    "   - Binomial Distribution\n",
    "   - Poisson Distribution\n",
    "   - Geometric Distribution\n",
    "\n",
    "2. **Continuous Probability Distributions**: These are used for continuous random variables (variables that take on an infinite number of values within a given range). Examples include:\n",
    "   - Normal Distribution\n",
    "   - Exponential Distribution\n",
    "   - Uniform Distribution\n"
   ]
  },
  {
   "cell_type": "markdown",
   "id": "716b5f82-53c9-4b9a-ac4d-b4a43211983d",
   "metadata": {},
   "source": [
    "#### Q3. Write a Python function to calculate the probability density function of a normal distribution with given mean and standard deviation at a given point."
   ]
  },
  {
   "cell_type": "code",
   "execution_count": 1,
   "id": "b32f704d-4310-43a4-91b3-8ac4cee4dd99",
   "metadata": {},
   "outputs": [],
   "source": [
    "import numpy as np\n",
    "from scipy.stats import norm\n",
    "\n",
    "def normal_pdf(x, mean, std_dev):\n",
    "    \"\"\"Calculate the probability density function of a normal distribution.\"\"\"\n",
    "    return norm.pdf(x, loc=mean, scale=std_dev)"
   ]
  },
  {
   "cell_type": "markdown",
   "id": "4d37973d-ee33-4052-bb65-ab397186acac",
   "metadata": {},
   "source": [
    "#### Q4. Properties of Binomial Distribution and Examples\n",
    "\n",
    "##### Properties of Binomial Distribution\n",
    "1. **Number of Trials (n):** The distribution is defined for a fixed number of independent trials.\n",
    "2. **Two Possible Outcomes:** Each trial results in one of two outcomes: success or failure.\n",
    "3. **Constant Probability (p):** The probability of success (p) remains constant for each trial.\n",
    "4. **Independent Trials:** The trials are independent of each other.\n",
    "5. **Discrete Distribution:** The number of successes in the trials is a discrete variable.\n",
    "\n",
    "##### Examples\n",
    "1. **Coin Tossing:** If you flip a fair coin 10 times, the number of heads obtained follows a binomial distribution with \\( n = 10 \\) and \\( p = 0.5 \\).\n",
    "2. **Defective Products:** If a factory produces 100 light bulbs and each has a 2% chance of being defective, the number of defective bulbs among the 100 follows a binomial distribution with \\( n = 100 \\) and \\( p = 0.02 \\)."
   ]
  },
  {
   "cell_type": "markdown",
   "id": "edb30220-55e1-4091-be98-a4e208ef3f12",
   "metadata": {},
   "source": [
    "#### Q5. Generating a Random Sample and Plotting a Histogram"
   ]
  },
  {
   "cell_type": "code",
   "execution_count": 2,
   "id": "99a2329c-3838-4bdd-a81e-461de31ef1d8",
   "metadata": {},
   "outputs": [
    {
     "data": {
      "image/png": "[encoded data removed]",
      "text/plain": [
       "<Figure size 640x480 with 1 Axes>"
      ]
     },
     "metadata": {},
     "output_type": "display_data"
    }
   ],
   "source": [
    "import numpy as np\n",
    "import matplotlib.pyplot as plt\n",
    "\n",
    "# Parameters\n",
    "n = 1000  # sample size\n",
    "p = 0.4   # probability of success\n",
    "\n",
    "# Generate random sample from binomial distribution\n",
    "sample = np.random.binomial(n=1, p=p, size=1000)\n",
    "\n",
    "# Plot histogram\n",
    "plt.hist(sample, bins=2, edgecolor='black', alpha=0.7)\n",
    "plt.title('Histogram of Binomial Distribution Sample')\n",
    "plt.xlabel('Outcome')\n",
    "plt.ylabel('Frequency')\n",
    "plt.xticks([0, 1], ['Failure', 'Success'])\n",
    "plt.grid(True)\n",
    "plt.show()"
   ]
  },
  {
   "cell_type": "code",
   "execution_count": null,
   "id": "0fe9ac43-a052-486e-9046-368159447910",
   "metadata": {},
   "outputs": [],
   "source": []
  },
  {
   "cell_type": "markdown",
   "id": "1524970e-933f-47d9-b243-f9f23d82be91",
   "metadata": {},
   "source": [
    "#### Q6. Python Function for Poisson Cumulative Distribution Function"
   ]
  },
  {
   "cell_type": "code",
   "execution_count": 3,
   "id": "25ae942e-493d-4819-8596-b037c687d8c5",
   "metadata": {},
   "outputs": [
    {
     "name": "stdout",
     "output_type": "stream",
     "text": [
      "0.2650259152973615\n"
     ]
    }
   ],
   "source": [
    "from scipy.stats import poisson\n",
    "\n",
    "def poisson_cdf(mean, x):\n",
    "    return poisson.cdf(x, mu=mean)\n",
    "\n",
    "mean = 5\n",
    "x = 3\n",
    "print(poisson_cdf(mean, x))  "
   ]
  },
  {
   "cell_type": "markdown",
   "id": "162169fd-6577-4134-9433-285bf17194f3",
   "metadata": {},
   "source": [
    "#### Q7. How Binomial distribution different from Poisson distribution?"
   ]
  },
  {
   "cell_type": "markdown",
   "id": "135105f9-1d6e-4e59-bbec-277ff0726253",
   "metadata": {},
   "source": [
    "#### Difference Between Binomial and Poisson Distributions\n",
    "\n",
    "##### 1. Number of Trials:\n",
    "\n",
    "- **Binomial Distribution**: Has a fixed number of trials (n).\n",
    "- **Poisson Distribution**: The number of events is not fixed; it models the number of events occurring in a fixed interval of time or space.\n",
    "\n",
    "##### 2. Probability of Success:\n",
    "\n",
    "- **Binomial Distribution**: The probability of success (p) is constant across trials.\n",
    "- **Poisson Distribution**: Assumes events occur with a constant average rate (mean λ), where λ represents the average number of events in the given interval.\n",
    "\n",
    "##### 3. Applications:\n",
    "\n",
    "- **Binomial Distribution**: Used for scenarios where there is a fixed number of independent trials, such as the number of heads in a series of coin flips.\n",
    "- **Poisson Distribution**: Used for counting the number of events that occur in a continuous domain, such as the number of phone calls received by a call center in an hour.\n",
    "\n",
    "##### Summary\n",
    "\n",
    "- **Binomial**: Discrete trials with fixed number (n) and constant success probability (p).\n",
    "- **Poisson**: Count of events over a continuous domain with a constant average rate (λ)."
   ]
  },
  {
   "cell_type": "markdown",
   "id": "a53a76a6-0b67-49b8-89d4-a04acf075691",
   "metadata": {},
   "source": [
    "#### Q8. Generating a Random Sample from Poisson Distribution"
   ]
  },
  {
   "cell_type": "code",
   "execution_count": 4,
   "id": "20ed1cc5-8873-4985-ad7f-6212ad2fd16e",
   "metadata": {},
   "outputs": [
    {
     "name": "stdout",
     "output_type": "stream",
     "text": [
      "Sample Mean: 4.99\n",
      "Sample Variance: 5.0359\n"
     ]
    }
   ],
   "source": [
    "# Parameters\n",
    "mean = 5\n",
    "sample_size = 1000\n",
    "\n",
    "# Generate random sample from Poisson distribution\n",
    "sample = np.random.poisson(lam=mean, size=sample_size)\n",
    "\n",
    "# Calculate sample mean and variance\n",
    "sample_mean = np.mean(sample)\n",
    "sample_variance = np.var(sample)\n",
    "\n",
    "print(f'Sample Mean: {sample_mean}')\n",
    "print(f'Sample Variance: {sample_variance}')"
   ]
  },
  {
   "cell_type": "markdown",
   "id": "5192b00a-f2d9-4e93-a086-ebd2eac6a0d3",
   "metadata": {},
   "source": [
    "#### Q9. How are the mean and variance related in Binomial distribution and Poisson distribution?\n",
    "\n",
    "##### Binomial Distribution\n",
    "- For a binomial distribution with parameters \\( n \\) (number of trials) and \\( p \\) (probability of success), the mean \\( \\mu \\) and variance \\( \\sigma^2 \\) are given by:\n",
    "  - Mean: \\( \\mu = np \\)\n",
    "  - Variance: \\( \\sigma^2 = np(1-p) \\)\n",
    "\n",
    "##### Poisson Distribution\n",
    "- For a Poisson distribution with parameter \\( \\lambda \\) (the average number of occurrences in a fixed interval), the mean and variance are both equal to \\( \\lambda \\):\n",
    "  - Mean: \\( \\mu = \\lambda \\)\n",
    "  - Variance: \\( \\sigma^2 = \\lambda \\)\n",
    "\n",
    "##### Summary of the Relationship\n",
    "- In a **binomial distribution**, the variance depends on both the number of trials \\( n \\) and the probability of success \\( p \\).\n",
    "- In a **Poisson distribution**, the mean and variance are equal to the same parameter \\( \\lambda \\)."
   ]
  },
  {
   "cell_type": "markdown",
   "id": "08c824a8-151b-4497-8e8c-0ad84f2cd2c5",
   "metadata": {},
   "source": [
    "#### Q10. In a normal distribution with respect to the mean position, where does the least frequent data appear?\n",
    "\n",
    "- In a normal distribution, the least frequent data appears in the **tails** of the distribution.\n",
    "- This means the data points that are farthest from the mean (either much smaller or much larger than the mean) are the least frequent.\n",
    "- Mathematically, these are the points located more than 2 or 3 standard deviations away from the mean on either side."
   ]
  }
 ],
 "metadata": {
  "kernelspec": {
   "display_name": "Python 3 (ipykernel)",
   "language": "python",
   "name": "python3"
  },
  "language_info": {
   "codemirror_mode": {
    "name": "ipython",
    "version": 3
   },
   "file_extension": ".py",
   "mimetype": "text/x-python",
   "name": "python",
   "nbconvert_exporter": "python",
   "pygments_lexer": "ipython3",
   "version": "3.11.8"
  }
 },
 "nbformat": 4,
 "nbformat_minor": 5
}
