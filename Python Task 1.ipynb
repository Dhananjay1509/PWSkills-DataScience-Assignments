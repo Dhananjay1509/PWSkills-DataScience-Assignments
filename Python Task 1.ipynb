{
 "cells": [
  {
   "cell_type": "code",
   "execution_count": null,
   "id": "33bb5cd4-a18c-48f6-92c3-a07d13aaaba5",
   "metadata": {},
   "outputs": [],
   "source": [
    "'''Q1. Create a function which will take a list as an argument and return the product of all the numbers after creating a flat list.\n",
    "\n",
    "Use the below-given list as an argument for your function.\n",
    "\n",
    "list1 = [1,2,3,4, [44,55,66, True], False, (34,56,78,89,34), {1,2,3,3,2,1}, {1:34, \"key2\": [55, 67, 78, 89], 4: (45, 22, 61, 34)}, [56, 'data science'], 'Machine Leaming']\n",
    "\n",
    "Note: you must extract numeric keys and values of the dictionary also.'''"
   ]
  },
  {
   "cell_type": "code",
   "execution_count": 3,
   "id": "5dbdceba-6548-4fbd-bc8a-1bb2506dfe1e",
   "metadata": {},
   "outputs": [
    {
     "name": "stdout",
     "output_type": "stream",
     "text": [
      "Product of all numeric values in the flattened list: 0\n"
     ]
    }
   ],
   "source": [
    "def flatten_and_product(lst):\n",
    "    def flatten(lst):\n",
    "        flattened = []\n",
    "        for item in lst:\n",
    "            if isinstance(item, list):\n",
    "                flattened.extend(flatten(item))\n",
    "            elif isinstance(item, dict):\n",
    "                flattened.extend(flatten(item.values()))\n",
    "                flattened.extend(flatten(item.keys()))\n",
    "            elif isinstance(item, (int, float)):\n",
    "                flattened.append(item)\n",
    "        return flattened\n",
    "    \n",
    "    flattened_list = flatten(lst)\n",
    "    product = 1\n",
    "    for num in flattened_list:\n",
    "        product *= num\n",
    "    return product\n",
    "\n",
    "# Given list\n",
    "list1 = [1, 2, 3, 4, [44, 55, 66, True], False, (34, 56, 78, 89, 34), {1, 2, 3, 3, 2, 1}, {1:34, \"key2\": [55, 67, 78, 89], 4: (45, 22, 61, 34)}, [56, 'data science'], 'Machine Learning']\n",
    "\n",
    "# Calculate product\n",
    "result = flatten_and_product(list1)\n",
    "print(\"Product of all numeric values in the flattened list:\", result)\n"
   ]
  },
  {
   "cell_type": "code",
   "execution_count": null,
   "id": "286688ba-5e43-40ca-95b5-a788f095e5bb",
   "metadata": {},
   "outputs": [],
   "source": [
    "'''Q2. Write a python program for encrypting a message sent to you by your friend. The logic of encryption\n",
    "should be such that, for a the output should be z. For b, the output should be y. For c, the output should\n",
    "be x respectively. Also, the whitespace should be replaced with a dollar sign. Keep the punctuation\n",
    "marks unchanged.\n",
    "\n",
    "Input Sentence: I want to become a Data Scientist.\n",
    "Encrypt the above input sentence using the program you just created.\n",
    "\n",
    "Note: Convert the given input sentence into lowercase before encrypting. The final output should be\n",
    "lowercase'''"
   ]
  },
  {
   "cell_type": "code",
   "execution_count": 4,
   "id": "14e8c595-a343-4077-8780-b91bc50e3e04",
   "metadata": {},
   "outputs": [
    {
     "name": "stdout",
     "output_type": "stream",
     "text": [
      "j$xbou$up$cfdpnf$b$ebub$tdjfoujtu.\n"
     ]
    }
   ],
   "source": [
    "def encrypt_message(message):\n",
    "    encrypted_message = \"\"\n",
    "    for char in message.lower():\n",
    "        if char.isalpha():\n",
    "            if char.isupper():\n",
    "                encrypted_message += chr((ord(char) - 65 + 1) % 26 + 65)\n",
    "            else:\n",
    "                encrypted_message += chr((ord(char) - 97 + 1) % 26 + 97)\n",
    "        elif char.isspace():\n",
    "            encrypted_message += \"$\"\n",
    "        else:\n",
    "            encrypted_message += char\n",
    "    return encrypted_message\n",
    "\n",
    "message = \"I want to become a Data Scientist.\"\n",
    "print(encrypt_message(message))\n"
   ]
  }
 ],
 "metadata": {
  "kernelspec": {
   "display_name": "Python 3 (ipykernel)",
   "language": "python",
   "name": "python3"
  },
  "language_info": {
   "codemirror_mode": {
    "name": "ipython",
    "version": 3
   },
   "file_extension": ".py",
   "mimetype": "text/x-python",
   "name": "python",
   "nbconvert_exporter": "python",
   "pygments_lexer": "ipython3",
   "version": "3.11.8"
  }
 },
 "nbformat": 4,
 "nbformat_minor": 5
}
