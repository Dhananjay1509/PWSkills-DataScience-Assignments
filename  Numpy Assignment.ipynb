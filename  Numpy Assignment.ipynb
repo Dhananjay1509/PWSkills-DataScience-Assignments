{
 "cells": [
  {
   "cell_type": "markdown",
   "id": "a0e62d42-90c4-4c46-a7a7-de8506df8946",
   "metadata": {},
   "source": [
    "#### Consider the below code to answer further questions:"
   ]
  },
  {
   "cell_type": "code",
   "execution_count": 1,
   "id": "2774f7e1-b10b-4e18-a544-9a7ef1c70535",
   "metadata": {},
   "outputs": [
    {
     "name": "stdout",
     "output_type": "stream",
     "text": [
      "['1' '2' '3' '4' '5']\n"
     ]
    }
   ],
   "source": [
    "import numpy as np\n",
    "list_ = [ \"1\", \"2\", \"3\", \"4\", \"5\" ]\n",
    "array_list = np.array(object = list_)\n",
    "print(array_list)"
   ]
  },
  {
   "cell_type": "markdown",
   "id": "e87406fa-81ef-4252-bcbe-a5c13a718045",
   "metadata": {},
   "source": [
    "Q1. Is there any difference in the data type of variables list_ and array_list? If there is then write a code to print the data types of both the variables."
   ]
  },
  {
   "cell_type": "code",
   "execution_count": 2,
   "id": "9601f3b8-7f0e-4070-9437-70270f0dca72",
   "metadata": {},
   "outputs": [
    {
     "name": "stdout",
     "output_type": "stream",
     "text": [
      "Data type of list_: <class 'list'>\n",
      "Data type of array_list: <class 'numpy.ndarray'>\n"
     ]
    }
   ],
   "source": [
    "import numpy as np\n",
    "\n",
    "# Define the list\n",
    "list_ = ['1', '2', '3', '4', '5']\n",
    "# Create a NumPy array from the list\n",
    "array_list = np.array(object=list_)\n",
    "\n",
    "# Print the data types\n",
    "print(\"Data type of list_:\", type(list_))\n",
    "print(\"Data type of array_list:\", type(array_list))"
   ]
  },
  {
   "cell_type": "markdown",
   "id": "de102430-a779-4ace-a922-feee44dc882f",
   "metadata": {},
   "source": [
    "Q2. Write a code to print the data type of each and every element of both the variables list_ and arra_list."
   ]
  },
  {
   "cell_type": "code",
   "execution_count": 3,
   "id": "f251e987-6488-42fd-80bf-f101e65db422",
   "metadata": {},
   "outputs": [
    {
     "name": "stdout",
     "output_type": "stream",
     "text": [
      "\n",
      "Data types of elements in list_:\n",
      "Element: 1, Type: <class 'str'>\n",
      "Element: 2, Type: <class 'str'>\n",
      "Element: 3, Type: <class 'str'>\n",
      "Element: 4, Type: <class 'str'>\n",
      "Element: 5, Type: <class 'str'>\n",
      "\n",
      "Data types of elements in array_list:\n",
      "Element: 1, Type: <class 'numpy.str_'>\n",
      "Element: 2, Type: <class 'numpy.str_'>\n",
      "Element: 3, Type: <class 'numpy.str_'>\n",
      "Element: 4, Type: <class 'numpy.str_'>\n",
      "Element: 5, Type: <class 'numpy.str_'>\n"
     ]
    }
   ],
   "source": [
    "# Print the data type of each element in the list\n",
    "print(\"\\nData types of elements in list_:\")\n",
    "for item in list_:\n",
    "    print(f\"Element: {item}, Type: {type(item)}\")\n",
    "\n",
    "# Print the data type of each element in the NumPy array\n",
    "print(\"\\nData types of elements in array_list:\")\n",
    "for item in array_list:\n",
    "    print(f\"Element: {item}, Type: {type(item)}\")"
   ]
  },
  {
   "cell_type": "markdown",
   "id": "08f9d09c-87c1-4ec6-a73b-8d941295b61b",
   "metadata": {},
   "source": [
    "Q3. Considering the following changes in the variable, array_list:\n",
    "array_list = np.array(object = list_, dtype = int)\n",
    "Will there be any difference in the data type of the elements present in both the variables, list_ and arra_list? If so then print the data types of each and every element present in both the variables, list_ and arra_list."
   ]
  },
  {
   "cell_type": "code",
   "execution_count": 4,
   "id": "012c7584-2241-422d-b473-d7c6ee995f8d",
   "metadata": {},
   "outputs": [
    {
     "name": "stdout",
     "output_type": "stream",
     "text": [
      "Data types of elements in list_:\n",
      "Element: 1, Type: <class 'str'>\n",
      "Element: 2, Type: <class 'str'>\n",
      "Element: 3, Type: <class 'str'>\n",
      "Element: 4, Type: <class 'str'>\n",
      "Element: 5, Type: <class 'str'>\n",
      "\n",
      "Data types of elements in array_list:\n",
      "Element: 1, Type: <class 'numpy.int32'>\n",
      "Element: 2, Type: <class 'numpy.int32'>\n",
      "Element: 3, Type: <class 'numpy.int32'>\n",
      "Element: 4, Type: <class 'numpy.int32'>\n",
      "Element: 5, Type: <class 'numpy.int32'>\n"
     ]
    }
   ],
   "source": [
    "import numpy as np\n",
    "\n",
    "# Define the original list\n",
    "list_ = ['1', '2', '3', '4', '5']\n",
    "\n",
    "# Create a NumPy array from the list with dtype=int\n",
    "array_list = np.array(object=list_, dtype=int)\n",
    "\n",
    "# Print the data types of the original list elements\n",
    "print(\"Data types of elements in list_:\")\n",
    "for item in list_:\n",
    "    print(f\"Element: {item}, Type: {type(item)}\")\n",
    "\n",
    "# Print the data types of the elements in the modified NumPy array\n",
    "print(\"\\nData types of elements in array_list:\")\n",
    "for item in array_list:\n",
    "    print(f\"Element: {item}, Type: {type(item)}\")"
   ]
  },
  {
   "cell_type": "raw",
   "id": "66d29a47-2d5e-4dbe-b89d-751378dac311",
   "metadata": {},
   "source": [
    "Consider the below code to answer further questions:\n",
    "\n",
    "import numpy as np\n",
    "num_list = [ [ 1 , 2 , 3 ] , [ 4 , 5 , 6 ] ]\n",
    "num_array = np.array(object = num_list)"
   ]
  },
  {
   "cell_type": "raw",
   "id": "93e3625a-aa2b-4deb-a074-6eb956e7fd6f",
   "metadata": {},
   "source": [
    "Q4. Write a code to find the following characteristics of variable, num_array:\n",
    "(i) shape\n",
    "(ii) size"
   ]
  },
  {
   "cell_type": "code",
   "execution_count": 5,
   "id": "2e62eb24-9707-48c7-80e4-9a0bfb2b1083",
   "metadata": {},
   "outputs": [
    {
     "name": "stdout",
     "output_type": "stream",
     "text": [
      "Shape of num_array: (2, 3)\n",
      "Size of num_array: 6\n"
     ]
    }
   ],
   "source": [
    "import numpy as np\n",
    "\n",
    "# Given list\n",
    "num_list = [[1, 2, 3], [4, 5, 6]]\n",
    "\n",
    "# Creating a NumPy array from the list\n",
    "num_array = np.array(object=num_list)\n",
    "\n",
    "# (i) Finding the shape of the array\n",
    "array_shape = num_array.shape\n",
    "\n",
    "# (ii) Finding the size of the array\n",
    "array_size = num_array.size\n",
    "\n",
    "# Printing the results\n",
    "print(\"Shape of num_array:\", array_shape)\n",
    "print(\"Size of num_array:\", array_size)"
   ]
  },
  {
   "cell_type": "raw",
   "id": "6f4c408a-e094-41c6-8bc1-a320c5e3304c",
   "metadata": {},
   "source": [
    "Q5. Write a code to create numpy array of 3*3 matrix containing zeros only, using a numpy array\n",
    "creation function.\n",
    "[Hint: The size of the array will be 9 and the shape will be (3,3).]"
   ]
  },
  {
   "cell_type": "code",
   "execution_count": 6,
   "id": "88adef00-8afa-4f47-a55c-125432af8c5c",
   "metadata": {},
   "outputs": [
    {
     "name": "stdout",
     "output_type": "stream",
     "text": [
      "3x3 Matrix of Zeros:\n",
      "[[0. 0. 0.]\n",
      " [0. 0. 0.]\n",
      " [0. 0. 0.]]\n"
     ]
    }
   ],
   "source": [
    "import numpy as np\n",
    "\n",
    "# Creating a 3x3 matrix containing zeros\n",
    "zero_matrix = np.zeros((3, 3))\n",
    "\n",
    "# Printing the resulting array\n",
    "print(\"3x3 Matrix of Zeros:\")\n",
    "print(zero_matrix)"
   ]
  },
  {
   "cell_type": "raw",
   "id": "91ec60cd-5712-4370-bf01-217482826ec7",
   "metadata": {},
   "source": [
    "Q6. Create an identity matrix of shape (5,5) using numpy functions?\n",
    "[Hint: An identity matrix is a matrix containing 1 diagonally and other elements will be 0.]"
   ]
  },
  {
   "cell_type": "code",
   "execution_count": 7,
   "id": "4ef3ae95-f919-401d-b677-653c8549c523",
   "metadata": {},
   "outputs": [
    {
     "name": "stdout",
     "output_type": "stream",
     "text": [
      "5x5 Identity Matrix:\n",
      "[[1. 0. 0. 0. 0.]\n",
      " [0. 1. 0. 0. 0.]\n",
      " [0. 0. 1. 0. 0.]\n",
      " [0. 0. 0. 1. 0.]\n",
      " [0. 0. 0. 0. 1.]]\n"
     ]
    }
   ],
   "source": [
    "import numpy as np\n",
    "\n",
    "# Creating a 5x5 identity matrix\n",
    "identity_matrix = np.eye(5)\n",
    "\n",
    "# Alternatively, you can use:\n",
    "# identity_matrix = np.identity(5)\n",
    "\n",
    "# Printing the resulting identity matrix\n",
    "print(\"5x5 Identity Matrix:\")\n",
    "print(identity_matrix)"
   ]
  }
 ],
 "metadata": {
  "kernelspec": {
   "display_name": "Python 3 (ipykernel)",
   "language": "python",
   "name": "python3"
  },
  "language_info": {
   "codemirror_mode": {
    "name": "ipython",
    "version": 3
   },
   "file_extension": ".py",
   "mimetype": "text/x-python",
   "name": "python",
   "nbconvert_exporter": "python",
   "pygments_lexer": "ipython3",
   "version": "3.11.8"
  }
 },
 "nbformat": 4,
 "nbformat_minor": 5
}
