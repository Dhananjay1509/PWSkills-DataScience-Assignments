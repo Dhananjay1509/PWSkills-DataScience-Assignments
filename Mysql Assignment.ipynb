{
 "cells": [
  {
   "cell_type": "raw",
   "id": "f0b5cc27-343d-450e-9334-28355647f88f",
   "metadata": {},
   "source": [
    "Q1. What is a database? Differentiate between SQL and NoSQL databases.\n",
    "\n",
    "A database is an organized collection of structured information, or data, typically stored electronically in a computer system. Databases are managed by Database Management Systems (DBMS), which provide a systematic way to create, retrieve, update, and manage data. They support storage and manipulation of data, allowing for efficient querying, data insertion, updates, and administration.\n",
    "\n",
    "***SQL vs. NoSQL Databases***\n",
    "\n",
    "SQL (Structured Query Language) Databases:\n",
    "\n",
    "1) Structure:\n",
    "SQL databases are relational, meaning they store data in tables with rows and columns.\n",
    "They use a fixed schema, requiring predefined structures before data entry.\n",
    "\n",
    "2) Language:\n",
    "Use SQL for defining and manipulating data. SQL is a standardized language known for its declarative syntax.\n",
    "\n",
    "3) ACID Compliance:\n",
    "SQL databases are typically ACID compliant (Atomicity, Consistency, Isolation, Durability), ensuring reliable transactions.\n",
    "\n",
    "4) Scalability:\n",
    "Generally scale vertically (adding more power to the existing machine).\n",
    "\n",
    "5) Examples:\n",
    "MySQL, PostgreSQL, Oracle, Microsoft SQL Server.\n",
    "\n",
    "***NoSQL (Not Only SQL) Databases:***\n",
    "\n",
    "1) Structure:\n",
    "NoSQL databases can be document-based, key-value pairs, wide-column stores, or graph databases.\n",
    "They use a dynamic schema, allowing for flexible and unstructured data storage.\n",
    "\n",
    "2) Language:\n",
    "NoSQL databases use various query languages, depending on the type (e.g., JSON-like queries for document stores).\n",
    "\n",
    "3) CAP Theorem:\n",
    "NoSQL databases often adhere to the CAP theorem (Consistency, Availability, Partition Tolerance), sometimes sacrificing ACID properties for scalability and performance.\n",
    "\n",
    "4) Scalability:\n",
    "Generally scale horizontally (adding more machines to handle increased load).\n",
    "\n",
    "5) Examples:\n",
    "MongoDB (Document), Redis (Key-Value), Cassandra (Wide-Column), Neo4j (Graph).\n",
    "\n",
    "*************Key Differences************\n",
    "1) Schema:\n",
    "SQL: Fixed schema, structured data.\n",
    "NoSQL: Dynamic schema, flexible data models.\n",
    "\n",
    "2) Transactions:\n",
    "SQL: Strong ACID transactions.\n",
    "NoSQL: May provide BASE (Basically Available, Soft state, Eventual consistency) properties.\n",
    "\n",
    "3) Data Integrity:\n",
    "SQL: High data integrity due to ACID compliance.\n",
    "NoSQL: Focus on availability and partition tolerance, which can sometimes compromise consistency.\n",
    "\n",
    "4) Flexibility:\n",
    "SQL: Better suited for complex queries and transactions.\n",
    "NoSQL: Better for large volumes of unstructured data and high-velocity operations.\n",
    "\n",
    "5) Use Cases:\n",
    "SQL: Traditional applications requiring complex queries, transactional data.\n",
    "NoSQL: Big data, real-time web apps, distributed data stores."
   ]
  },
  {
   "cell_type": "raw",
   "id": "77a6d1e2-a09f-4b31-8fe8-8ccc6754d0e5",
   "metadata": {},
   "source": [
    "Q2. What is DDL? Explain why CREATE, DROP, ALTER, and TRUNCATE are used with an example.\n",
    "\n",
    "DDL (Data Definition Language) is a subset of SQL (Structured Query Language) used to define and manage database schemas. DDL statements are used to create, modify, and delete database structures, such as tables, indexes, and views. These operations affect the structure of the database rather than the data itself.\n",
    "\n",
    "DDL Commands and Their Uses\n",
    "\n",
    "1) CREATE:\n",
    "Used to create a new database object, such as a table, index, or view.\n",
    "\n",
    "CREATE TABLE Employees (\n",
    "    EmployeeID INT PRIMARY KEY,\n",
    "    FirstName VARCHAR(50),\n",
    "    LastName VARCHAR(50),\n",
    "    DateOfBirth DATE,\n",
    "    Position VARCHAR(50)\n",
    ");\n",
    "This command creates a new table named Employees with columns for employee ID, first name, last name, date of birth, and position.\n",
    "\n",
    "2) DROP:\n",
    "Used to delete an existing database object, such as a table, index, or view.\n",
    "\n",
    "DROP TABLE Employees;\n",
    "This command deletes the Employees table from the database. All data in the table will be lost.\n",
    "\n",
    "3) ALTER:\n",
    "Used to modify the structure of an existing database object, such as adding, deleting, or modifying columns in a table.\n",
    "\n",
    "ALTER TABLE Employees ADD Email VARCHAR(100);\n",
    "This command adds a new column named Email to the Employees table.\n",
    "\n",
    "ALTER TABLE Employees DROP COLUMN DateOfBirth;\n",
    "This command removes the DateOfBirth column from the Employees table.\n",
    "\n",
    "4) TRUNCATE:\n",
    "\n",
    "Used to remove all rows from a table without deleting the table itself. It is faster than the DELETE statement because it deallocates the data pages used by the table.\n",
    "\n",
    "TRUNCATE TABLE Employees;\n",
    "This command deletes all rows from the Employees table, but the table structure remains intact."
   ]
  },
  {
   "cell_type": "raw",
   "id": "c6e0b5c6-d08e-4efc-a049-1e8d74241f8b",
   "metadata": {},
   "source": [
    "Q3. What is DML? Explain INSERT, UPDATE, and DELETE with an example.\n",
    "\n",
    "Data Manipulation Language (DML) is a subset of SQL (Structured Query Language) used for managing and manipulating data within a database. It includes commands that allow users to insert, update, delete, and retrieve data. The primary DML commands are:\n",
    "\n",
    "\n",
    "1) INSERT\n",
    "\n",
    "The INSERT statement is used to add new rows to a table.\n",
    "INSERT INTO table_name (column1, column2, column3, ...)\n",
    "VALUES (value1, value2, value3, ...);\n",
    "\n",
    "Example:\n",
    "Suppose we have a table called Employees with columns EmployeeID, FirstName, LastName, and Age.\n",
    "\n",
    "INSERT INTO Employees (EmployeeID, FirstName, LastName, Age)\n",
    "VALUES (1, 'John', 'Doe', 30);\n",
    "This command inserts a new row into the Employees table with the values 1 for EmployeeID, John for FirstName, Doe for LastName, and 30 for Age.\n",
    "\n",
    "2) UPDATE\n",
    "\n",
    "The UPDATE statement is used to modify existing records in a table.\n",
    "UPDATE table_name\n",
    "SET column1 = value1, column2 = value2, ...\n",
    "WHERE condition;\n",
    "\n",
    "Example:\n",
    "Let's update the Age of the employee with EmployeeID 1 to 31.\n",
    "\n",
    "UPDATE Employees\n",
    "SET Age = 31\n",
    "WHERE EmployeeID = 1;\n",
    "\n",
    "This command updates the Age of the employee with EmployeeID 1 to 31 in the Employees table.\n",
    "\n",
    "3) DELETE\n",
    "\n",
    "The DELETE statement is used to remove existing records from a table.\n",
    "DELETE FROM table_name\n",
    "WHERE condition;\n",
    "\n",
    "Example:\n",
    "Let's delete the employee with EmployeeID 1 from the Employees table.\n",
    "DELETE FROM Employees\n",
    "WHERE EmployeeID = 1;\n",
    "\n",
    "This command deletes the row where EmployeeID is 1 from the Employees table."
   ]
  },
  {
   "cell_type": "raw",
   "id": "2e13c4ce-f11a-4b49-907a-e68539c1e7ce",
   "metadata": {},
   "source": [
    "Q4. What is DQL? Explain SELECT with an example.\n",
    "\n",
    "DQL (Data Query Language) is a component of SQL used for performing queries on data within schema objects. The main purpose of DQL is to retrieve data from the database based on the query passed to it. The most important DQL command is SELECT, which allows retrieving data from one or more tables\n",
    "\n",
    "The basic syntax for the SELECT statement is:\n",
    "\n",
    "SELECT column1, column2, ...\n",
    "FROM table_name\n",
    "WHERE condition;\n",
    "\n",
    "Here's an example of using the SELECT statement to retrieve the first name, last name and age of students older than 18 from the Student table:\n",
    "\n",
    "SELECT Admno, Name, Age \n",
    "FROM Student\n",
    "WHERE Age >= 18;\n",
    "\n",
    "****************Some key points about the SELECT statement:***************\n",
    "\n",
    "The * symbol can be used to select all columns from the table.\n",
    "The DISTINCT keyword eliminates duplicate rows.\n",
    "The WHERE clause specifies conditions to filter the retrieved rows.\n",
    "Additional clauses like ORDER BY, GROUP BY, HAVING can be used for more advanced querie"
   ]
  },
  {
   "cell_type": "raw",
   "id": "8b54562b-b1c6-408c-afd0-64bf77469d14",
   "metadata": {},
   "source": [
    "Q5. Explain Primary Key and Foreign Key.\n",
    "\n",
    "Primary Key\n",
    "\n",
    "1) A primary key is a column or a set of columns that uniquely identifies each row in a table.\n",
    "2) It must have a unique value for each row and cannot contain null values.\n",
    "3) The primary key is used to ensure data integrity and provide a way to quickly locate specific records.\n",
    "4) A table can have only one primary key, but that key can consist of multiple columns.\n",
    "\n",
    "Foreign Key\n",
    "\n",
    "1) A foreign key is a column or a set of columns that refers to the primary key of another table.\n",
    "2) It establishes a link between two tables, allowing you to create relationships between them.\n",
    "3) The foreign key in one table points to the primary key in another table, creating a relationship.\n",
    "4) The foreign key can have duplicate values, as long as those values match the primary key in the referenced table.\n",
    "5) Foreign keys help maintain data integrity by ensuring that related data in different tables is consistent."
   ]
  },
  {
   "cell_type": "raw",
   "id": "f1ad6daf-c74a-4483-9f7c-4937aff9dfc1",
   "metadata": {},
   "source": [
    "Q6. Write a python code to connect MySQL to python. Explain the cursor() and execute() method.\n",
    "\n",
    "python code to connect to a MySQL database and explain the cursor() and execute() methods:\n",
    "\n",
    "Connecting to MySQL Database in Python\n",
    "To connect to a MySQL database using Python, you'll need to install the mysql-connector-python library. You can install it using pip:"
   ]
  },
  {
   "cell_type": "code",
   "execution_count": 1,
   "id": "f88c1168-d051-4aeb-a37c-99200c602f83",
   "metadata": {},
   "outputs": [
    {
     "name": "stdout",
     "output_type": "stream",
     "text": [
      "Defaulting to user installation because normal site-packages is not writeable\n",
      "Requirement already satisfied: mysql-connector-python in c:\\users\\15dha\\appdata\\roaming\\python\\python311\\site-packages (9.0.0)\n",
      "Note: you may need to restart the kernel to use updated packages.\n"
     ]
    }
   ],
   "source": [
    "pip install mysql-connector-python"
   ]
  },
  {
   "cell_type": "code",
   "execution_count": 2,
   "id": "8837c18c-4c6b-4a7f-b2fb-df651d8f5f8a",
   "metadata": {},
   "outputs": [
    {
     "name": "stdout",
     "output_type": "stream",
     "text": [
      "Defaulting to user installation because normal site-packages is not writeable\n",
      "Requirement already satisfied: pip in c:\\users\\15dha\\appdata\\roaming\\python\\python311\\site-packages (24.1.1)\n",
      "Note: you may need to restart the kernel to use updated packages.\n"
     ]
    }
   ],
   "source": [
    "pip install --upgrade pip"
   ]
  },
  {
   "cell_type": "raw",
   "id": "fde56fb1-592d-4821-a25e-5cf7423e1fe9",
   "metadata": {},
   "source": [
    "Here's an example code to connect to a MySQL database:"
   ]
  },
  {
   "cell_type": "code",
   "execution_count": 3,
   "id": "b4e0137a-b3ee-4b4b-bb67-353baec3ae6b",
   "metadata": {},
   "outputs": [
    {
     "name": "stdout",
     "output_type": "stream",
     "text": [
      "('emp',)\n",
      "('emp1',)\n"
     ]
    }
   ],
   "source": [
    "import mysql.connector as myConn\n",
    "\n",
    "mydb = myConn.connect (host = \"localhost\",\n",
    "                       user =\"root\",\n",
    "                       password=\"*********\",\n",
    "                       database =\"learncoding\")\n",
    "\n",
    "db_cursor=mydb.cursor()\n",
    "\n",
    "# db_cursor.execute(\"create table Emp1(Roll int,EmpName varchar(20)) \")\n",
    "# print(\"table is created !!\")\n",
    "\n",
    "db_cursor.execute(\"show tables\")\n",
    "\n",
    "for i in db_cursor:\n",
    "    print(i)\n"
   ]
  },
  {
   "cell_type": "markdown",
   "id": "93897643-e6e2-48ac-ae9b-14a17961dd14",
   "metadata": {},
   "source": [
    "cursor(): Creates a cursor object that allows you to execute SQL queries and fetch results.\n",
    "execute(): Executes the given SQL query or command."
   ]
  },
  {
   "cell_type": "markdown",
   "id": "f9c783c6-701b-4ec9-85cb-db2f31256027",
   "metadata": {},
   "source": [
    "Q7. Give the order of execution of SQL clauses in an SQL query.\n",
    "\n",
    "This order ensures that the data is properly filtered, grouped, and sorted before being presented in the final result set. \n",
    "\n",
    "i)   FROM/JOIN: Determines the data of interest by identifying and joining the relevant tables.\n",
    "ii)  WHERE: Filters out records that do not meet the specified conditions.\n",
    "iii) GROUP BY: Groups the data based on values in one or more columns.\n",
    "iv)  HAVING: Removes grouped records that don't meet the specified constraints.\n",
    "v)   SELECT: Derives all desired columns and expressions.\n",
    "vi)  ORDER BY: Sorts the derived values in ascending or descending order.\n",
    "vii) LIMIT/OFFSET: Keeps or skips a specified number of rows."
   ]
  },
  {
   "cell_type": "code",
   "execution_count": null,
   "id": "292dc743-671c-4154-ade4-619bd8b51e58",
   "metadata": {},
   "outputs": [],
   "source": []
  },
  {
   "cell_type": "code",
   "execution_count": null,
   "id": "8b07754d-af1c-4d71-bacc-7730717673d0",
   "metadata": {},
   "outputs": [],
   "source": []
  }
 ],
 "metadata": {
  "kernelspec": {
   "display_name": "Python 3 (ipykernel)",
   "language": "python",
   "name": "python3"
  },
  "language_info": {
   "codemirror_mode": {
    "name": "ipython",
    "version": 3
   },
   "file_extension": ".py",
   "mimetype": "text/x-python",
   "name": "python",
   "nbconvert_exporter": "python",
   "pygments_lexer": "ipython3",
   "version": "3.11.8"
  }
 },
 "nbformat": 4,
 "nbformat_minor": 5
}
