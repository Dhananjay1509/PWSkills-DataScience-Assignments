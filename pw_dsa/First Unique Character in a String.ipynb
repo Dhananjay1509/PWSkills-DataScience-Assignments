{
 "cells": [
  {
   "cell_type": "code",
   "execution_count": 1,
   "id": "5e6c6ab9",
   "metadata": {},
   "outputs": [
    {
     "name": "stdout",
     "output_type": "stream",
     "text": [
      "0\n"
     ]
    }
   ],
   "source": [
    "def first_non_repeating_character(s):\n",
    "  char_counts = {}\n",
    "  for i, char in enumerate(s):\n",
    "    if char not in char_counts:\n",
    "      char_counts[char] = 0\n",
    "    char_counts[char] += 1\n",
    "\n",
    "  for i, char in enumerate(s):\n",
    "    if char_counts[char] == 1:\n",
    "      return i\n",
    "\n",
    "  return -1\n",
    "\n",
    "\n",
    "def main():\n",
    "  s = \"leetcode\"\n",
    "  print(first_non_repeating_character(s))\n",
    "\n",
    "\n",
    "if __name__ == \"__main__\":\n",
    "  main()"
   ]
  },
  {
   "cell_type": "code",
   "execution_count": null,
   "id": "b71c42ca",
   "metadata": {},
   "outputs": [],
   "source": []
  }
 ],
 "metadata": {
  "kernelspec": {
   "display_name": "Python 3 (ipykernel)",
   "language": "python",
   "name": "python3"
  },
  "language_info": {
   "codemirror_mode": {
    "name": "ipython",
    "version": 3
   },
   "file_extension": ".py",
   "mimetype": "text/x-python",
   "name": "python",
   "nbconvert_exporter": "python",
   "pygments_lexer": "ipython3",
   "version": "3.11.1"
  }
 },
 "nbformat": 4,
 "nbformat_minor": 5
}
