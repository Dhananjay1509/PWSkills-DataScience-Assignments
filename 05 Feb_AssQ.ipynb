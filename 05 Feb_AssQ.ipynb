{
 "cells": [
  {
   "cell_type": "markdown",
   "id": "75b6f65e",
   "metadata": {},
   "source": [
    "Q1. Explain Class and Object with respect to Object-Oriented Programming. Give a suitable example."
   ]
  },
  {
   "cell_type": "markdown",
   "id": "80d6a728",
   "metadata": {},
   "source": [
    "In Object-Oriented Programming (OOP), a class is a blueprint or template for creating objects. It defines a set of attributes (data) and methods (functions) that the objects of that class will have."
   ]
  },
  {
   "cell_type": "code",
   "execution_count": 1,
   "id": "9b39bcd2",
   "metadata": {},
   "outputs": [
    {
     "name": "stdout",
     "output_type": "stream",
     "text": [
      "Hello, my name is DHANANJAY and I am 21 years old.\n"
     ]
    }
   ],
   "source": [
    "class Person:\n",
    "    def __init__(self, name, age):\n",
    "        self.name = name\n",
    "        self.age = age\n",
    "        \n",
    "    def say_hello(self):\n",
    "        print(f\"Hello, my name is {self.name} and I am {self.age} years old.\")\n",
    "person1 = Person(\"DHANANJAY\", 21)\n",
    "person1.say_hello()\n"
   ]
  },
  {
   "cell_type": "markdown",
   "id": "cf1ce2e9",
   "metadata": {},
   "source": [
    "In Object-Oriented Programming (OOP), an object is an instance of a class. It is created from a class blueprint or template, and it represents a specific entity or concept in a program."
   ]
  },
  {
   "cell_type": "code",
   "execution_count": 2,
   "id": "8b1fcd1f",
   "metadata": {},
   "outputs": [
    {
     "name": "stdout",
     "output_type": "stream",
     "text": [
      "DHANANJAY\n",
      "30\n",
      "Hello, my name is DHANANJAY and I am 30 years old.\n"
     ]
    }
   ],
   "source": [
    "class Person:\n",
    "    def __init__(self, name, age):\n",
    "        self.name = name\n",
    "        self.age = age\n",
    "        \n",
    "    def say_hello(self):\n",
    "        print(f\"Hello, my name is {self.name} and I am {self.age} years old.\")\n",
    "\n",
    "# Create an object of the Person class\n",
    "person1 = Person(\"DHANANJAY\", 21)\n",
    "print(person1.name)  \n",
    "\n",
    "person1.age = 30\n",
    "print(person1.age)  \n",
    "\n",
    "person1.say_hello() \n"
   ]
  },
  {
   "cell_type": "markdown",
   "id": "225126f7",
   "metadata": {},
   "source": [
    "Q2. Name the four pillars of OOPs."
   ]
  },
  {
   "cell_type": "markdown",
   "id": "4401a022",
   "metadata": {},
   "source": [
    "The four pillars of Object-Oriented Programming (OOP) are:\n",
    "Encapsulation ,\n",
    "Abstraction ,\n",
    "Inheritance ,\n",
    "Polymorphism"
   ]
  },
  {
   "cell_type": "markdown",
   "id": "ea4104f5",
   "metadata": {},
   "source": [
    "Q3. Explain why the __init__() function is used. Give a suitable example."
   ]
  },
  {
   "cell_type": "markdown",
   "id": "845c2efb",
   "metadata": {},
   "source": [
    "In Object-Oriented Programming (OOP), the __init__() function (or constructor) is used to initialize the attributes of an object when it is created. It is a special method that is automatically called when an object is instantiated from a class. The purpose of __init__() is to ensure that the object is properly initialized and in a valid state before it can be used."
   ]
  },
  {
   "cell_type": "code",
   "execution_count": 3,
   "id": "45bd71a9",
   "metadata": {},
   "outputs": [
    {
     "name": "stdout",
     "output_type": "stream",
     "text": [
      "Hello, my name is DHANANJAY and I am 21 years old.\n"
     ]
    }
   ],
   "source": [
    "class Person:\n",
    "    def __init__(self, name, age):\n",
    "        self.name = name\n",
    "        self.age = age\n",
    "        \n",
    "    def say_hello(self):\n",
    "        print(f\"Hello, my name is {self.name} and I am {self.age} years old.\")\n",
    "person1 = Person(\"DHANANJAY\", 21)\n",
    "person1.say_hello()"
   ]
  },
  {
   "cell_type": "markdown",
   "id": "4b3b6540",
   "metadata": {},
   "source": [
    "Q4. Why self is used in OOPs?"
   ]
  },
  {
   "cell_type": "markdown",
   "id": "3eff8d87",
   "metadata": {},
   "source": [
    "In Object-Oriented Programming (OOP), self is used to refer to the current instance of a class. It is a reference to the object that is being operated on, and allows you to access its attributes and methods from within the class."
   ]
  },
  {
   "cell_type": "code",
   "execution_count": 4,
   "id": "cfa88968",
   "metadata": {},
   "outputs": [
    {
     "name": "stdout",
     "output_type": "stream",
     "text": [
      "Hello, my name is DHANANJAY and I am 21 years old.\n"
     ]
    }
   ],
   "source": [
    "class Person:\n",
    "    def __init__(self, name, age):\n",
    "        self.name = name\n",
    "        self.age = age\n",
    "        \n",
    "    def say_hello(self):\n",
    "        print(f\"Hello, my name is {self.name} and I am {self.age} years old.\")\n",
    "person1 = Person(\"DHANANJAY\", 21)\n",
    "person1.say_hello()"
   ]
  },
  {
   "cell_type": "markdown",
   "id": "abfb366b",
   "metadata": {},
   "source": [
    "Q5. What is inheritance? Give an example for each type of inheritance."
   ]
  },
  {
   "cell_type": "markdown",
   "id": "7ae6bf73",
   "metadata": {},
   "source": [
    "Inheritance is a mechanism in Object-Oriented Programming (OOP) that allows a new class to be based on an existing class, inheriting its attributes and methods. The new class is called the derived class or subclass, and the existing class is called the base class or superclass. Inheritance is used to promote code reuse, reduce code duplication, and promote a hierarchical organization of classes that reflects the real-world relationships between objects."
   ]
  },
  {
   "cell_type": "markdown",
   "id": "41b687b3",
   "metadata": {},
   "source": [
    "There are four types of inheritance:"
   ]
  },
  {
   "cell_type": "markdown",
   "id": "97e2ff10",
   "metadata": {},
   "source": [
    "Single Inheritance: In this type of inheritance, a derived class is created by inheriting the attributes and methods of a single base class. This is the most common type of inheritance. Here's an example:"
   ]
  },
  {
   "cell_type": "code",
   "execution_count": 5,
   "id": "613606cf",
   "metadata": {},
   "outputs": [
    {
     "name": "stdout",
     "output_type": "stream",
     "text": [
      "Woof!\n"
     ]
    }
   ],
   "source": [
    "class Animal:\n",
    "    def __init__(self, name):\n",
    "        self.name = name\n",
    "    \n",
    "    def speak(self):\n",
    "        print(\"The animal makes a sound.\")\n",
    "\n",
    "class Dog(Animal):\n",
    "    def __init__(self, name):\n",
    "        super().__init__(name)\n",
    "    \n",
    "    def speak(self):\n",
    "        print(\"Woof!\")\n",
    "\n",
    "dog1 = Dog(\"Buddy\")\n",
    "dog1.speak()  # Output: \"Woof!\"\n"
   ]
  },
  {
   "cell_type": "markdown",
   "id": "3d315d13",
   "metadata": {},
   "source": [
    "Multiple Inheritance: In this type of inheritance, a derived class is created by inheriting the attributes and methods of multiple base classes. Here's an example:"
   ]
  },
  {
   "cell_type": "code",
   "execution_count": 6,
   "id": "a27347cf",
   "metadata": {},
   "outputs": [
    {
     "name": "stdout",
     "output_type": "stream",
     "text": [
      "Chirp!\n",
      "The animal can fly.\n"
     ]
    }
   ],
   "source": [
    "class Animal:\n",
    "    def __init__(self, name):\n",
    "        self.name = name\n",
    "    \n",
    "    def speak(self):\n",
    "        print(\"The animal makes a sound.\")\n",
    "\n",
    "class CanFly:\n",
    "    def fly(self):\n",
    "        print(\"The animal can fly.\")\n",
    "\n",
    "class Bird(Animal, CanFly):\n",
    "    def __init__(self, name):\n",
    "        super().__init__(name)\n",
    "    \n",
    "    def speak(self):\n",
    "        print(\"Chirp!\")\n",
    "\n",
    "bird1 = Bird(\"Tweety\")\n",
    "bird1.speak()  # Output: \"Chirp!\"\n",
    "bird1.fly()    # Output: \"The animal can fly.\"\n"
   ]
  },
  {
   "cell_type": "markdown",
   "id": "810f8dc8",
   "metadata": {},
   "source": [
    "Multilevel Inheritance: In this type of inheritance, a derived class is created by inheriting from a base class, which itself is derived from another base class. Here's an example:"
   ]
  },
  {
   "cell_type": "code",
   "execution_count": 7,
   "id": "f61f0bbe",
   "metadata": {},
   "outputs": [
    {
     "name": "stdout",
     "output_type": "stream",
     "text": [
      "Yip!\n"
     ]
    }
   ],
   "source": [
    "class Animal:\n",
    "    def __init__(self, name):\n",
    "        self.name = name\n",
    "    \n",
    "    def speak(self):\n",
    "        print(\"The animal makes a sound.\")\n",
    "\n",
    "class Dog(Animal):\n",
    "    def __init__(self, name):\n",
    "        super().__init__(name)\n",
    "    \n",
    "    def speak(self):\n",
    "        print(\"Woof!\")\n",
    "\n",
    "class Puppy(Dog):\n",
    "    def speak(self):\n",
    "        print(\"Yip!\")\n",
    "\n",
    "puppy1 = Puppy(\"Buddy\")\n",
    "puppy1.speak()  # Output: \"Yip!\"\n"
   ]
  },
  {
   "cell_type": "markdown",
   "id": "28e588aa",
   "metadata": {},
   "source": [
    "Hierarchical Inheritance: In this type of inheritance, multiple derived classes are created from a single base class. Here's an example:"
   ]
  },
  {
   "cell_type": "code",
   "execution_count": 8,
   "id": "6a90cce9",
   "metadata": {},
   "outputs": [
    {
     "name": "stdout",
     "output_type": "stream",
     "text": [
      "Meow!\n",
      "Woof!\n"
     ]
    }
   ],
   "source": [
    "class Animal:\n",
    "    def __init__(self, name):\n",
    "        self.name = name\n",
    "    \n",
    "    def speak(self):\n",
    "        print(\"The animal makes a sound.\")\n",
    "\n",
    "class Cat(Animal):\n",
    "    def __init__(self, name):\n",
    "        super().__init__(name)\n",
    "    \n",
    "    def speak(self):\n",
    "        print(\"Meow!\")\n",
    "\n",
    "class Dog(Animal):\n",
    "    def __init__(self, name):\n",
    "        super().__init__(name)\n",
    "    \n",
    "    def speak(self):\n",
    "        print(\"Woof!\")\n",
    "\n",
    "cat1 = Cat(\"Fluffy\")\n",
    "cat1.speak()  # Output: \"Meow!\"\n",
    "\n",
    "dog1 = Dog(\"Buddy\")\n",
    "dog1.speak()  # Output: \"Woof!\"\n"
   ]
  },
  {
   "cell_type": "code",
   "execution_count": null,
   "id": "a91706bc",
   "metadata": {},
   "outputs": [],
   "source": []
  }
 ],
 "metadata": {
  "kernelspec": {
   "display_name": "Python 3 (ipykernel)",
   "language": "python",
   "name": "python3"
  },
  "language_info": {
   "codemirror_mode": {
    "name": "ipython",
    "version": 3
   },
   "file_extension": ".py",
   "mimetype": "text/x-python",
   "name": "python",
   "nbconvert_exporter": "python",
   "pygments_lexer": "ipython3",
   "version": "3.11.1"
  }
 },
 "nbformat": 4,
 "nbformat_minor": 5
}
