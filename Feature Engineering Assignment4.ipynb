{
 "cells": [
  {
   "cell_type": "markdown",
   "id": "b64bc8df-7e83-4667-9396-a01c232e135d",
   "metadata": {},
   "source": [
    "#### Q1. What is data encoding? How is it useful in data science?\n",
    "Data encoding is the process of converting categorical data into a numerical format that can be used by machine learning algorithms. Categorical data, such as labels or text, cannot be directly used in most machine learning models that require numerical input. Encoding is useful because it translates these categories into a format that allows algorithms to process and learn from the data.\n",
    "\n",
    "#### Q2. What is nominal encoding? Provide an example of how you would use it in a real-world scenario.\n",
    "Nominal encoding, also known as one-hot encoding, is a technique used to convert categorical data into a format that can be provided to machine learning algorithms. In this approach, each category value is converted into a new binary column, where each column represents a unique category and contains 0 or 1 to indicate the absence or presence of the category.\n",
    "\n",
    "**Example:** Suppose you are building a recommendation system for an online bookstore, and you have a categorical feature, \"Genre,\" with possible values: \"Fiction,\" \"Non-Fiction,\" and \"Mystery.\" You can use one-hot encoding to transform this feature into three binary columns:\n",
    "\n",
    "| Fiction | Non-Fiction | Mystery |\n",
    "|---------|-------------|---------|\n",
    "| 1       | 0           | 0       |\n",
    "| 0       | 1           | 0       |\n",
    "| 0       | 0           | 1       |\n",
    "\n",
    "#### Q3. In what situations is nominal encoding preferred over one-hot encoding? Provide a practical example.\n",
    "Nominal encoding is preferred when the categorical feature does not have any ordinal relationship, meaning the categories are not ordered or ranked. It is particularly useful when there are only a few categories, and there is no natural ordering.\n",
    "\n",
    "**Example:** For a categorical variable like \"Color\" (red, green, blue), there is no inherent ordering among these categories. Using one-hot encoding allows the model to treat them as separate and unrelated categories.\n",
    "\n",
    "#### Q4. Suppose you have a dataset containing categorical data with 5 unique values. Which encoding technique would you use to transform this data into a format suitable for machine learning algorithms? Explain why you made this choice.\n",
    "For a dataset with 5 unique categorical values, one-hot encoding would be an appropriate technique. This is because the number of unique values is relatively small, and one-hot encoding will create 5 new binary columns, one for each category. This transformation is manageable and ensures that the categorical data is properly represented in a format suitable for machine learning algorithms.\n",
    "\n",
    "#### Q5. In a machine learning project, you have a dataset with 1000 rows and 5 columns. Two of the columns are categorical, and the remaining three columns are numerical. If you were to use nominal encoding to transform the categorical data, how many new columns would be created? Show your calculations.\n",
    "If you use nominal encoding (one-hot encoding), the number of new columns created depends on the number of unique values in each categorical column.\n",
    "\n",
    "Assume the first categorical column has **n1** unique values.  \n",
    "Assume the second categorical column has **n2** unique values.  \n",
    "The total number of new columns created will be **(n1 + n2)**.\n",
    "\n",
    "For example, if **n1 = 4** and **n2 = 3**, the total number of new columns created would be:\n",
    "\n",
    "**n1 + n2 = 4 + 3 = 7** new columns.\n",
    "\n",
    "#### Q6. You are working with a dataset containing information about different types of animals, including their species, habitat, and diet. Which encoding technique would you use to transform the categorical data into a format suitable for machine learning algorithms? Justify your answer.\n",
    "One-hot encoding is suitable for transforming the categorical data (species, habitat, diet) because these features are nominal and do not have any ordinal relationship. For instance, \"species\" could be \"dog,\" \"cat,\" \"bird,\" etc., which are independent categories without any inherent order. The same applies to \"habitat\" (forest, ocean, desert) and \"diet\" (herbivore, carnivore, omnivore). One-hot encoding will represent each category separately, allowing the machine learning model to process the data effectively.\n",
    "\n",
    "#### Q7. You are working on a project that involves predicting customer churn for a telecommunications company. You have a dataset with 5 features, including the customer's gender, age, contract type, monthly charges, and tenure. Which encoding technique(s) would you use to transform the categorical data into numerical data? Provide a step-by-step explanation of how you would implement the encoding.\n",
    "\n",
    "1. **Identify the Categorical Features:**\n",
    "    - Gender: Categorical (e.g., \"Male,\" \"Female\")\n",
    "    - Contract Type: Categorical (e.g., \"Month-to-month,\" \"One year,\" \"Two years\")\n",
    "\n",
    "2. **Choose the Encoding Technique:**\n",
    "    - For \"Gender,\" use one-hot encoding since it is a nominal feature with only two categories. This will create a binary column for \"Male\" and \"Female.\"\n",
    "    - For \"Contract Type,\" use one-hot encoding as it is also nominal with no ordinal relationship, resulting in three binary columns: \"Month-to-month,\" \"One year,\" and \"Two years.\"\n",
    "\n",
    "3. **Implement the Encoding:**\n",
    "    Use a library like Pandas in Python to apply one-hot encoding:\n",
    "   "
   ]
  },
  {
   "cell_type": "code",
   "execution_count": 2,
   "id": "54556687-6ab4-4bbe-af61-b6960c1dcc31",
   "metadata": {},
   "outputs": [
    {
     "name": "stdout",
     "output_type": "stream",
     "text": [
      "   Age  Monthly Charges  Tenure  Gender_Female  Gender_Male  \\\n",
      "0   25             70.5      12          False         True   \n",
      "1   32             85.2      24           True        False   \n",
      "2   40             90.1      36           True        False   \n",
      "3   28             68.5      18          False         True   \n",
      "\n",
      "   Contract Type_Month-to-month  Contract Type_One year  \\\n",
      "0                          True                   False   \n",
      "1                         False                    True   \n",
      "2                         False                   False   \n",
      "3                          True                   False   \n",
      "\n",
      "   Contract Type_Two years  \n",
      "0                    False  \n",
      "1                    False  \n",
      "2                     True  \n",
      "3                    False  \n"
     ]
    }
   ],
   "source": [
    "import pandas as pd\n",
    "\n",
    "# Assuming df is your DataFrame\n",
    "df = pd.DataFrame({\n",
    "    'Gender': ['Male', 'Female', 'Female', 'Male'],\n",
    "    'Age': [25, 32, 40, 28],\n",
    "    'Contract Type': ['Month-to-month', 'One year', 'Two years', 'Month-to-month'],\n",
    "    'Monthly Charges': [70.5, 85.2, 90.1, 68.5],\n",
    "    'Tenure': [12, 24, 36, 18]\n",
    "})\n",
    "\n",
    "# Apply one-hot encoding\n",
    "df_encoded = pd.get_dummies(df, columns=['Gender', 'Contract Type'])\n",
    "\n",
    "# Display the resulting DataFrame\n",
    "print(df_encoded)\n"
   ]
  },
  {
   "cell_type": "markdown",
   "id": "f4dd622b-5e51-4a9c-8208-0d3c6e261a28",
   "metadata": {},
   "source": [
    "4. **Result:**\n",
    "    This will create new columns for each category in the dataset while removing the original categorical columns, transforming the data into a format suitable for machine learning algorithms.\n"
   ]
  }
 ],
 "metadata": {
  "kernelspec": {
   "display_name": "Python 3 (ipykernel)",
   "language": "python",
   "name": "python3"
  },
  "language_info": {
   "codemirror_mode": {
    "name": "ipython",
    "version": 3
   },
   "file_extension": ".py",
   "mimetype": "text/x-python",
   "name": "python",
   "nbconvert_exporter": "python",
   "pygments_lexer": "ipython3",
   "version": "3.11.8"
  }
 },
 "nbformat": 4,
 "nbformat_minor": 5
}
